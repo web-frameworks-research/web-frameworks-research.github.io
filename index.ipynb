{
 "cells": [
  {
   "cell_type": "markdown",
   "id": "97ebf4de",
   "metadata": {
    "papermill": {
     "duration": 0.014381,
     "end_time": "2024-05-08T04:09:14.643268",
     "exception": false,
     "start_time": "2024-05-08T04:09:14.628887",
     "status": "completed"
    },
    "tags": []
   },
   "source": [
    "# __Project WebCensus: Analyzing Web Data to Understand How Web Frameworks Impact Websites__\n",
    "## __Spring 2024 Data Science Project__\n",
    "\n",
    "Om Duggineni, Vishnu Kumar, Jason Wu"
   ]
  },
  {
   "cell_type": "markdown",
   "id": "900c78ad",
   "metadata": {
    "papermill": {
     "duration": 0.013839,
     "end_time": "2024-05-08T04:09:14.671151",
     "exception": false,
     "start_time": "2024-05-08T04:09:14.657312",
     "status": "completed"
    },
    "tags": []
   },
   "source": [
    "# Project Contributions:\n",
    "\n",
    "1. **Project idea** (5%) - Om Duggineni (5%)\n",
    "  - This project was Om's idea, initially.\n",
    "2. **Dataset Curation and Preprocessing** (10%) - Om Duggineni (10%), Vishnu Kumar (5%), Jason (5%)\n",
    "  - Om did all the initial steps of dataset curation, including sourcing data from the WhatRuns website, building the initial steps such as the web scraping script, JavaScript tricks for loading data from the WhatRuns website, and the IP address instrumentation script\n",
    "  - Vishnu and Jason helped with the process of data loading and changing data types in the final dataset, as well as with a few minor filtering steps to make the dataset fit in memory (including filtering less-popular sites from the dataset by limiting the \"popularity rank\" of websites used), allowing us to proceed with further exploratory data analysis steps.\n",
    "3. **Data Exploration and Summary Statistics** (10%) - all\n",
    "  - Part 2 (on Exploratory Data Analysis) was split evenly, with Vishnu doing conclusion #1, Jason doing conclusion #2, and Om doing conclusion #3\n",
    "4. **ML Algorithm Design/Development** (25%) - all\n",
    "  - Om wrote the preprocessing code for converting the dataset into a format that the ML model understood (this involved parsing the JSON web framework data into the one-hot encoded form that the model uses). This helped inform the design and developement of the ML model.\n",
    "  - Jason and Vishnu worked on the code for training the ML model using a Random Forest-based algorithm\n",
    "5. **ML Algorithm Training and Test Data Analysis** (20%) - all\n",
    "  - Om worked on the code for loading data into the model and suggested Random Forests as a possible model to use\n",
    "  - Vishnu and Jason worked on the code for training the model and displaying the results of training said model\n",
    "6. **Visualization, Result Analysis, Conclusion** (15%) - all\n",
    "7. **Final Tutorial Report Creation** (10%) - all\n",
    "  - Om wrote part 1 of the final project tutorial report (on collecting the data), including images and the Hilbert-space IP address map.\n",
    "  - Vishnu wrote part 2 of the final project tutorial report, \n",
    "  - Part 3 was split among us three evently, with Vishnu doing conclusion #1, Jason doing conclusion #2, and Om doing conclusion #3\n",
    "  - The preprocessing part of part 4 was done my Om, and the actual training code was split between Vishnu and Jason\n",
    "  - Part 5 was evenly split between Vishnu and Jason.\n",
    "8. **Additional (not listed above, if any)** (5%) - all\n",
    "\n",
    "Note: parts 3, 4, 5, 6, and 7 were done together in a zoom call\n",
    "\n",
    "Member 1: Om Duggineni - 100%\n",
    "\n",
    "Member 2: Vishnu Kumar - 90%\n",
    "\n",
    "Member 3: Jason -Wu  90%\n",
    "\n",
    "\n",
    "We, all team members, agree together that the above information is true, and we are confident about our contributions to this submitted project/final tutorial.\n",
    "\n",
    "- Om Duggineni, Vishnu Kumar, Jason Wu \n",
    "\n",
    "Date: 5/7/2024"
   ]
  },
  {
   "cell_type": "markdown",
   "id": "9df71fee",
   "metadata": {
    "papermill": {
     "duration": 0.014562,
     "end_time": "2024-05-08T04:09:14.704030",
     "exception": false,
     "start_time": "2024-05-08T04:09:14.689468",
     "status": "completed"
    },
    "tags": []
   },
   "source": [
    "# Explanation of roles\n",
    "\n",
    "**Om Duggineni:**\n",
    "- Wrote the initial scripts to collect the dataset\n",
    "- Wrote Part 1 of the final project tutorial report, on collecting the dataset\n",
    "- Wrote the dataset preprocessing notebooks\n",
    "- Wrote the scripts analyzing the WhatRuns objects and parsing them for use in the random forest model, assisted in fixing bugs\n",
    "- Did conclusion 3 in exploratory data analysis\n",
    "\n",
    "**Jason:**\n",
    "- Assisted in the preprocessing stage by condensing redundant columns as well as handling missing values\n",
    "- Did Analysis and conclusion 2 in the exploratory analysis\n",
    "- Worked on splitting the data set, training the data, and getting evaluation \n",
    "alues such as the mean squared error and $r^2$ coefficient\n",
    "\n",
    "**Vishnu:**\n",
    "- Wrote Part 2 of the final project tutorial report \n",
    "- Did analysis and conclusion 1 in explorartory analysis \n",
    "- Worked on main model as well as the visualization of RandomForestRegressor\n",
    "- Assisted with minor formatting/styling "
   ]
  },
  {
   "cell_type": "markdown",
   "id": "df39f45a",
   "metadata": {
    "papermill": {
     "duration": 0.013639,
     "end_time": "2024-05-08T04:09:14.731360",
     "exception": false,
     "start_time": "2024-05-08T04:09:14.717721",
     "status": "completed"
    },
    "tags": []
   },
   "source": [
    "# Library Imports"
   ]
  },
  {
   "cell_type": "code",
   "execution_count": 1,
   "id": "0c1a1e53",
   "metadata": {
    "execution": {
     "iopub.execute_input": "2024-05-08T04:09:14.760484Z",
     "iopub.status.busy": "2024-05-08T04:09:14.760129Z",
     "iopub.status.idle": "2024-05-08T04:09:32.520319Z",
     "shell.execute_reply": "2024-05-08T04:09:32.519235Z"
    },
    "papermill": {
     "duration": 17.777657,
     "end_time": "2024-05-08T04:09:32.522887",
     "exception": false,
     "start_time": "2024-05-08T04:09:14.745230",
     "status": "completed"
    },
    "tags": []
   },
   "outputs": [
    {
     "name": "stdout",
     "output_type": "stream",
     "text": [
      "Note: you may need to restart the kernel to use updated packages.\n"
     ]
    }
   ],
   "source": [
    "%pip install --quiet numpy-hilbert-curve\n",
    "import matplotlib.pyplot as plt # matplotlib, for plotting\n",
    "import matplotlib.patches as mpatches\n",
    "import numpy as np # numpy, for numerical processing\n",
    "import pandas as pd # pandas, for data processing\n",
    "import hilbert # the IP address visualization\n",
    "import json # json, for parsing WhatRuns objects\n",
    "from tqdm.auto import tqdm, trange # tqdm, for creating progress bars\n",
    "import random # for randomization of values\n",
    "from sklearn.model_selection import train_test_split # for splitting data into a train and test dataset\n",
    "from sklearn.ensemble import RandomForestRegressor # random forest model for regression\n",
    "from sklearn.metrics import mean_squared_error, r2_score # metrics for evaluating the model\n",
    "from joblib import parallel_backend # for making scikit-learn training faster\n",
    "import re # for parsing and editing strings\n",
    "from scipy.stats import kruskal, ttest_ind, f_oneway, contingency as cont, mannwhitneyu # for Kruskal-Wallis testing, t-testing, ANOVA testing, and contingency table testing\n",
    "from statsmodels.stats.multitest import multipletests # used for pairwise testing\n",
    "from functools import reduce # used to join a list of sets together into one big set\n",
    "import sys # sys.intern() for saving memory when having a bunch of strings loaded\n",
    "\n",
    "\n",
    "%matplotlib inline"
   ]
  },
  {
   "cell_type": "markdown",
   "id": "a7b41f8c",
   "metadata": {
    "papermill": {
     "duration": 0.01374,
     "end_time": "2024-05-08T04:09:32.551430",
     "exception": false,
     "start_time": "2024-05-08T04:09:32.537690",
     "status": "completed"
    },
    "tags": []
   },
   "source": [
    "# __Introduction__\n",
    "\n",
    "The main goal of our project is to do a \"census\" of the most popular 10 billion websites on the internet. To this end, this project gathers metadata for these websites, including website preformance metrics, popularity, and internal insights into what web frameworks these websites run on.\n",
    "\n",
    "The main question we're trying to answer is what frameworks are most widely used and for what type of website are they used for? This is an important question as understanding what frameworks work well for top websites can point us to why they are so popular and what attributes about them make them work so well for certain functions. Some other questions were trying to answer are what domains are more popular on certain devices and if using a cloud provider affects website preformance? These questions are also important as they find out what websites are more common on certain devices and possibly why this may be occurring as well as understanding the importance of cloud providers and when they are necessary."
   ]
  },
  {
   "cell_type": "markdown",
   "id": "cb56a3bc",
   "metadata": {
    "papermill": {
     "duration": 0.01391,
     "end_time": "2024-05-08T04:09:32.579580",
     "exception": false,
     "start_time": "2024-05-08T04:09:32.565670",
     "status": "completed"
    },
    "tags": []
   },
   "source": [
    "## __Part 1: Obtaining The Data__\n",
    "\n",
    "This project involves a large dataset, assembled from a combination of web scraping techniques, DNS lookup info, and the data present within the Chrome User Experience Report (CrUX) dataset. This involves the following steps:\n",
    "\n",
    "- Gathering a list of websites from the CrUX dataset using Google's BigQuery tool, giving us information such as performance metrics and relative popularity\n",
    "- Scraping a Chrome extension in order to determine what frameworks the website runs, giving us a list of frameworks the website runs\n",
    "- Using DNS instrumentation in order to detect the most common public cloud providers, allowing us to determine whether a website uses a particular cloud provider for their public-facing servers.\n",
    "\n",
    "The scripts we used for web scraping are publicly avaliable on GitHub at https://github.com/web-frameworks-research/web_framework_scraper. They were run using a series of Jupyter notebooks which are avaliable at https://github.com/web-frameworks-research/conversion_and_analysis_pipeline."
   ]
  },
  {
   "cell_type": "markdown",
   "id": "cfac9d5e",
   "metadata": {
    "papermill": {
     "duration": 0.013981,
     "end_time": "2024-05-08T04:09:32.607741",
     "exception": false,
     "start_time": "2024-05-08T04:09:32.593760",
     "status": "completed"
    },
    "tags": []
   },
   "source": [
    "### __1.1: Downloading Data from the CrUX dataset using BigQuery__\n",
    "\n",
    "The Chrome User Experience Report (CrUX) dataset is publicly avaliable to anybody with a Google account. To do so, follow these steps:\n",
    "\n",
    "1. First, go to the Google Cloud console at https://console.cloud.google.com/, and create a new project.\n",
    "\n",
    "![An image showing the Google Cloud console](google-cloud-1.png)\n",
    "\n",
    "2. Follow this link to view the CrUX dataset: [CrUX dataset on BigQuery](https://console.cloud.google.com/bigquery?p=chrome-ux-report&d=all&page=dataset)\n",
    "\n",
    "3. Use BigQuery tools to export the [`device_summary`](https://developer.chrome.com/docs/crux/bigquery#schema-device-summary) table to sharded, gzipped CSV files, which can later be loaded into the rest of the preprocessing and analysis pipeline.\n",
    "\n",
    "This project uses the [`device_summary`](https://developer.chrome.com/docs/crux/bigquery#schema-device-summary) table for it's analysis. This table contains aggregated data around website performance by domain and device form factor, including website popularity and performance metrics. We can save significant amounts of compute time and storage space by using this table directly instead of downloading the entire dataset."
   ]
  },
  {
   "cell_type": "markdown",
   "id": "042075d7",
   "metadata": {
    "papermill": {
     "duration": 0.013803,
     "end_time": "2024-05-08T04:09:32.635743",
     "exception": false,
     "start_time": "2024-05-08T04:09:32.621940",
     "status": "completed"
    },
    "tags": []
   },
   "source": [
    "### __1.2: Using web scraping to find web framework data__\n",
    "\n",
    "#### What are web frameworks?\n",
    "\n",
    "Most websites use some set of *web frameworks*, in addition to their own HTML and JavaScript code, in order to reduce code repetition and make building complex user interfaces easier. These web frameworks come in a variety of for\n",
    "\n",
    "#### What is WhatRuns?\n",
    "\n",
    "WhatRuns.com is a very cool Chrome extension that can determine what web frameworks a website uses. It works by using a proprietary pattern recognition algorithm to identify frameworks, such as React, Angular, jQuery, and Bootstrap, that are responsible for running the website.\n",
    "\n",
    "You can use the WhatRuns Chrome extension [here](https://chromewebstore.google.com/detail/whatruns/cmkdbmfndkfgebldhnkbfhlneefdaaip). The extension internally renders the page at `https://www.whatruns.com/website/<website's domain name>`, allowing one to look at the data for any particular website without downloading the Chrome extension.\n",
    "\n",
    "#### Original Attempt - `puppeteer`\n",
    "\n",
    "For the original attempt at scraping data from the WhatRuns website, we used the `puppeteer` framerwork to open the WhatRuns website in a headless (no graphics display) version of the Google Chrome browser. However, this attempt ran into a few issues:\n",
    "\n",
    "- All assets (such as images) had to be loaded from the website each time we opened \n",
    "- High CPU and memory usage from opening tens or hundreds of headless browser tabs at once\n",
    "- Performance issues - Due to the above issues, we can only measure the frameworks for two to five websites per second. This was too slow.\n",
    "\n",
    "#### JavaScript tricks - Runtime Scope Inspection\n",
    "\n",
    "Since loading the website in a headless browser is far too slow, we needed to find a method that worked faster for this website. It turns out that, to display the list of web frameworks in a website, whatruns.com uses JavaScript code that is hardcoded in a `<script>` tag and generated server-side. This means that the code displaying this list, at some point, sets a variable to a JavaScript object containing the list of frameworks. We can take advantage of this fact by running the code in an environment that does *just enough* work to pretend that it is a proper web environment while not actually doing the difficult work of running an entire browser behind the scenes.\n",
    "\n",
    "Here's an example of what a WhatRuns page script can look like:\n",
    "\n",
    "```javascript\n",
    "function t(e) {\n",
    "  try {\n",
    "    return e.replace(/\\w\\S*/g,\n",
    "    function(e) {\n",
    "      return e.charAt(0).toUpperCase() + e.substr(1).toLowerCase()\n",
    "    })\n",
    "  } catch(e) {\n",
    "    console.log(e)\n",
    "  }\n",
    "  return e\n",
    "}\n",
    "var s = {\n",
    "  1687114783164 : {\n",
    "    \"Javascript Frameworks\": [{\n",
    "      name: \"Knockout.js\",\n",
    "      category: 12,\n",
    "      icon: \"Knockout.js.png\",\n",
    "      index: \"383\",\n",
    "      sourceUrl: \"https://intune.microsoft.com/\",\n",
    "      detectedTime: 1687114783164,\n",
    "      latestDetectedTime: 1687114783164,\n",
    "      website: \"https://www.whatruns.com/click/?target=knockoutjs.com\",\n",
    "      siteListUrl: \"https://www.whatruns.com/technology/knockout-js\"\n",
    "    },\n",
    "    {\n",
    "      name: \"RequireJS\",\n",
    "      category: 12,\n",
    "      icon: \"RequireJS.png\",\n",
    "      index: \"616\",\n",
    "      sourceUrl: \"https://intune.microsoft.com/\",\n",
    "      detectedTime: 1687114783164,\n",
    "      latestDetectedTime: 1687114783164,\n",
    "      website: \"https://www.whatruns.com/click/?target=requirejs.org\",\n",
    "      siteListUrl: \"https://www.whatruns.com/technology/requirejs\"\n",
    "    },\n",
    "    {\n",
    "      name: \"jQuery\",\n",
    "      category: 12,\n",
    "      icon: \"jQuery.png\",\n",
    "      index: \"894\",\n",
    "      sourceUrl: \"https://intune.microsoft.com/\",\n",
    "      detectedTime: 1687114783164,\n",
    "      latestDetectedTime: 1687114783164,\n",
    "      website: \"https://www.whatruns.com/click/?target=jquery.com\",\n",
    "      siteListUrl: \"https://www.whatruns.com/technology/jquery\"\n",
    "    }]\n",
    "  }\n",
    "},\n",
    "n = 0,\n",
    "a = document,\n",
    "c = a.getElementById(\"tech-info\"),\n",
    "i = a.getElementById(\"even\"),\n",
    "o = a.getElementById(\"odd\");\n",
    "for (var r in s) {\n",
    "  var l = s[r];\n",
    "  Object.keys(l).forEach(function(e) {\n",
    "    var s = o;\n",
    "    n % 2 == 0 && (s = i),\n",
    "    $(s).append($(\"<div>\", {\n",
    "      class: \"techs-list\",\n",
    "      \"data-name\": e\n",
    "    }).append($(\"<div>\", {\n",
    "      class: \"category-name\"\n",
    "    }).text(e)).append($(\"<div>\", {\n",
    "      class: \"border\"\n",
    "    })));\n",
    "    try {\n",
    "      var a = l[e],\n",
    "      c = \"\",\n",
    "      r = \"\",\n",
    "      d = \"\",\n",
    "      p = a.length;\n",
    "      for (var m in a) {\n",
    "        var u = a[m];\n",
    "        if (\"false\" != u.enabled) {\n",
    "          var h = \"https://www.whatruns.com/images/icons/\" + u.icon;\n",
    "          if (void 0 === u.parentElement) {\n",
    "            void 0 !== u.website && u.website;\n",
    "            void 0 !== u.siteListUrl && u.siteListUrl;\n",
    "            var w = u.name + \" \";\n",
    "            void 0 !== u.version && (w += u.version),\n",
    "            d = $(\"<div>\", {\n",
    "              class: \"current-tech-info\"\n",
    "            }).append($(\"<img>\", {\n",
    "              class: \"icon\",\n",
    "              src: h\n",
    "            })).append($(\"<div>\", {\n",
    "              class: \"tech-name\"\n",
    "            }).text(w))\n",
    "          } else void 0 !== u.theme && (c += t(u.name) + \", \"),\n",
    "          void 0 !== u.plugin && (r += t(u.name) + \", \");\n",
    "          $(s).append($(d))\n",
    "        } else 1 == p && $(s).find('div[data-name=\"' + e + '\"]').remove()\n",
    "      }\n",
    "      c.split(\",\").length > 1 && $(s).append($(\"<div>\", {\n",
    "        class: \"current-tech-info sub-element\"\n",
    "      }).append($(\"<span>\", {\n",
    "        class: \"label label-default\"\n",
    "      }).text(\"Theme\")).append($(\"<span>\", {\n",
    "        class: \"themes-list\"\n",
    "      }).text(self.removeLastComma(c)))),\n",
    "      r.split(\",\").length > 1 && $(s).append($(\"<div>\", {\n",
    "        class: \"current-tech-info sub-element\"\n",
    "      }).append($(\"<span>\", {\n",
    "        class: \"label label-default\"\n",
    "      }).text(\"Plugins\")).append($(\"<span>\", {\n",
    "        class: \"plugins-list\"\n",
    "      }).text(self.removeLastComma(r))))\n",
    "    } catch(e) {\n",
    "      console.log(e)\n",
    "    }\n",
    "    n++\n",
    "  })\n",
    "}\n",
    "if (n <= 0) {\n",
    "  c.innerHTML = c.innerHTML + '<div class=\"techs-list text-center no-apps\"><div class=\"category-name no-apps\">No Apps found </div></div>'\n",
    "}\n",
    "```\n",
    "\n",
    "We can use a module such as [`node:vm`](https://nodejs.org/api/vm.html) to execute this code directly inside our web scraping script without having to launch any browser at all! In order to fake functions like jQuery's `$` function, we can add a `Proxy` object to this code that pretends to be jQuery *just enough* that the code we're running doesn't suspect a thing. See below:\n",
    "\n",
    "```javascript\n",
    "// an object that will always return itself \n",
    "// any of its properties will also return itself\n",
    "// with the exception of any properties in \"exceptions\"\n",
    "// it is also a function that will return itself\n",
    "function any(exceptions = {}) {\n",
    "    let obj = new Proxy(() => { return obj }, {\n",
    "        get: (target, prop) => {\n",
    "            if(prop in exceptions) {\n",
    "                return exceptions[prop];\n",
    "            }\n",
    "            return obj;\n",
    "        },\n",
    "        getPrototypeOf: () => {\n",
    "            return obj;\n",
    "        },\n",
    "    });\n",
    "    return obj;\n",
    "}\n",
    "```\n",
    "\n",
    "As `node:vm` allows us to take a javascript object and set this as the global scope for the WhatRuns script, we can create a JavaScript objet and set values such as `$` (the jQuery object) and `console` (the console.log API) to this object to allow the WhatRuns script to execute without crashing. After this is done, we can access the value of the variable containing the data as our final script output.\n",
    "\n",
    "One complication to be noted here is that the names of the variables in this script are generally randomly generated, and the name of the variable that holds the WhatRuns framework data happens to not be consistent across different pages in the WhatRuns dataset. One way around this is to *inspect* all variables in the script, and determine which one holds the WhatRuns object (in this case, it would be variable `s`). This uses the below code:\n",
    "\n",
    "```javascript\n",
    "function checkTechNamesSchema(value, check_empty_object = true) {\n",
    "    if(value === undefined || value === null) {\n",
    "        return false;\n",
    "    }\n",
    "    if(typeof value !== 'object') {\n",
    "        return false;\n",
    "    }\n",
    "    if (util.types.isProxy(value)) {\n",
    "        return false;\n",
    "    }\n",
    "    if (value instanceof Array || value instanceof String || value instanceof Number || value instanceof Function) {\n",
    "        return false;\n",
    "    }\n",
    "    let keys = Object.keys(value);\n",
    "    if (check_empty_object && keys.length === 0) {\n",
    "        return false;\n",
    "    }\n",
    "    for (let key of keys) {\n",
    "        if(typeof key !== 'string') {\n",
    "            return false;\n",
    "        }\n",
    "        let intValue = parseInt(key);\n",
    "        if (isNaN(intValue) || intValue < 0) {\n",
    "            return false;\n",
    "        }\n",
    "    }\n",
    "    return true;\n",
    "}\n",
    "\n",
    "let objectCandidates = Object.entries(techNamesScriptContext).filter((entry) => checkTechNamesSchema(entry[1]));\n",
    "```\n",
    "\n",
    "After running these scripts, we end up with a JSON object for each website, containing the list of frameworks the website uses, categorized by the categories that WhatRuns uses to represent web frameworks. This improved method allows us to get the framework data for websites at a rate of over 40 websites per second, an 8-20x improvement over our previous attempt!"
   ]
  },
  {
   "cell_type": "markdown",
   "id": "b501e5bc",
   "metadata": {
    "papermill": {
     "duration": 0.01357,
     "end_time": "2024-05-08T04:09:32.663225",
     "exception": false,
     "start_time": "2024-05-08T04:09:32.649655",
     "status": "completed"
    },
    "tags": []
   },
   "source": [
    "### __1.3 IP Address Instrumentation - Finding Cloud Providers a website is hosted on using DNS and IP Addresses__\n",
    "\n",
    "The final step of creating this dataset involves using the IP addresses of the websites (found using queries made through the DNS system) to determine what cloud provider the website runs on.\n",
    "\n",
    "We can obtain a database of IP address ranges that cloud providers use from the following sources:\n",
    "- Amazon Web Services: https://docs.aws.amazon.com/vpc/latest/userguide/aws-ip-ranges.html\n",
    "- Microsoft Azure: https://www.microsoft.com/en-us/download/details.aspx?id=56519\n",
    "- Google Cloud: https://support.google.com/a/answer/10026322\n",
    "- Cloudflare: https://www.bing.com/search?q=cloudflare+ip+ranges&PC=U316&FORM=CHROMN\n",
    "- GitHub Pages: https://docs.github.com/en/pages/configuring-a-custom-domain-for-your-github-pages-site/managing-a-custom-domain-for-your-github-pages-site#dns-records-for-your-custom-domain\n",
    "\n",
    "Creating this database then simply involves parsing all the IP address ranges and arranging them into a list, pairing each range with a label in order to determine which cloud provider belongs to. We can then query this database by using DNS to find the website's IP address from its domain name. Note that this process does not actually involve visiting the website in question, but rather visiting DNS servers to find the website's IP address. This involves the below code:\n",
    "\n",
    "```javascript\n",
    "import Tangerine from 'tangerine';\n",
    "dns.setServers([\n",
    "    // The Cloudflare DNS servers\n",
    "    \"1.1.1.1\", \n",
    "    \"1.0.0.1\",\n",
    "    // Google Public DNS\n",
    "    \"8.8.8.8\", \n",
    "    \"8.8.4.4\"\n",
    "]);\n",
    "const ipAddresses = (await dns.lookup(domainName, { all: true })).map((result) => result.address);\n",
    "```\n",
    "\n",
    "(note that this part of the project is done in Node.js, as it uses Node's async features to speed up execution by making multiple DNS queries at once)\n",
    "\n",
    "In order to figure out what IP range a specific IP address is part of, we can use a binary range search. This works by converting our list of CIDR IP addresses into variable-length bigints and then sorting the list by the start point. Because the IP address ranges are guaranteed not to overlap, we can find the range a particular IP belongs to in $O(lg(n))$ time using the below algorithm:\n",
    "\n",
    "```javascript\n",
    "function rangeListBinaryCheck(num, rangeList) {\n",
    "    let left = 0;\n",
    "    let right = rangeList.length - 1;\n",
    "    \n",
    "    while (left <= right) {\n",
    "        const mid = Math.floor((left + right) / 2);\n",
    "        const [start, end] = rangeList[mid];\n",
    "\n",
    "        if (num >= start && num <= end) {\n",
    "            return mid; // Number is within the current range\n",
    "        } else if (num < start) {\n",
    "            right = mid - 1; // Search the left half\n",
    "        } else {\n",
    "            left = mid + 1; // Search the right half\n",
    "        }\n",
    "    }\n",
    "\n",
    "    return null; // Number is not within any range\n",
    "}\n",
    "```\n",
    "\n",
    "Here's a cool mapping of all the IPv4 addresses in the internet, [arranged in](https://blog.benjojo.co.uk/post/scan-ping-the-internet-hilbert-curve) a [Hilbert curve](https://en.wikipedia.org/wiki/Hilbert_curve) shape and categorized by what cloud provider they belong to based on the analysis. As a cool exercise, consider comparing this to xkcd's [Map of the Internet](https://xkcd.com/195/) from 2006 in order to see how they align! There's some interesting insights to be gained in terms of how ownership of the IPv4 space has changed over time."
   ]
  },
  {
   "cell_type": "code",
   "execution_count": 2,
   "id": "6e3ceb03",
   "metadata": {
    "execution": {
     "iopub.execute_input": "2024-05-08T04:09:32.693345Z",
     "iopub.status.busy": "2024-05-08T04:09:32.692286Z",
     "iopub.status.idle": "2024-05-08T04:10:11.621774Z",
     "shell.execute_reply": "2024-05-08T04:10:11.620652Z"
    },
    "metadata": {},
    "papermill": {
     "duration": 38.94699,
     "end_time": "2024-05-08T04:10:11.624055",
     "exception": false,
     "start_time": "2024-05-08T04:09:32.677065",
     "status": "completed"
    },
    "tags": []
   },
   "outputs": [
    {
     "data": {
      "application/vnd.jupyter.widget-view+json": {
       "model_id": "b28746edbedb4889af390f45af3bc112",
       "version_major": 2,
       "version_minor": 0
      },
      "text/plain": [
       "  0%|          | 0/65236 [00:00<?, ?it/s]"
      ]
     },
     "metadata": {},
     "output_type": "display_data"
    },
    {
     "data": {
      "image/png": "[encoded data removed]",
      "text/plain": [
       "<Figure size 1200x1200 with 1 Axes>"
      ]
     },
     "metadata": {},
     "output_type": "display_data"
    }
   ],
   "source": [
    "ipAddresses = json.load(open(\"/kaggle/input/cmsc320-list-of-ipv4-address-ranges/allIPv4Addresses.json\"))\n",
    "    \n",
    "colormap = {\n",
    "    \"Google Cloud\": np.array([52, 168, 84]),\n",
    "    \"Amazon Web Services\": np.array([255, 255, 255]),\n",
    "    \"Microsoft Azure\": np.array([7, 121, 213]),\n",
    "    \"Cloudflare\": np.array([246, 130, 30]),\n",
    "    \"GitHub Pages\": np.array([88, 64, 125])\n",
    "}\n",
    "\n",
    "def bit_count_is_one(n):\n",
    "    while n:\n",
    "        if n & 1:\n",
    "            n = n >> 1\n",
    "            return n == 0\n",
    "        else:\n",
    "            n = n >> 1\n",
    "\n",
    "def plot_hilbert_map(ip_list, resolution=255):\n",
    "    map = np.zeros(shape=(resolution, resolution, 3), dtype=np.uint8)\n",
    "    if resolution > 65536:\n",
    "        raise ValueError(\"The maximum supported resolution is 65536x65536 pixels.\")\n",
    "    if not bit_count_is_one(resolution):\n",
    "        raise ValueError(\"The resolution must be a power of 2.\")\n",
    "    ip_range_step = max((2**32 // (resolution * resolution)), 1)\n",
    "    for i in trange(len(ip_list)):\n",
    "        ip_nums = np.arange(int(ip_list[i][0][0]), int(ip_list[i][0][1]), ip_range_step, dtype=np.uint32)\n",
    "        ip_coords = hilbert.decode(ip_nums, 2, 16)\n",
    "        ip_coords = (ip_coords * resolution) // 65536\n",
    "\n",
    "        map[ip_coords[..., 1], ip_coords[..., 0]] = colormap[ip_list[i][1]]\n",
    "\n",
    "        # This distinguishes between different subnets owned by the same provider, good if looking at data closely\n",
    "        # disabled to avoid info overload\n",
    "        #map[ip_coords[..., 1], ip_coords[..., 0]] = np.clip(np.clip(colormap[ip_list[i][1]] + np.random.randint(-10, 0, size=3), 0, 255) + np.random.randint(0, 10, size=3), 0, 255)\n",
    "    plt.figure(figsize=(12, 12))\n",
    "    plt.title(\"The IPv4 address space, as owned by public cloud providers\")\n",
    "    plt.axis('off')\n",
    "    plt.imshow(map, interpolation='nearest')\n",
    "    patches = [mpatches.Patch(color=[v/255 for v in color], label=name) for name, color in colormap.items()]\n",
    "    plt.legend(handles=patches, loc=[1.02, 0.85])\n",
    "\n",
    "    plt.imsave(\"map.png\", map)\n",
    "\n",
    "random.shuffle(ipAddresses)\n",
    "#plot_hilbert_map([[[127*(2**24), 128*(2**24)], \"Amazon Web Services\"]], resolution=256)\n",
    "plot_hilbert_map(ipAddresses, resolution=512)\n",
    "plt.show()"
   ]
  },
  {
   "cell_type": "markdown",
   "id": "d42192aa",
   "metadata": {
    "papermill": {
     "duration": 0.014629,
     "end_time": "2024-05-08T04:10:11.653784",
     "exception": false,
     "start_time": "2024-05-08T04:10:11.639155",
     "status": "completed"
    },
    "tags": []
   },
   "source": [
    "### __1.4. Downloading and Preprocessing Data__\n",
    "\n",
    "The initial data from the CrUX was uploaded to Kaggle as a private dataset, from which we used Kaggle Notebooks to perform preprocessing and analysis. This was spread between a set of multiple Kaggle notebooks to take advantage of a feature Kaggle offers known as pipelines. Effectively, Kaggle allows us to have one version of a notebook depend on other notebooks (including the last successful version of itself) or on private/public datasets (allowing for up to 100GB of private datasets per user and unlimited public datasets). This allows us to \"cache\" outputs of each stage of the preprocessing pipeline so that previous stages do not need to be run again. The best part is that this \"cache\" storage is free, because Kaggle does not limit storage output from notebooks, only storage uploaded through datasets.\n",
    "\n",
    "Notebooks used for preprocessing data, as well as other scripts called by these notebooks, are avaliable in this GitHub repository: https://github.com/web-frameworks-research/web_framework_scraper.\n",
    "\n",
    "Kaggle has a feature known as \"Save and Run All\" that allows running a notebook in the background. This was used to allow repeatedly running a background task, for about nine hours at a time, to gather data on a virtual machine. We used the \"pipeline\" ability of one particular notebook to link this notebook's output back to its input, allowing the notebook to persist data between runs and revert back to the last successful state if an error occurs. Gathering the dataset took a total of 196 virtual machine hours, equivalent to 784 CPU-core hours. The process of doing so was mostly I/O-bound. We were able to do all processing within Kaggle's free tier, as we did not need any GPUs."
   ]
  },
  {
   "cell_type": "markdown",
   "id": "079620de",
   "metadata": {
    "papermill": {
     "duration": 0.014699,
     "end_time": "2024-05-08T04:10:11.683241",
     "exception": false,
     "start_time": "2024-05-08T04:10:11.668542",
     "status": "completed"
    },
    "tags": []
   },
   "source": [
    "# __Part 2: Explanation of the Dataset__\n",
    "\n",
    "There are a plethora of features in this dataset. \n",
    "\n",
    "__Performance metric statistics__:\n",
    "For each of the \"metrics\" columns below, these four statistics are avaliable in the dataset.\n",
    "- fast_`<metric>`: the percentage of websites that have a \"fast\" value for the metric\n",
    "- slow_`<metric>`: the percentage of websites that have a \"slow\" value for the metric\n",
    "- avg_`<metric>`: the percentage of websites that have a \"average\" value for the metric\n",
    "- p75_`<metric>`: the 75th percentile value of the metric\n",
    "\n",
    "__Metrics__:\n",
    "- fp (First Paint): measures the time taken to render the first visual element on the screen\n",
    "- fcp (First Contentful Paint): measures the time taken to render the first contentful element \n",
    "- dcl (DOMContentLoaded): measures the time at which the HTML document has been completelty loaded and parsed\n",
    "- ol (onload): measures the time it takes for the entire page to fully load \n",
    "- fid (First Input Delay): measures the time from when a user first interacts with the website\n",
    "- ttfb (Time to First Byte): measures the time for a user's browser to receive the first byte of page content from the server\n",
    "- cls (Cumulative Layour Shift): measures the sum of all individual layout shift scores for every unexpceted layout shift that occurs\n",
    "- lcp (Largest Contentful Paint): measures the render time of largest image/text bloc\n",
    "- inp (Interaction to Next Paint): measures how quickly a website responds to user interactions\n",
    "\n",
    "For more information on these metrics, check out: https://web.dev/explore/metrics.\n",
    "\n",
    "__Popularity Metrics__: \n",
    "\n",
    "- rank: a rank of how popular the website is, rounded up to the closest bucket:\n",
    "    - top 1,000\n",
    "    - top 5,000\n",
    "    - top 10,000\n",
    "    - top 50,000\n",
    "    - top 100,000\n",
    "    - top 500,000\n",
    "    - top 1,000,000\n",
    "    - top 5,000,000\n",
    "    - top 10,000,000\n",
    "    - top 50,000,000\n",
    "\n",
    "In our dataset, websites in the \"top 50,000,000\" bucket were omitted, as we only collected data for the top 10 million websites. This analysis uses the top 1 million websites only, as this is the limit for how much fits in memory on the device where we are doing this analysis. As a future step, we may get a device with more memory or explore alternative options so that we can actually run the full analysis.\n",
    "\n",
    "- deviceDensity: the percent of total requests to the domain that come from this device type\n",
    "\n",
    "\n",
    "__Web Frameworks__:\n",
    "\n",
    "- detectedCloudPlatforms: these are the cloud platforms that are detected on the website\n",
    "\n",
    "- whatrunsData: this is a JSON object that details specific technologies used by the website. These include frameworks, libraries, and other tools that the website uses to run.\n",
    "\n",
    "\n",
    "__Other__: \n",
    "\n",
    "- Protocol: This is the pretty much the same for all websites (HTTP or HTTPS)\n",
    "\n",
    "- Domain: the domain name of the website\n",
    "\n",
    "- siteIsOnline: boolean value of whether the site was still online when data was collected (As we used the CrUX dataset from January 2024, a `false` value in this column means that the site was online in January 2024, but consistently offline in Feburary 2024 when the data was collected, across multiple attempts to contact the website)\n",
    "\n",
    "- numIPAddressesDetected: the number of IP addresses detected for the website"
   ]
  },
  {
   "cell_type": "markdown",
   "id": "2c1c566e",
   "metadata": {
    "papermill": {
     "duration": 0.01449,
     "end_time": "2024-05-08T04:10:11.712610",
     "exception": false,
     "start_time": "2024-05-08T04:10:11.698120",
     "status": "completed"
    },
    "tags": []
   },
   "source": [
    "# ___Part :. Exploratory Data Analysis__"
   ]
  },
  {
   "cell_type": "markdown",
   "id": "c6d9f943",
   "metadata": {
    "papermill": {
     "duration": 0.014563,
     "end_time": "2024-05-08T04:10:11.741930",
     "exception": false,
     "start_time": "2024-05-08T04:10:11.727367",
     "status": "completed"
    },
    "tags": []
   },
   "source": [
    "## __3.1: Basic Data Exploration__\n",
    "\n",
    "Below are all the columns of the dataset:"
   ]
  },
  {
   "cell_type": "code",
   "execution_count": 3,
   "id": "eed5c06c",
   "metadata": {
    "execution": {
     "iopub.execute_input": "2024-05-08T04:10:11.772965Z",
     "iopub.status.busy": "2024-05-08T04:10:11.772563Z",
     "iopub.status.idle": "2024-05-08T04:10:28.526211Z",
     "shell.execute_reply": "2024-05-08T04:10:28.525245Z"
    },
    "papermill": {
     "duration": 16.771824,
     "end_time": "2024-05-08T04:10:28.528452",
     "exception": false,
     "start_time": "2024-05-08T04:10:11.756628",
     "status": "completed"
    },
    "tags": []
   },
   "outputs": [
    {
     "data": {
      "text/html": [
       "<div>\n",
       "<style scoped>\n",
       "    .dataframe tbody tr th:only-of-type {\n",
       "        vertical-align: middle;\n",
       "    }\n",
       "\n",
       "    .dataframe tbody tr th {\n",
       "        vertical-align: top;\n",
       "    }\n",
       "\n",
       "    .dataframe thead th {\n",
       "        text-align: right;\n",
       "    }\n",
       "</style>\n",
       "<table border=\"1\" class=\"dataframe\">\n",
       "  <thead>\n",
       "    <tr style=\"text-align: right;\">\n",
       "      <th></th>\n",
       "      <th>date</th>\n",
       "      <th>device</th>\n",
       "      <th>fast_fp</th>\n",
       "      <th>avg_fp</th>\n",
       "      <th>slow_fp</th>\n",
       "      <th>p75_fp</th>\n",
       "      <th>fast_fcp</th>\n",
       "      <th>avg_fcp</th>\n",
       "      <th>slow_fcp</th>\n",
       "      <th>p75_fcp</th>\n",
       "      <th>...</th>\n",
       "      <th>p75_inp_origin</th>\n",
       "      <th>protocol</th>\n",
       "      <th>domain</th>\n",
       "      <th>siteIsOnline</th>\n",
       "      <th>numIpAddressesDetected</th>\n",
       "      <th>detectedCloudPlatforms</th>\n",
       "      <th>whatrunsDateUnixMillis</th>\n",
       "      <th>whatrunsData</th>\n",
       "      <th>rank</th>\n",
       "      <th>deviceDensity</th>\n",
       "    </tr>\n",
       "  </thead>\n",
       "  <tbody>\n",
       "    <tr>\n",
       "      <th>0</th>\n",
       "      <td>2024-01-01</td>\n",
       "      <td>tablet</td>\n",
       "      <td>0.0063</td>\n",
       "      <td>0.0071</td>\n",
       "      <td>0.0021</td>\n",
       "      <td>2200.0</td>\n",
       "      <td>0.0095</td>\n",
       "      <td>0.0030</td>\n",
       "      <td>0.0038</td>\n",
       "      <td>2700.0</td>\n",
       "      <td>...</td>\n",
       "      <td>150.0</td>\n",
       "      <td>https:</td>\n",
       "      <td>www.carltonlgrayfuneral.com</td>\n",
       "      <td>True</td>\n",
       "      <td>2.0</td>\n",
       "      <td>[\"Amazon Web Services (us-east-1)\"]</td>\n",
       "      <td>NaT</td>\n",
       "      <td>{}</td>\n",
       "      <td>1000000</td>\n",
       "      <td>0.0163</td>\n",
       "    </tr>\n",
       "    <tr>\n",
       "      <th>1</th>\n",
       "      <td>2024-01-01</td>\n",
       "      <td>desktop</td>\n",
       "      <td>0.3132</td>\n",
       "      <td>0.1539</td>\n",
       "      <td>0.0920</td>\n",
       "      <td>2000.0</td>\n",
       "      <td>0.4066</td>\n",
       "      <td>0.0612</td>\n",
       "      <td>0.0931</td>\n",
       "      <td>2000.0</td>\n",
       "      <td>...</td>\n",
       "      <td>75.0</td>\n",
       "      <td>https:</td>\n",
       "      <td>sede.aytoalmeria.es</td>\n",
       "      <td>True</td>\n",
       "      <td>1.0</td>\n",
       "      <td>[]</td>\n",
       "      <td>2021-07-04 18:17:50.033</td>\n",
       "      <td>{\"CMS\":[{\"name\":\"Liferay\",\"category\":1,\"icon\":...</td>\n",
       "      <td>1000000</td>\n",
       "      <td>0.5609</td>\n",
       "    </tr>\n",
       "    <tr>\n",
       "      <th>2</th>\n",
       "      <td>2024-01-01</td>\n",
       "      <td>desktop</td>\n",
       "      <td>0.7398</td>\n",
       "      <td>0.1557</td>\n",
       "      <td>0.0180</td>\n",
       "      <td>800.0</td>\n",
       "      <td>0.8613</td>\n",
       "      <td>0.0351</td>\n",
       "      <td>0.0176</td>\n",
       "      <td>800.0</td>\n",
       "      <td>...</td>\n",
       "      <td>50.0</td>\n",
       "      <td>https:</td>\n",
       "      <td>secure.rentecdirect.com</td>\n",
       "      <td>True</td>\n",
       "      <td>2.0</td>\n",
       "      <td>[\"Cloudflare\"]</td>\n",
       "      <td>2019-08-22 02:21:32.301</td>\n",
       "      <td>{\"Javascript Frameworks\":[{\"name\":\"jQuery\",\"ca...</td>\n",
       "      <td>50000</td>\n",
       "      <td>0.9140</td>\n",
       "    </tr>\n",
       "    <tr>\n",
       "      <th>3</th>\n",
       "      <td>2024-01-01</td>\n",
       "      <td>desktop</td>\n",
       "      <td>0.0883</td>\n",
       "      <td>0.0561</td>\n",
       "      <td>0.0165</td>\n",
       "      <td>1900.0</td>\n",
       "      <td>0.1194</td>\n",
       "      <td>0.0276</td>\n",
       "      <td>0.0164</td>\n",
       "      <td>1900.0</td>\n",
       "      <td>...</td>\n",
       "      <td>100.0</td>\n",
       "      <td>https:</td>\n",
       "      <td>seventeen-web.jp</td>\n",
       "      <td>True</td>\n",
       "      <td>4.0</td>\n",
       "      <td>[\"Amazon Web Services (GLOBAL)\"]</td>\n",
       "      <td>2023-09-28 01:57:04.916</td>\n",
       "      <td>{\"Widgets\":[{\"name\":\"Twitter\",\"category\":5,\"ic...</td>\n",
       "      <td>1000000</td>\n",
       "      <td>0.1634</td>\n",
       "    </tr>\n",
       "    <tr>\n",
       "      <th>4</th>\n",
       "      <td>2024-01-01</td>\n",
       "      <td>desktop</td>\n",
       "      <td>0.0973</td>\n",
       "      <td>0.3047</td>\n",
       "      <td>0.0446</td>\n",
       "      <td>2000.0</td>\n",
       "      <td>0.3127</td>\n",
       "      <td>0.1017</td>\n",
       "      <td>0.0473</td>\n",
       "      <td>2000.0</td>\n",
       "      <td>...</td>\n",
       "      <td>100.0</td>\n",
       "      <td>https:</td>\n",
       "      <td>servicematica.com</td>\n",
       "      <td>True</td>\n",
       "      <td>1.0</td>\n",
       "      <td>[]</td>\n",
       "      <td>2019-05-29 07:47:05.473</td>\n",
       "      <td>{\"Analytics\":[{\"name\":\"Google Analytics\",\"cate...</td>\n",
       "      <td>1000000</td>\n",
       "      <td>0.4617</td>\n",
       "    </tr>\n",
       "  </tbody>\n",
       "</table>\n",
       "<p>5 rows × 60 columns</p>\n",
       "</div>"
      ],
      "text/plain": [
       "        date   device  fast_fp  avg_fp  slow_fp  p75_fp  fast_fcp  avg_fcp  \\\n",
       "0 2024-01-01   tablet   0.0063  0.0071   0.0021  2200.0    0.0095   0.0030   \n",
       "1 2024-01-01  desktop   0.3132  0.1539   0.0920  2000.0    0.4066   0.0612   \n",
       "2 2024-01-01  desktop   0.7398  0.1557   0.0180   800.0    0.8613   0.0351   \n",
       "3 2024-01-01  desktop   0.0883  0.0561   0.0165  1900.0    0.1194   0.0276   \n",
       "4 2024-01-01  desktop   0.0973  0.3047   0.0446  2000.0    0.3127   0.1017   \n",
       "\n",
       "   slow_fcp  p75_fcp  ...  p75_inp_origin  protocol  \\\n",
       "0    0.0038   2700.0  ...           150.0    https:   \n",
       "1    0.0931   2000.0  ...            75.0    https:   \n",
       "2    0.0176    800.0  ...            50.0    https:   \n",
       "3    0.0164   1900.0  ...           100.0    https:   \n",
       "4    0.0473   2000.0  ...           100.0    https:   \n",
       "\n",
       "                        domain  siteIsOnline  numIpAddressesDetected  \\\n",
       "0  www.carltonlgrayfuneral.com          True                     2.0   \n",
       "1          sede.aytoalmeria.es          True                     1.0   \n",
       "2      secure.rentecdirect.com          True                     2.0   \n",
       "3             seventeen-web.jp          True                     4.0   \n",
       "4            servicematica.com          True                     1.0   \n",
       "\n",
       "                detectedCloudPlatforms  whatrunsDateUnixMillis  \\\n",
       "0  [\"Amazon Web Services (us-east-1)\"]                     NaT   \n",
       "1                                   [] 2021-07-04 18:17:50.033   \n",
       "2                       [\"Cloudflare\"] 2019-08-22 02:21:32.301   \n",
       "3     [\"Amazon Web Services (GLOBAL)\"] 2023-09-28 01:57:04.916   \n",
       "4                                   [] 2019-05-29 07:47:05.473   \n",
       "\n",
       "                                        whatrunsData     rank  deviceDensity  \n",
       "0                                                 {}  1000000         0.0163  \n",
       "1  {\"CMS\":[{\"name\":\"Liferay\",\"category\":1,\"icon\":...  1000000         0.5609  \n",
       "2  {\"Javascript Frameworks\":[{\"name\":\"jQuery\",\"ca...    50000         0.9140  \n",
       "3  {\"Widgets\":[{\"name\":\"Twitter\",\"category\":5,\"ic...  1000000         0.1634  \n",
       "4  {\"Analytics\":[{\"name\":\"Google Analytics\",\"cate...  1000000         0.4617  \n",
       "\n",
       "[5 rows x 60 columns]"
      ]
     },
     "execution_count": 3,
     "metadata": {},
     "output_type": "execute_result"
    }
   ],
   "source": [
    "df = pd.read_parquet(\"/kaggle/input/assignment-2-statistical-analysis/website_data.parquet\")\n",
    "df.head()"
   ]
  },
  {
   "cell_type": "markdown",
   "id": "816fa6c1",
   "metadata": {
    "papermill": {
     "duration": 0.014998,
     "end_time": "2024-05-08T04:10:28.558690",
     "exception": false,
     "start_time": "2024-05-08T04:10:28.543692",
     "status": "completed"
    },
    "tags": []
   },
   "source": [
    "For this analysis, we have loaded the first 1 million domains (10%) present in the dataset. Our dataset contains 10 million rows, but we were not able to use the entire dataset as it does not fit into RAM onto any of the devices we have access to.\n",
    "\n",
    "In the future, we may seek access to a machine with more computational resources in order to perform the full analysis of all 10 million rows. Alternatively, we may use a framework like `dask`, which has the capability to process data that is larger-than-memory, in order to process the dataset. This will likely require a machine with a faster hard drive than what is offered by Kaggle in order for the analysis to proceed at any significant speed."
   ]
  },
  {
   "cell_type": "code",
   "execution_count": 4,
   "id": "cc1f2ed5",
   "metadata": {
    "execution": {
     "iopub.execute_input": "2024-05-08T04:10:28.590158Z",
     "iopub.status.busy": "2024-05-08T04:10:28.589769Z",
     "iopub.status.idle": "2024-05-08T04:10:29.856821Z",
     "shell.execute_reply": "2024-05-08T04:10:29.855734Z"
    },
    "papermill": {
     "duration": 1.285564,
     "end_time": "2024-05-08T04:10:29.859144",
     "exception": false,
     "start_time": "2024-05-08T04:10:28.573580",
     "status": "completed"
    },
    "tags": []
   },
   "outputs": [
    {
     "data": {
      "text/plain": [
       "1000000"
      ]
     },
     "execution_count": 4,
     "metadata": {},
     "output_type": "execute_result"
    }
   ],
   "source": [
    "# Google considers an \"origin\" to be domain + protocol, hence us using df[[\"protocol\", \"domain\"]] instead of just df[\"domain\"] when calculating the number of unique rows in the dataset\n",
    "df[[\"protocol\", \"domain\"]].drop_duplicates().shape[0]"
   ]
  },
  {
   "cell_type": "markdown",
   "id": "b4a337b4",
   "metadata": {
    "papermill": {
     "duration": 0.015238,
     "end_time": "2024-05-08T04:10:29.891693",
     "exception": false,
     "start_time": "2024-05-08T04:10:29.876455",
     "status": "completed"
    },
    "tags": []
   },
   "source": [
    "## __3.2: Analysis #1__\n",
    "\n",
    "In our first analysis, we aim to find the relationship between the average FCP time and device type. \n",
    "\n",
    "In the plot created, it's apparent that perfromance differs by device type. It suggests that websites might not be as optimized for phones and tablets as they are for desktops.  \n",
    "\n",
    "We use a Kruskal-Wallis test because it doesn't assume a normal distribution of the data, it's less sensistive to outliers, and it allows for comparison across multiple groups (in this case, device types). "
   ]
  },
  {
   "cell_type": "code",
   "execution_count": 5,
   "id": "b16f4b84",
   "metadata": {
    "execution": {
     "iopub.execute_input": "2024-05-08T04:10:29.925221Z",
     "iopub.status.busy": "2024-05-08T04:10:29.924212Z",
     "iopub.status.idle": "2024-05-08T04:10:34.069449Z",
     "shell.execute_reply": "2024-05-08T04:10:34.068459Z"
    },
    "papermill": {
     "duration": 4.164439,
     "end_time": "2024-05-08T04:10:34.071638",
     "exception": false,
     "start_time": "2024-05-08T04:10:29.907199",
     "status": "completed"
    },
    "tags": []
   },
   "outputs": [
    {
     "data": {
      "text/plain": [
       "<Figure size 1000x600 with 0 Axes>"
      ]
     },
     "metadata": {},
     "output_type": "display_data"
    },
    {
     "data": {
      "image/png": "[encoded data removed]",
      "text/plain": [
       "<Figure size 640x480 with 1 Axes>"
      ]
     },
     "metadata": {},
     "output_type": "display_data"
    }
   ],
   "source": [
    "df['avg_fcp'] = pd.to_numeric(df['avg_fcp'], errors='coerce')\n",
    "analysis1_df = df.dropna(subset=['avg_fcp'])\n",
    "\n",
    "plt.figure(figsize=(10, 6))\n",
    "analysis1_df.boxplot(column='avg_fcp', by='device', grid=False)\n",
    "plt.title('Avg First Contentful Paint (FCP) by Device')\n",
    "plt.suptitle('')  \n",
    "plt.ylabel('Avg First Contentful Paint Time (seconds)')\n",
    "plt.show()"
   ]
  },
  {
   "cell_type": "code",
   "execution_count": 6,
   "id": "68247fd3",
   "metadata": {
    "execution": {
     "iopub.execute_input": "2024-05-08T04:10:34.155078Z",
     "iopub.status.busy": "2024-05-08T04:10:34.154332Z",
     "iopub.status.idle": "2024-05-08T04:10:34.346218Z",
     "shell.execute_reply": "2024-05-08T04:10:34.345244Z"
    },
    "papermill": {
     "duration": 0.260307,
     "end_time": "2024-05-08T04:10:34.348459",
     "exception": false,
     "start_time": "2024-05-08T04:10:34.088152",
     "status": "completed"
    },
    "tags": []
   },
   "outputs": [
    {
     "data": {
      "text/html": [
       "<div>\n",
       "<style scoped>\n",
       "    .dataframe tbody tr th:only-of-type {\n",
       "        vertical-align: middle;\n",
       "    }\n",
       "\n",
       "    .dataframe tbody tr th {\n",
       "        vertical-align: top;\n",
       "    }\n",
       "\n",
       "    .dataframe thead th {\n",
       "        text-align: right;\n",
       "    }\n",
       "</style>\n",
       "<table border=\"1\" class=\"dataframe\">\n",
       "  <thead>\n",
       "    <tr style=\"text-align: right;\">\n",
       "      <th></th>\n",
       "      <th>count</th>\n",
       "      <th>mean</th>\n",
       "      <th>std</th>\n",
       "      <th>min</th>\n",
       "      <th>25%</th>\n",
       "      <th>50%</th>\n",
       "      <th>75%</th>\n",
       "      <th>max</th>\n",
       "    </tr>\n",
       "    <tr>\n",
       "      <th>device</th>\n",
       "      <th></th>\n",
       "      <th></th>\n",
       "      <th></th>\n",
       "      <th></th>\n",
       "      <th></th>\n",
       "      <th></th>\n",
       "      <th></th>\n",
       "      <th></th>\n",
       "    </tr>\n",
       "  </thead>\n",
       "  <tbody>\n",
       "    <tr>\n",
       "      <th>desktop</th>\n",
       "      <td>863765.0</td>\n",
       "      <td>0.037779</td>\n",
       "      <td>0.053274</td>\n",
       "      <td>0.0</td>\n",
       "      <td>0.0071</td>\n",
       "      <td>0.0185</td>\n",
       "      <td>0.0455</td>\n",
       "      <td>0.8403</td>\n",
       "    </tr>\n",
       "    <tr>\n",
       "      <th>phone</th>\n",
       "      <td>962873.0</td>\n",
       "      <td>0.113857</td>\n",
       "      <td>0.096832</td>\n",
       "      <td>0.0</td>\n",
       "      <td>0.0401</td>\n",
       "      <td>0.0867</td>\n",
       "      <td>0.1630</td>\n",
       "      <td>0.8590</td>\n",
       "    </tr>\n",
       "    <tr>\n",
       "      <th>tablet</th>\n",
       "      <td>432343.0</td>\n",
       "      <td>0.004976</td>\n",
       "      <td>0.007022</td>\n",
       "      <td>0.0</td>\n",
       "      <td>0.0018</td>\n",
       "      <td>0.0032</td>\n",
       "      <td>0.0058</td>\n",
       "      <td>0.5740</td>\n",
       "    </tr>\n",
       "  </tbody>\n",
       "</table>\n",
       "</div>"
      ],
      "text/plain": [
       "            count      mean       std  min     25%     50%     75%     max\n",
       "device                                                                    \n",
       "desktop  863765.0  0.037779  0.053274  0.0  0.0071  0.0185  0.0455  0.8403\n",
       "phone    962873.0  0.113857  0.096832  0.0  0.0401  0.0867  0.1630  0.8590\n",
       "tablet   432343.0  0.004976  0.007022  0.0  0.0018  0.0032  0.0058  0.5740"
      ]
     },
     "execution_count": 6,
     "metadata": {},
     "output_type": "execute_result"
    }
   ],
   "source": [
    "analysis1_df.groupby('device', observed=False)['avg_fcp'].describe()"
   ]
  },
  {
   "cell_type": "markdown",
   "id": "2941d033",
   "metadata": {
    "papermill": {
     "duration": 0.015767,
     "end_time": "2024-05-08T04:10:34.380773",
     "exception": false,
     "start_time": "2024-05-08T04:10:34.365006",
     "status": "completed"
    },
    "tags": []
   },
   "source": [
    "__Pairwise test__\n",
    "\n",
    "In this part, we will conduct a Mann-Whitney U test pairwise between all three groups of devices. This allows us to find differences between each group, while the Kruskal-Wallis gave \n",
    "a global test. We want to check if there's a significant difference in the average performances of websites across devices. A low or zero p-value will reject the null hypothesis (which in this \n",
    "case would be: there is no difference in average fcp of websites across devices). Conducting this pairwise test allows us to make better statistical inferences."
   ]
  },
  {
   "cell_type": "code",
   "execution_count": 7,
   "id": "4bed590f",
   "metadata": {
    "execution": {
     "iopub.execute_input": "2024-05-08T04:10:34.414736Z",
     "iopub.status.busy": "2024-05-08T04:10:34.414104Z",
     "iopub.status.idle": "2024-05-08T04:10:35.855756Z",
     "shell.execute_reply": "2024-05-08T04:10:35.854579Z"
    },
    "papermill": {
     "duration": 1.461043,
     "end_time": "2024-05-08T04:10:35.857893",
     "exception": false,
     "start_time": "2024-05-08T04:10:34.396850",
     "status": "completed"
    },
    "tags": []
   },
   "outputs": [
    {
     "name": "stdout",
     "output_type": "stream",
     "text": [
      "H-statistic: 1105466.7124264364, P-value: 0.0\n"
     ]
    }
   ],
   "source": [
    "h_stat, p_value = kruskal(\n",
    "    analysis1_df[analysis1_df['device'] == 'desktop']['avg_fcp'],\n",
    "    analysis1_df[analysis1_df['device'] == 'tablet']['avg_fcp'],\n",
    "    analysis1_df[analysis1_df['device'] == 'phone']['avg_fcp']\n",
    ")\n",
    "\n",
    "print(f\"H-statistic: {h_stat}, P-value: {p_value}\")"
   ]
  },
  {
   "cell_type": "code",
   "execution_count": 8,
   "id": "9bc7c0f0",
   "metadata": {
    "execution": {
     "iopub.execute_input": "2024-05-08T04:10:35.892476Z",
     "iopub.status.busy": "2024-05-08T04:10:35.891740Z",
     "iopub.status.idle": "2024-05-08T04:10:43.456536Z",
     "shell.execute_reply": "2024-05-08T04:10:43.455247Z"
    },
    "papermill": {
     "duration": 7.584348,
     "end_time": "2024-05-08T04:10:43.458699",
     "exception": false,
     "start_time": "2024-05-08T04:10:35.874351",
     "status": "completed"
    },
    "tags": []
   },
   "outputs": [
    {
     "name": "stdout",
     "output_type": "stream",
     "text": [
      "Mann-Whitney test between desktop and phone gives p-value of 0.0\n",
      "Mann-Whitney test between desktop and tablet gives p-value of 0.0\n",
      "Mann-Whitney test between phone and tablet gives p-value of 0.0\n"
     ]
    }
   ],
   "source": [
    "comparisons = [('desktop', 'phone'), ('desktop', 'tablet'), ('phone', 'tablet')]\n",
    "\n",
    "p_values = []\n",
    "for group1, group2 in comparisons:\n",
    "    stat, p = mannwhitneyu(\n",
    "        analysis1_df[analysis1_df['device'] == group1]['avg_fcp'],\n",
    "        analysis1_df[analysis1_df['device'] == group2]['avg_fcp'],\n",
    "        alternative='two-sided'\n",
    "    )\n",
    "    p_values.append(p)\n",
    "    print(f\"Mann-Whitney test between {group1} and {group2} gives p-value of {p}\")"
   ]
  },
  {
   "cell_type": "code",
   "execution_count": 9,
   "id": "e7fdcda4",
   "metadata": {
    "execution": {
     "iopub.execute_input": "2024-05-08T04:10:43.493822Z",
     "iopub.status.busy": "2024-05-08T04:10:43.493434Z",
     "iopub.status.idle": "2024-05-08T04:10:43.574101Z",
     "shell.execute_reply": "2024-05-08T04:10:43.573127Z"
    },
    "papermill": {
     "duration": 0.100552,
     "end_time": "2024-05-08T04:10:43.576239",
     "exception": false,
     "start_time": "2024-05-08T04:10:43.475687",
     "status": "completed"
    },
    "tags": []
   },
   "outputs": [],
   "source": [
    "del analysis1_df"
   ]
  },
  {
   "cell_type": "markdown",
   "id": "4b9e5f5b",
   "metadata": {
    "papermill": {
     "duration": 0.016289,
     "end_time": "2024-05-08T04:10:43.609163",
     "exception": false,
     "start_time": "2024-05-08T04:10:43.592874",
     "status": "completed"
    },
    "tags": []
   },
   "source": [
    "### __Conclusion #1__\n",
    "\n",
    "$H_0$: There is no difference in average fcp times across devices\n",
    "\n",
    "$H_\\alpha$: There is a stastically significant difference in average fcp times across devices\n",
    "\n",
    "The Kruskal-Wallis test gives a p-value of 0, which indicates we can reject the null hypothesis."
   ]
  },
  {
   "cell_type": "markdown",
   "id": "c2d3db9b",
   "metadata": {
    "papermill": {
     "duration": 0.016179,
     "end_time": "2024-05-08T04:10:43.641725",
     "exception": false,
     "start_time": "2024-05-08T04:10:43.625546",
     "status": "completed"
    },
    "tags": []
   },
   "source": [
    "## __3.3: Analysis #2__"
   ]
  },
  {
   "cell_type": "markdown",
   "id": "58a8103b",
   "metadata": {
    "papermill": {
     "duration": 0.016156,
     "end_time": "2024-05-08T04:10:43.674254",
     "exception": false,
     "start_time": "2024-05-08T04:10:43.658098",
     "status": "completed"
    },
    "tags": []
   },
   "source": [
    "In our second analysis we are attempting to analyze the breakdown of websites being accessed on different devices. This dataset categorizes devices into three types: desktops, phones, and tablets. We want to find out which devices may draw the most usage and look for factors that may influence the final breakdown. We also want to find out if a some websites are more popular amongst certain devices. Understanding this information may be useful for understanding what devices are most useful for each person depending on what they tend to browse. In a day in age where devices are so expensive, understanding what websites are browsed upon on what devices can be a factor in deciding how to develop websites for different devices."
   ]
  },
  {
   "cell_type": "code",
   "execution_count": 10,
   "id": "26fc289e",
   "metadata": {
    "execution": {
     "iopub.execute_input": "2024-05-08T04:10:43.708395Z",
     "iopub.status.busy": "2024-05-08T04:10:43.708019Z",
     "iopub.status.idle": "2024-05-08T04:11:29.535738Z",
     "shell.execute_reply": "2024-05-08T04:11:29.534786Z"
    },
    "papermill": {
     "duration": 45.864869,
     "end_time": "2024-05-08T04:11:29.555392",
     "exception": false,
     "start_time": "2024-05-08T04:10:43.690523",
     "status": "completed"
    },
    "tags": []
   },
   "outputs": [
    {
     "data": {
      "text/html": [
       "<div>\n",
       "<style scoped>\n",
       "    .dataframe tbody tr th:only-of-type {\n",
       "        vertical-align: middle;\n",
       "    }\n",
       "\n",
       "    .dataframe tbody tr th {\n",
       "        vertical-align: top;\n",
       "    }\n",
       "\n",
       "    .dataframe thead th {\n",
       "        text-align: right;\n",
       "    }\n",
       "</style>\n",
       "<table border=\"1\" class=\"dataframe\">\n",
       "  <thead>\n",
       "    <tr style=\"text-align: right;\">\n",
       "      <th>domain</th>\n",
       "      <th>0-1.ir</th>\n",
       "      <th>0-105.com</th>\n",
       "      <th>0-infoweb-newsbank-com.www.saclibrarycatalog.org</th>\n",
       "      <th>0.blueperfectballon.com</th>\n",
       "      <th>0.discoverapp.com</th>\n",
       "      <th>0.fiveminutes.biz</th>\n",
       "      <th>0.freebasics.com</th>\n",
       "      <th>0.lan05.biz</th>\n",
       "      <th>0.leftblastermode.com</th>\n",
       "      <th>0.lords.lat</th>\n",
       "      <th>...</th>\n",
       "      <th>zzz.myworkplace.aviva.co.uk</th>\n",
       "      <th>zzzcode.ai</th>\n",
       "      <th>zzzquilnatura.it</th>\n",
       "      <th>zzzscore.com</th>\n",
       "      <th>zzztop.x.yupoo.com</th>\n",
       "      <th>zzzttt01.com</th>\n",
       "      <th>zzztube.com</th>\n",
       "      <th>zzztube.tv</th>\n",
       "      <th>zzzz.com</th>\n",
       "      <th>zzzzap.nl</th>\n",
       "    </tr>\n",
       "    <tr>\n",
       "      <th>device</th>\n",
       "      <th></th>\n",
       "      <th></th>\n",
       "      <th></th>\n",
       "      <th></th>\n",
       "      <th></th>\n",
       "      <th></th>\n",
       "      <th></th>\n",
       "      <th></th>\n",
       "      <th></th>\n",
       "      <th></th>\n",
       "      <th></th>\n",
       "      <th></th>\n",
       "      <th></th>\n",
       "      <th></th>\n",
       "      <th></th>\n",
       "      <th></th>\n",
       "      <th></th>\n",
       "      <th></th>\n",
       "      <th></th>\n",
       "      <th></th>\n",
       "      <th></th>\n",
       "    </tr>\n",
       "  </thead>\n",
       "  <tbody>\n",
       "    <tr>\n",
       "      <th>desktop</th>\n",
       "      <td>1</td>\n",
       "      <td>1</td>\n",
       "      <td>1</td>\n",
       "      <td>0</td>\n",
       "      <td>0</td>\n",
       "      <td>1</td>\n",
       "      <td>0</td>\n",
       "      <td>0</td>\n",
       "      <td>0</td>\n",
       "      <td>1</td>\n",
       "      <td>...</td>\n",
       "      <td>1</td>\n",
       "      <td>1</td>\n",
       "      <td>1</td>\n",
       "      <td>1</td>\n",
       "      <td>1</td>\n",
       "      <td>1</td>\n",
       "      <td>1</td>\n",
       "      <td>1</td>\n",
       "      <td>0</td>\n",
       "      <td>1</td>\n",
       "    </tr>\n",
       "    <tr>\n",
       "      <th>phone</th>\n",
       "      <td>1</td>\n",
       "      <td>1</td>\n",
       "      <td>0</td>\n",
       "      <td>1</td>\n",
       "      <td>1</td>\n",
       "      <td>1</td>\n",
       "      <td>1</td>\n",
       "      <td>1</td>\n",
       "      <td>1</td>\n",
       "      <td>1</td>\n",
       "      <td>...</td>\n",
       "      <td>1</td>\n",
       "      <td>1</td>\n",
       "      <td>1</td>\n",
       "      <td>1</td>\n",
       "      <td>1</td>\n",
       "      <td>1</td>\n",
       "      <td>1</td>\n",
       "      <td>1</td>\n",
       "      <td>1</td>\n",
       "      <td>1</td>\n",
       "    </tr>\n",
       "    <tr>\n",
       "      <th>tablet</th>\n",
       "      <td>0</td>\n",
       "      <td>1</td>\n",
       "      <td>0</td>\n",
       "      <td>1</td>\n",
       "      <td>0</td>\n",
       "      <td>1</td>\n",
       "      <td>0</td>\n",
       "      <td>0</td>\n",
       "      <td>1</td>\n",
       "      <td>1</td>\n",
       "      <td>...</td>\n",
       "      <td>1</td>\n",
       "      <td>0</td>\n",
       "      <td>1</td>\n",
       "      <td>0</td>\n",
       "      <td>0</td>\n",
       "      <td>0</td>\n",
       "      <td>1</td>\n",
       "      <td>1</td>\n",
       "      <td>0</td>\n",
       "      <td>0</td>\n",
       "    </tr>\n",
       "  </tbody>\n",
       "</table>\n",
       "<p>3 rows × 989628 columns</p>\n",
       "</div>"
      ],
      "text/plain": [
       "domain   0-1.ir  0-105.com  0-infoweb-newsbank-com.www.saclibrarycatalog.org  \\\n",
       "device                                                                         \n",
       "desktop       1          1                                                 1   \n",
       "phone         1          1                                                 0   \n",
       "tablet        0          1                                                 0   \n",
       "\n",
       "domain   0.blueperfectballon.com  0.discoverapp.com  0.fiveminutes.biz  \\\n",
       "device                                                                   \n",
       "desktop                        0                  0                  1   \n",
       "phone                          1                  1                  1   \n",
       "tablet                         1                  0                  1   \n",
       "\n",
       "domain   0.freebasics.com  0.lan05.biz  0.leftblastermode.com  0.lords.lat  \\\n",
       "device                                                                       \n",
       "desktop                 0            0                      0            1   \n",
       "phone                   1            1                      1            1   \n",
       "tablet                  0            0                      1            1   \n",
       "\n",
       "domain   ...  zzz.myworkplace.aviva.co.uk  zzzcode.ai  zzzquilnatura.it  \\\n",
       "device   ...                                                              \n",
       "desktop  ...                            1           1                 1   \n",
       "phone    ...                            1           1                 1   \n",
       "tablet   ...                            1           0                 1   \n",
       "\n",
       "domain   zzzscore.com  zzztop.x.yupoo.com  zzzttt01.com  zzztube.com  \\\n",
       "device                                                                 \n",
       "desktop             1                   1             1            1   \n",
       "phone               1                   1             1            1   \n",
       "tablet              0                   0             0            1   \n",
       "\n",
       "domain   zzztube.tv  zzzz.com  zzzzap.nl  \n",
       "device                                    \n",
       "desktop           1         0          1  \n",
       "phone             1         1          1  \n",
       "tablet            1         0          0  \n",
       "\n",
       "[3 rows x 989628 columns]"
      ]
     },
     "execution_count": 10,
     "metadata": {},
     "output_type": "execute_result"
    }
   ],
   "source": [
    "pd.crosstab(df['device'], df['domain'])"
   ]
  },
  {
   "cell_type": "code",
   "execution_count": 11,
   "id": "8acda34d",
   "metadata": {
    "execution": {
     "iopub.execute_input": "2024-05-08T04:11:29.590282Z",
     "iopub.status.busy": "2024-05-08T04:11:29.589918Z",
     "iopub.status.idle": "2024-05-08T04:12:15.536035Z",
     "shell.execute_reply": "2024-05-08T04:12:15.535029Z"
    },
    "papermill": {
     "duration": 45.983487,
     "end_time": "2024-05-08T04:12:15.555551",
     "exception": false,
     "start_time": "2024-05-08T04:11:29.572064",
     "status": "completed"
    },
    "tags": []
   },
   "outputs": [
    {
     "data": {
      "image/png": "[encoded data removed]",
      "text/plain": [
       "<Figure size 1200x800 with 1 Axes>"
      ]
     },
     "metadata": {},
     "output_type": "display_data"
    }
   ],
   "source": [
    "data = pd.crosstab(df['device'], df['domain'])\n",
    "data['Total'] = data.sum(axis=1)\n",
    "\n",
    "plt.figure(figsize=(12, 8))\n",
    "data['Total'].plot(kind='bar')\n",
    "plt.xlabel('Domain Name')\n",
    "plt.ylabel('Total Count')\n",
    "plt.title('Domains by Total Count')\n",
    "plt.show()"
   ]
  },
  {
   "cell_type": "code",
   "execution_count": 12,
   "id": "8272fc3e",
   "metadata": {
    "execution": {
     "iopub.execute_input": "2024-05-08T04:12:15.592073Z",
     "iopub.status.busy": "2024-05-08T04:12:15.591660Z",
     "iopub.status.idle": "2024-05-08T04:13:01.048686Z",
     "shell.execute_reply": "2024-05-08T04:13:01.047657Z"
    },
    "papermill": {
     "duration": 45.494912,
     "end_time": "2024-05-08T04:13:01.067974",
     "exception": false,
     "start_time": "2024-05-08T04:12:15.573062",
     "status": "completed"
    },
    "tags": []
   },
   "outputs": [
    {
     "name": "stdout",
     "output_type": "stream",
     "text": [
      "1.0\n"
     ]
    }
   ],
   "source": [
    "observed = pd.crosstab(df['device'], df['domain'])\n",
    "_, p_value, _, _ = cont.chi2_contingency(observed.to_numpy())\n",
    "print(p_value)"
   ]
  },
  {
   "cell_type": "markdown",
   "id": "f61c6955",
   "metadata": {
    "papermill": {
     "duration": 0.016896,
     "end_time": "2024-05-08T04:13:01.102184",
     "exception": false,
     "start_time": "2024-05-08T04:13:01.085288",
     "status": "completed"
    },
    "tags": []
   },
   "source": [
    "### __Conclusion #2__\n",
    "Null Hypothesis: There is no association between the type of device and the domain used.\n",
    "\n",
    "Alternative Hypothesis: There is an association between the type of device and the domain used.\n",
    "\n",
    "The p value is greater than the level of significance of 0.05 so we support the null hypothesis. Thus, there is no correlation between the device used and the domain used (the device used doesn't affect the popularity of a given website).\n",
    "\n",
    "After analysis we found that there isn't an association between the the devices and the domain used. Thus, websites that a user likes to browse aren't a factor in the device they may use or prefer. Typically, websites can be accessed on all types of devices these days but we wanted to see if their functionality may be better on some which may lead to a preference toward certain devices. However, in the end we found that device type does not play a part in websites that users access."
   ]
  },
  {
   "cell_type": "markdown",
   "id": "83d5d9b4",
   "metadata": {
    "papermill": {
     "duration": 0.017029,
     "end_time": "2024-05-08T04:13:01.136447",
     "exception": false,
     "start_time": "2024-05-08T04:13:01.119418",
     "status": "completed"
    },
    "tags": []
   },
   "source": [
    "## __3.4: Analysis #3 -= Doe using a cloud provider affect webstie performance?__\n",
    "\n",
    "In this section, we aim to determine the correlation between the list of cloud providers and the first contentful paint (FCP) of a website. FCP refers to the amount of time elapsed between the user navigating to a website and the website beginning to show useful data on the screen.\n",
    "\n",
    "We can use a t-test to compare the FCP for websites that don't use a cloud provider to websites that do. The hypotheses are below:\n",
    "\n",
    "$H_0$: for a particular cloud provider, the average FCP of sites using that cloud provider is equal to the average FCP of sites not using that cloud provider.\n",
    "\n",
    "$H_\\alpha$: for a particular cloud provider, the average FCP of sites using that cloud provider is not equal to the average FCP of sites not using that cloud provider."
   ]
  },
  {
   "cell_type": "code",
   "execution_count": 13,
   "id": "bdc57421",
   "metadata": {
    "execution": {
     "iopub.execute_input": "2024-05-08T04:13:01.172759Z",
     "iopub.status.busy": "2024-05-08T04:13:01.171822Z",
     "iopub.status.idle": "2024-05-08T04:13:01.221411Z",
     "shell.execute_reply": "2024-05-08T04:13:01.220480Z"
    },
    "papermill": {
     "duration": 0.06993,
     "end_time": "2024-05-08T04:13:01.223552",
     "exception": false,
     "start_time": "2024-05-08T04:13:01.153622",
     "status": "completed"
    },
    "tags": []
   },
   "outputs": [
    {
     "data": {
      "text/html": [
       "<div>\n",
       "<style scoped>\n",
       "    .dataframe tbody tr th:only-of-type {\n",
       "        vertical-align: middle;\n",
       "    }\n",
       "\n",
       "    .dataframe tbody tr th {\n",
       "        vertical-align: top;\n",
       "    }\n",
       "\n",
       "    .dataframe thead th {\n",
       "        text-align: right;\n",
       "    }\n",
       "</style>\n",
       "<table border=\"1\" class=\"dataframe\">\n",
       "  <thead>\n",
       "    <tr style=\"text-align: right;\">\n",
       "      <th></th>\n",
       "      <th>0</th>\n",
       "    </tr>\n",
       "  </thead>\n",
       "  <tbody>\n",
       "    <tr>\n",
       "      <th>0</th>\n",
       "      <td>[\"Amazon Web Services (us-east-1)\"]</td>\n",
       "    </tr>\n",
       "    <tr>\n",
       "      <th>1</th>\n",
       "      <td>[]</td>\n",
       "    </tr>\n",
       "    <tr>\n",
       "      <th>2</th>\n",
       "      <td>[\"Cloudflare\"]</td>\n",
       "    </tr>\n",
       "    <tr>\n",
       "      <th>3</th>\n",
       "      <td>[\"Amazon Web Services (GLOBAL)\"]</td>\n",
       "    </tr>\n",
       "    <tr>\n",
       "      <th>4</th>\n",
       "      <td>[\"Amazon Web Services (us-west-1)\"]</td>\n",
       "    </tr>\n",
       "    <tr>\n",
       "      <th>...</th>\n",
       "      <td>...</td>\n",
       "    </tr>\n",
       "    <tr>\n",
       "      <th>163</th>\n",
       "      <td>[\"Amazon Web Services (us-west-1)\",\"Amazon Web...</td>\n",
       "    </tr>\n",
       "    <tr>\n",
       "      <th>164</th>\n",
       "      <td>[\"Amazon Web Services (sa-east-1)\",\"Amazon Web...</td>\n",
       "    </tr>\n",
       "    <tr>\n",
       "      <th>165</th>\n",
       "      <td>[\"Amazon Web Services (us-east-2)\",\"Amazon Web...</td>\n",
       "    </tr>\n",
       "    <tr>\n",
       "      <th>166</th>\n",
       "      <td>[\"Amazon Web Services (eu-central-1)\",\"Amazon ...</td>\n",
       "    </tr>\n",
       "    <tr>\n",
       "      <th>167</th>\n",
       "      <td>[\"Microsoft Azure (PowerPlatformInfra)\"]</td>\n",
       "    </tr>\n",
       "  </tbody>\n",
       "</table>\n",
       "<p>168 rows × 1 columns</p>\n",
       "</div>"
      ],
      "text/plain": [
       "                                                     0\n",
       "0                  [\"Amazon Web Services (us-east-1)\"]\n",
       "1                                                   []\n",
       "2                                       [\"Cloudflare\"]\n",
       "3                     [\"Amazon Web Services (GLOBAL)\"]\n",
       "4                  [\"Amazon Web Services (us-west-1)\"]\n",
       "..                                                 ...\n",
       "163  [\"Amazon Web Services (us-west-1)\",\"Amazon Web...\n",
       "164  [\"Amazon Web Services (sa-east-1)\",\"Amazon Web...\n",
       "165  [\"Amazon Web Services (us-east-2)\",\"Amazon Web...\n",
       "166  [\"Amazon Web Services (eu-central-1)\",\"Amazon ...\n",
       "167           [\"Microsoft Azure (PowerPlatformInfra)\"]\n",
       "\n",
       "[168 rows x 1 columns]"
      ]
     },
     "execution_count": 13,
     "metadata": {},
     "output_type": "execute_result"
    }
   ],
   "source": [
    "pd.DataFrame(df[\"detectedCloudPlatforms\"].unique())"
   ]
  },
  {
   "cell_type": "code",
   "execution_count": 14,
   "id": "d96ece2a",
   "metadata": {
    "execution": {
     "iopub.execute_input": "2024-05-08T04:13:01.261073Z",
     "iopub.status.busy": "2024-05-08T04:13:01.260374Z",
     "iopub.status.idle": "2024-05-08T04:13:15.687649Z",
     "shell.execute_reply": "2024-05-08T04:13:15.686677Z"
    },
    "papermill": {
     "duration": 14.448372,
     "end_time": "2024-05-08T04:13:15.689822",
     "exception": false,
     "start_time": "2024-05-08T04:13:01.241450",
     "status": "completed"
    },
    "tags": []
   },
   "outputs": [
    {
     "data": {
      "text/plain": [
       "array([frozenset({'AWS'}), frozenset(), frozenset({'Cloudflare'}),\n",
       "       frozenset({'Google Cloud'}), frozenset({'Azure'}), None,\n",
       "       frozenset({'GitHub Pages'}), frozenset({'Cloudflare', 'AWS'}),\n",
       "       frozenset({'Azure', 'Google Cloud'}),\n",
       "       frozenset({'Google Cloud', 'AWS'}),\n",
       "       frozenset({'Cloudflare', 'Google Cloud'})], dtype=object)"
      ]
     },
     "execution_count": 14,
     "metadata": {},
     "output_type": "execute_result"
    }
   ],
   "source": [
    "name_replacements = {\"Amazon Web Services\": \"AWS\", \"Microsoft Azure\": \"Azure\"}\n",
    "def shorten_name(name):\n",
    "    name = re.sub(r'(.+?)( \\(.+\\)|)$', r'\\1', name)\n",
    "    if name in name_replacements: return name_replacements[name]\n",
    "    else: return name\n",
    "    \n",
    "def remove_region_info(string):\n",
    "    if string is None: return None\n",
    "    return frozenset({sys.intern(shorten_name(x)) for x in json.loads(string)})\n",
    "df[\"detectedCloudPlatformsNoRegion\"] = df[\"detectedCloudPlatforms\"].apply(remove_region_info)\n",
    "\n",
    "df[\"detectedCloudPlatformsNoRegion\"].unique()\n"
   ]
  },
  {
   "cell_type": "code",
   "execution_count": 15,
   "id": "272a0196",
   "metadata": {
    "execution": {
     "iopub.execute_input": "2024-05-08T04:13:15.727495Z",
     "iopub.status.busy": "2024-05-08T04:13:15.726754Z",
     "iopub.status.idle": "2024-05-08T04:13:18.471746Z",
     "shell.execute_reply": "2024-05-08T04:13:18.470790Z"
    },
    "papermill": {
     "duration": 2.765919,
     "end_time": "2024-05-08T04:13:18.473777",
     "exception": false,
     "start_time": "2024-05-08T04:13:15.707858",
     "status": "completed"
    },
    "tags": []
   },
   "outputs": [
    {
     "data": {
      "text/plain": [
       "domain\n",
       "0-1.ir                                              2\n",
       "0-105.com                                           3\n",
       "0-infoweb-newsbank-com.www.saclibrarycatalog.org    1\n",
       "0.blueperfectballon.com                             2\n",
       "0.discoverapp.com                                   1\n",
       "                                                   ..\n",
       "zzzttt01.com                                        2\n",
       "zzztube.com                                         3\n",
       "zzztube.tv                                          3\n",
       "zzzz.com                                            1\n",
       "zzzzap.nl                                           2\n",
       "Name: date, Length: 997183, dtype: int64"
      ]
     },
     "execution_count": 15,
     "metadata": {},
     "output_type": "execute_result"
    }
   ],
   "source": [
    "df.groupby(\"domain\", observed=True)[\"date\"].count()"
   ]
  },
  {
   "cell_type": "code",
   "execution_count": 16,
   "id": "5ba440a5",
   "metadata": {
    "execution": {
     "iopub.execute_input": "2024-05-08T04:13:18.511922Z",
     "iopub.status.busy": "2024-05-08T04:13:18.510979Z",
     "iopub.status.idle": "2024-05-08T04:13:18.909640Z",
     "shell.execute_reply": "2024-05-08T04:13:18.908612Z"
    },
    "papermill": {
     "duration": 0.420113,
     "end_time": "2024-05-08T04:13:18.911995",
     "exception": false,
     "start_time": "2024-05-08T04:13:18.491882",
     "status": "completed"
    },
    "tags": []
   },
   "outputs": [
    {
     "data": {
      "text/plain": [
       "<Axes: ylabel='count'>"
      ]
     },
     "execution_count": 16,
     "metadata": {},
     "output_type": "execute_result"
    },
    {
     "data": {
      "image/png": "[encoded data removed]",
      "text/plain": [
       "<Figure size 640x480 with 1 Axes>"
      ]
     },
     "metadata": {},
     "output_type": "display_data"
    }
   ],
   "source": [
    "df[\"detectedCloudPlatformsNoRegion\"].value_counts().plot.pie()"
   ]
  },
  {
   "cell_type": "code",
   "execution_count": 17,
   "id": "ec53af7d",
   "metadata": {
    "execution": {
     "iopub.execute_input": "2024-05-08T04:13:18.952709Z",
     "iopub.status.busy": "2024-05-08T04:13:18.952342Z",
     "iopub.status.idle": "2024-05-08T04:13:19.564180Z",
     "shell.execute_reply": "2024-05-08T04:13:19.563181Z"
    },
    "papermill": {
     "duration": 0.634941,
     "end_time": "2024-05-08T04:13:19.566343",
     "exception": false,
     "start_time": "2024-05-08T04:13:18.931402",
     "status": "completed"
    },
    "tags": []
   },
   "outputs": [
    {
     "data": {
      "image/png": "[encoded data removed]",
      "text/plain": [
       "<Figure size 640x480 with 1 Axes>"
      ]
     },
     "metadata": {},
     "output_type": "display_data"
    }
   ],
   "source": [
    "percentages = (df[\"detectedCloudPlatformsNoRegion\"].value_counts()/df[\"detectedCloudPlatformsNoRegion\"].count())\n",
    "\n",
    "ax = percentages.plot.bar(xlabel = \"Cloud Platforms\", ylabel = \"fraction of websites\")"
   ]
  },
  {
   "cell_type": "code",
   "execution_count": 18,
   "id": "5467f7d8",
   "metadata": {
    "execution": {
     "iopub.execute_input": "2024-05-08T04:13:19.606399Z",
     "iopub.status.busy": "2024-05-08T04:13:19.606047Z",
     "iopub.status.idle": "2024-05-08T04:13:20.675925Z",
     "shell.execute_reply": "2024-05-08T04:13:20.674994Z"
    },
    "papermill": {
     "duration": 1.09297,
     "end_time": "2024-05-08T04:13:20.678546",
     "exception": false,
     "start_time": "2024-05-08T04:13:19.585576",
     "status": "completed"
    },
    "tags": []
   },
   "outputs": [
    {
     "data": {
      "image/png": "[encoded data removed]",
      "text/plain": [
       "<Figure size 640x480 with 1 Axes>"
      ]
     },
     "metadata": {},
     "output_type": "display_data"
    }
   ],
   "source": [
    "percentages = (df[\"detectedCloudPlatformsNoRegion\"].value_counts()/df[\"detectedCloudPlatformsNoRegion\"].count())\n",
    "\n",
    "ax = percentages.plot.bar(xlabel = \"Cloud Platforms\", ylabel = \"log(fraction of websites)\", log=True)"
   ]
  },
  {
   "cell_type": "code",
   "execution_count": 19,
   "id": "dd725f51",
   "metadata": {
    "execution": {
     "iopub.execute_input": "2024-05-08T04:13:20.720474Z",
     "iopub.status.busy": "2024-05-08T04:13:20.719918Z",
     "iopub.status.idle": "2024-05-08T04:13:29.884105Z",
     "shell.execute_reply": "2024-05-08T04:13:29.883073Z"
    },
    "papermill": {
     "duration": 9.189217,
     "end_time": "2024-05-08T04:13:29.887540",
     "exception": false,
     "start_time": "2024-05-08T04:13:20.698323",
     "status": "completed"
    },
    "tags": []
   },
   "outputs": [
    {
     "data": {
      "application/vnd.jupyter.widget-view+json": {
       "model_id": "78e75d9081524af4889d60d0c21b549b",
       "version_major": 2,
       "version_minor": 0
      },
      "text/plain": [
       "  0%|          | 0/5 [00:00<?, ?it/s]"
      ]
     },
     "metadata": {},
     "output_type": "display_data"
    },
    {
     "data": {
      "text/html": [
       "<div>\n",
       "<style scoped>\n",
       "    .dataframe tbody tr th:only-of-type {\n",
       "        vertical-align: middle;\n",
       "    }\n",
       "\n",
       "    .dataframe tbody tr th {\n",
       "        vertical-align: top;\n",
       "    }\n",
       "\n",
       "    .dataframe thead th {\n",
       "        text-align: right;\n",
       "    }\n",
       "</style>\n",
       "<table border=\"1\" class=\"dataframe\">\n",
       "  <thead>\n",
       "    <tr style=\"text-align: right;\">\n",
       "      <th></th>\n",
       "      <th>Platform</th>\n",
       "      <th>Mean FCP with this provider (s)</th>\n",
       "      <th>Standard Deviation FCP (s)</th>\n",
       "      <th>Mean FCP without this provider (s)</th>\n",
       "      <th>t-statistic</th>\n",
       "      <th>p-values</th>\n",
       "      <th>Conclusion</th>\n",
       "    </tr>\n",
       "  </thead>\n",
       "  <tbody>\n",
       "    <tr>\n",
       "      <th>0</th>\n",
       "      <td>Azure</td>\n",
       "      <td>0.062688</td>\n",
       "      <td>0.076001</td>\n",
       "      <td>0.063949</td>\n",
       "      <td>-2.855931</td>\n",
       "      <td>4.291118e-03</td>\n",
       "      <td>Reject H0. Websites using Azure are statistica...</td>\n",
       "    </tr>\n",
       "    <tr>\n",
       "      <th>1</th>\n",
       "      <td>GitHub Pages</td>\n",
       "      <td>0.048853</td>\n",
       "      <td>0.073326</td>\n",
       "      <td>0.063941</td>\n",
       "      <td>-7.775645</td>\n",
       "      <td>7.509559e-15</td>\n",
       "      <td>Reject H0. Websites using GitHub Pages are sta...</td>\n",
       "    </tr>\n",
       "    <tr>\n",
       "      <th>2</th>\n",
       "      <td>Cloudflare</td>\n",
       "      <td>0.072740</td>\n",
       "      <td>0.093057</td>\n",
       "      <td>0.061140</td>\n",
       "      <td>88.687003</td>\n",
       "      <td>0.000000e+00</td>\n",
       "      <td>Reject H0. Websites using Cloudflare are stati...</td>\n",
       "    </tr>\n",
       "    <tr>\n",
       "      <th>3</th>\n",
       "      <td>AWS</td>\n",
       "      <td>0.069255</td>\n",
       "      <td>0.085034</td>\n",
       "      <td>0.063302</td>\n",
       "      <td>32.621479</td>\n",
       "      <td>2.306417e-233</td>\n",
       "      <td>Reject H0. Websites using AWS are statisticall...</td>\n",
       "    </tr>\n",
       "    <tr>\n",
       "      <th>4</th>\n",
       "      <td>Google Cloud</td>\n",
       "      <td>0.076173</td>\n",
       "      <td>0.096928</td>\n",
       "      <td>0.063575</td>\n",
       "      <td>37.151782</td>\n",
       "      <td>5.067061e-302</td>\n",
       "      <td>Reject H0. Websites using Google Cloud are sta...</td>\n",
       "    </tr>\n",
       "  </tbody>\n",
       "</table>\n",
       "</div>"
      ],
      "text/plain": [
       "       Platform  Mean FCP with this provider (s)  Standard Deviation FCP (s)  \\\n",
       "0         Azure                         0.062688                    0.076001   \n",
       "1  GitHub Pages                         0.048853                    0.073326   \n",
       "2    Cloudflare                         0.072740                    0.093057   \n",
       "3           AWS                         0.069255                    0.085034   \n",
       "4  Google Cloud                         0.076173                    0.096928   \n",
       "\n",
       "   Mean FCP without this provider (s)  t-statistic       p-values  \\\n",
       "0                            0.063949    -2.855931   4.291118e-03   \n",
       "1                            0.063941    -7.775645   7.509559e-15   \n",
       "2                            0.061140    88.687003   0.000000e+00   \n",
       "3                            0.063302    32.621479  2.306417e-233   \n",
       "4                            0.063575    37.151782  5.067061e-302   \n",
       "\n",
       "                                          Conclusion  \n",
       "0  Reject H0. Websites using Azure are statistica...  \n",
       "1  Reject H0. Websites using GitHub Pages are sta...  \n",
       "2  Reject H0. Websites using Cloudflare are stati...  \n",
       "3  Reject H0. Websites using AWS are statisticall...  \n",
       "4  Reject H0. Websites using Google Cloud are sta...  "
      ]
     },
     "execution_count": 19,
     "metadata": {},
     "output_type": "execute_result"
    }
   ],
   "source": [
    "all_cloud_platforms_series = pd.Series(list(reduce(lambda x,y:x if y is None else y if x is None else x|y, df[\"detectedCloudPlatformsNoRegion\"].unique())))\n",
    "all_cloud_platforms = pd.DataFrame()\n",
    "all_cloud_platforms[\"Platform\"] = all_cloud_platforms_series\n",
    "del all_cloud_platforms_series\n",
    "\n",
    "mean_fcp_vals = []\n",
    "stdev_fcp_vals = []\n",
    "baseline_mean_fcp = []\n",
    "degrees_of_freedom = []\n",
    "t_statistic_vals = []\n",
    "p_values = []\n",
    "conclusion_str = []\n",
    "\n",
    "for platform in tqdm(all_cloud_platforms[\"Platform\"]):\n",
    "    test_index = df[\"detectedCloudPlatformsNoRegion\"].apply(lambda s: s if s is not None else frozenset()).apply(lambda s:platform in s)\n",
    "    test_df = df[test_index]\n",
    "    opp_df = df[~test_index]\n",
    "    current_mean = test_df[\"avg_fcp\"].mean()\n",
    "    mean_fcp_vals.append(current_mean)\n",
    "    stdev_fcp_vals.append(test_df[\"avg_fcp\"].std())\n",
    "    baseline_mean = opp_df[\"avg_fcp\"].mean()\n",
    "    baseline_mean_fcp.append(baseline_mean)\n",
    "    \n",
    "    result = ttest_ind(test_df[\"avg_fcp\"].dropna(), opp_df[\"avg_fcp\"].dropna())\n",
    "    \n",
    "    degrees_of_freedom.append(result.df)\n",
    "    t_statistic_vals.append(result.statistic)\n",
    "    p_values.append(result.pvalue)\n",
    "    \n",
    "    if result.pvalue < 0.05:\n",
    "        conclusion_str.append(f\"Reject H0. Websites using {platform} are statistically significantly {'slower' if current_mean > baseline_mean else 'faster'} to load than other websites.\")\n",
    "    else:\n",
    "        conclusion_str.append(f\"Fail to reject H0, {platform} produces no statistically significant difference.\")\n",
    "\n",
    "all_cloud_platforms[\"Mean FCP with this provider (s)\"] = mean_fcp_vals\n",
    "all_cloud_platforms[\"Standard Deviation FCP (s)\"] = stdev_fcp_vals\n",
    "all_cloud_platforms[\"Mean FCP without this provider (s)\"] = baseline_mean_fcp\n",
    "all_cloud_platforms[\"t-statistic\"] = t_statistic_vals\n",
    "all_cloud_platforms[\"p-values\"] = p_values\n",
    "all_cloud_platforms[\"Conclusion\"] = conclusion_str\n",
    "\n",
    "del mean_fcp_vals\n",
    "del stdev_fcp_vals\n",
    "del baseline_mean_fcp\n",
    "del t_statistic_vals\n",
    "del p_values\n",
    "del conclusion_str\n",
    "\n",
    "all_cloud_platforms"
   ]
  },
  {
   "cell_type": "code",
   "execution_count": 20,
   "id": "6e119b97",
   "metadata": {
    "execution": {
     "iopub.execute_input": "2024-05-08T04:13:29.930436Z",
     "iopub.status.busy": "2024-05-08T04:13:29.929949Z",
     "iopub.status.idle": "2024-05-08T04:13:29.940804Z",
     "shell.execute_reply": "2024-05-08T04:13:29.939882Z"
    },
    "papermill": {
     "duration": 0.0352,
     "end_time": "2024-05-08T04:13:29.942963",
     "exception": false,
     "start_time": "2024-05-08T04:13:29.907763",
     "status": "completed"
    },
    "tags": []
   },
   "outputs": [
    {
     "data": {
      "text/html": [
       "<div>\n",
       "<style scoped>\n",
       "    .dataframe tbody tr th:only-of-type {\n",
       "        vertical-align: middle;\n",
       "    }\n",
       "\n",
       "    .dataframe tbody tr th {\n",
       "        vertical-align: top;\n",
       "    }\n",
       "\n",
       "    .dataframe thead th {\n",
       "        text-align: right;\n",
       "    }\n",
       "</style>\n",
       "<table border=\"1\" class=\"dataframe\">\n",
       "  <thead>\n",
       "    <tr style=\"text-align: right;\">\n",
       "      <th></th>\n",
       "      <th>Platform</th>\n",
       "      <th>Conclusion</th>\n",
       "    </tr>\n",
       "  </thead>\n",
       "  <tbody>\n",
       "    <tr>\n",
       "      <th>0</th>\n",
       "      <td>Azure</td>\n",
       "      <td>Reject H0. Websites using Azure are statistically significantly faster to load than other websites.</td>\n",
       "    </tr>\n",
       "    <tr>\n",
       "      <th>1</th>\n",
       "      <td>GitHub Pages</td>\n",
       "      <td>Reject H0. Websites using GitHub Pages are statistically significantly faster to load than other websites.</td>\n",
       "    </tr>\n",
       "    <tr>\n",
       "      <th>2</th>\n",
       "      <td>Cloudflare</td>\n",
       "      <td>Reject H0. Websites using Cloudflare are statistically significantly slower to load than other websites.</td>\n",
       "    </tr>\n",
       "    <tr>\n",
       "      <th>3</th>\n",
       "      <td>AWS</td>\n",
       "      <td>Reject H0. Websites using AWS are statistically significantly slower to load than other websites.</td>\n",
       "    </tr>\n",
       "    <tr>\n",
       "      <th>4</th>\n",
       "      <td>Google Cloud</td>\n",
       "      <td>Reject H0. Websites using Google Cloud are statistically significantly slower to load than other websites.</td>\n",
       "    </tr>\n",
       "  </tbody>\n",
       "</table>\n",
       "</div>"
      ],
      "text/plain": [
       "       Platform  \\\n",
       "0  Azure          \n",
       "1  GitHub Pages   \n",
       "2  Cloudflare     \n",
       "3  AWS            \n",
       "4  Google Cloud   \n",
       "\n",
       "                                                                                                   Conclusion  \n",
       "0  Reject H0. Websites using Azure are statistically significantly faster to load than other websites.         \n",
       "1  Reject H0. Websites using GitHub Pages are statistically significantly faster to load than other websites.  \n",
       "2  Reject H0. Websites using Cloudflare are statistically significantly slower to load than other websites.    \n",
       "3  Reject H0. Websites using AWS are statistically significantly slower to load than other websites.           \n",
       "4  Reject H0. Websites using Google Cloud are statistically significantly slower to load than other websites.  "
      ]
     },
     "execution_count": 20,
     "metadata": {},
     "output_type": "execute_result"
    }
   ],
   "source": [
    "max_colwidth_val = pd.get_option('display.max_colwidth')\n",
    "pd.set_option('display.max_colwidth', 0)\n",
    "all_cloud_platforms[[\"Platform\", \"Conclusion\"]]"
   ]
  },
  {
   "cell_type": "code",
   "execution_count": 21,
   "id": "d5dec64b",
   "metadata": {
    "execution": {
     "iopub.execute_input": "2024-05-08T04:13:29.985940Z",
     "iopub.status.busy": "2024-05-08T04:13:29.985286Z",
     "iopub.status.idle": "2024-05-08T04:13:29.989970Z",
     "shell.execute_reply": "2024-05-08T04:13:29.988947Z"
    },
    "papermill": {
     "duration": 0.028402,
     "end_time": "2024-05-08T04:13:29.991918",
     "exception": false,
     "start_time": "2024-05-08T04:13:29.963516",
     "status": "completed"
    },
    "tags": []
   },
   "outputs": [],
   "source": [
    "pd.set_option('display.max_colwidth', max_colwidth_val)\n",
    "del max_colwidth_val"
   ]
  },
  {
   "cell_type": "markdown",
   "id": "cd15b3eb",
   "metadata": {
    "papermill": {
     "duration": 0.020025,
     "end_time": "2024-05-08T04:13:30.032022",
     "exception": false,
     "start_time": "2024-05-08T04:13:30.011997",
     "status": "completed"
    },
    "tags": []
   },
   "source": [
    "### __Conclusion #3__\n",
    "The results were surprisingly varied between cloud providers, but all results were highly statistically significant, with p-values that amounted to rounding errors. While the magnitude of the difference was relatively small, we were able to find a meaningful statistically significant difference\n",
    "5 t-tests were performed between the list of websites using a particular cloud provider and the list of websites not using that particular provider.\n",
    "We ultimately concluded:\n",
    "\n",
    "- Websites using GitHub Pages are statistically significantly faster to load than other websites. (p=7.509559e-15)\n",
    "- Websites using Cloudflare are statistically significantly slower to load than other websites. (p-value too low to measure)\n",
    "- Websites using Google Cloud are statistically significantly slower to load than other websites. (p=5.067061e-302)\n",
    "- Websites using AWS are statistically significantly slower to load than other websites. (p=2.306417e-233)\n",
    "- Websites using Azure are statistically significantly faster to load than other websites. (p=4.291118e-03)\n",
    "\n",
    "\n",
    "That said, it is important to note that the differences we noticed here are not that large, and any of these cloud providers would suffice to host websites on. The most important factor in the performance of a website is code quality."
   ]
  },
  {
   "cell_type": "markdown",
   "id": "43999725",
   "metadata": {
    "papermill": {
     "duration": 0.01961,
     "end_time": "2024-05-08T04:13:30.071502",
     "exception": false,
     "start_time": "2024-05-08T04:13:30.051892",
     "status": "completed"
    },
    "tags": []
   },
   "source": [
    "# __Part 4: Primary Analysis__\n",
    "\n",
    "In this section, we want to create a regression model to predict the performance of a website based on its web framework. For context, regression takes in input data and predicts a real valued (continuous) feature. For this model, we are using a Random Forest-based regression model. Due to the size of our dataset we believed a random forest model would be best at handling the amount of data as well as providing high accuracy due to it aggregating multiple trees. Also, due to the use of multiple trees, we can better avoid overfitting in cases where certain splits share very similar information and could be prone to noise."
   ]
  },
  {
   "cell_type": "markdown",
   "id": "d0da8d7c",
   "metadata": {
    "papermill": {
     "duration": 0.019802,
     "end_time": "2024-05-08T04:13:30.111464",
     "exception": false,
     "start_time": "2024-05-08T04:13:30.091662",
     "status": "completed"
    },
    "tags": []
   },
   "source": [
    "### __4.1: Preprocessing__"
   ]
  },
  {
   "cell_type": "markdown",
   "id": "f2a9ffe1",
   "metadata": {
    "papermill": {
     "duration": 0.019688,
     "end_time": "2024-05-08T04:13:30.151140",
     "exception": false,
     "start_time": "2024-05-08T04:13:30.131452",
     "status": "completed"
    },
    "tags": []
   },
   "source": [
    "To run the Primary Analysis, we first need to process the JSON values present in the `whatrunsData` column of our dataset in order to produce a one-hot-encoded vector of frameworks.\n",
    "\n",
    "Let's also remove redundancy between the desktop and mobile versions of the website, as we can safely assume that the frameworks the website uses will be the same in both cases.\n",
    "\n",
    "We will take the average FCP value across all these device types as our dependent variable."
   ]
  },
  {
   "cell_type": "code",
   "execution_count": 22,
   "id": "fdaee869",
   "metadata": {
    "execution": {
     "iopub.execute_input": "2024-05-08T04:13:30.193785Z",
     "iopub.status.busy": "2024-05-08T04:13:30.192804Z",
     "iopub.status.idle": "2024-05-08T04:13:31.265229Z",
     "shell.execute_reply": "2024-05-08T04:13:31.264380Z"
    },
    "papermill": {
     "duration": 1.096338,
     "end_time": "2024-05-08T04:13:31.267658",
     "exception": false,
     "start_time": "2024-05-08T04:13:30.171320",
     "status": "completed"
    },
    "tags": []
   },
   "outputs": [],
   "source": [
    "primary_analysis_df = df[df[\"rank\"] <= 100000].dropna(subset=['whatrunsData', 'avg_fcp'])\n",
    "primary_analysis_df = primary_analysis_df[[\"domain\", \"protocol\", \"whatrunsData\", \"avg_fcp\", \"deviceDensity\"]]\n",
    "\n",
    "weighted_avg_fcp = (primary_analysis_df[\"avg_fcp\"] * primary_analysis_df[\"deviceDensity\"]).groupby([primary_analysis_df[\"domain\"], primary_analysis_df[\"protocol\"]], observed=True).sum() / primary_analysis_df.groupby([primary_analysis_df[\"domain\"], primary_analysis_df[\"protocol\"]], observed=True)[\"deviceDensity\"].sum()\n",
    "\n",
    "result_df = pd.DataFrame(weighted_avg_fcp, columns=[\"avg_fcp\"])\n",
    "\n",
    "result_df[\"whatrunsData\"] = primary_analysis_df.groupby([primary_analysis_df[\"domain\"], primary_analysis_df[\"protocol\"]], observed=True)[\"whatrunsData\"].first()\n",
    "\n",
    "result_df.loc[result_df[\"whatrunsData\"].isnull(), \"whatrunsData\"] = None\n",
    "\n",
    "result_df.reset_index(inplace=True)\n",
    "\n",
    "primary_analysis_df = result_df\n",
    "del result_df"
   ]
  },
  {
   "cell_type": "code",
   "execution_count": 23,
   "id": "097d6a4f",
   "metadata": {
    "execution": {
     "iopub.execute_input": "2024-05-08T04:13:31.310587Z",
     "iopub.status.busy": "2024-05-08T04:13:31.310210Z",
     "iopub.status.idle": "2024-05-08T04:13:31.323898Z",
     "shell.execute_reply": "2024-05-08T04:13:31.322905Z"
    },
    "papermill": {
     "duration": 0.037525,
     "end_time": "2024-05-08T04:13:31.325982",
     "exception": false,
     "start_time": "2024-05-08T04:13:31.288457",
     "status": "completed"
    },
    "tags": []
   },
   "outputs": [
    {
     "data": {
      "text/html": [
       "<div>\n",
       "<style scoped>\n",
       "    .dataframe tbody tr th:only-of-type {\n",
       "        vertical-align: middle;\n",
       "    }\n",
       "\n",
       "    .dataframe tbody tr th {\n",
       "        vertical-align: top;\n",
       "    }\n",
       "\n",
       "    .dataframe thead th {\n",
       "        text-align: right;\n",
       "    }\n",
       "</style>\n",
       "<table border=\"1\" class=\"dataframe\">\n",
       "  <thead>\n",
       "    <tr style=\"text-align: right;\">\n",
       "      <th></th>\n",
       "      <th>domain</th>\n",
       "      <th>protocol</th>\n",
       "      <th>avg_fcp</th>\n",
       "      <th>whatrunsData</th>\n",
       "    </tr>\n",
       "  </thead>\n",
       "  <tbody>\n",
       "    <tr>\n",
       "      <th>0</th>\n",
       "      <td>0.freebasics.com</td>\n",
       "      <td>https:</td>\n",
       "      <td>0.196400</td>\n",
       "      <td>{}</td>\n",
       "    </tr>\n",
       "    <tr>\n",
       "      <th>1</th>\n",
       "      <td>0.torrentoyunindir.com</td>\n",
       "      <td>https:</td>\n",
       "      <td>0.012953</td>\n",
       "      <td>{\"CMS\":[{\"name\":\"WordPress\",\"category\":1,\"icon...</td>\n",
       "    </tr>\n",
       "    <tr>\n",
       "      <th>2</th>\n",
       "      <td>01.emailinboundprocessing.eu</td>\n",
       "      <td>https:</td>\n",
       "      <td>0.101151</td>\n",
       "      <td>{\"Javascript Frameworks\":[{\"name\":\"jQuery\",\"ca...</td>\n",
       "    </tr>\n",
       "    <tr>\n",
       "      <th>3</th>\n",
       "      <td>011810.com</td>\n",
       "      <td>https:</td>\n",
       "      <td>0.005777</td>\n",
       "      <td>{\"Web Server\":[{\"name\":\"Nginx\",\"category\":22,\"...</td>\n",
       "    </tr>\n",
       "    <tr>\n",
       "      <th>4</th>\n",
       "      <td>018support.metro.tokyo.lg.jp</td>\n",
       "      <td>https:</td>\n",
       "      <td>0.045722</td>\n",
       "      <td>{}</td>\n",
       "    </tr>\n",
       "    <tr>\n",
       "      <th>...</th>\n",
       "      <td>...</td>\n",
       "      <td>...</td>\n",
       "      <td>...</td>\n",
       "      <td>...</td>\n",
       "    </tr>\n",
       "    <tr>\n",
       "      <th>99054</th>\n",
       "      <td>zzzcode.ai</td>\n",
       "      <td>https:</td>\n",
       "      <td>0.030939</td>\n",
       "      <td>{\"Widgets\":[{\"name\":\"ShareThis\",\"category\":5,\"...</td>\n",
       "    </tr>\n",
       "    <tr>\n",
       "      <th>99055</th>\n",
       "      <td>zzzscore.com</td>\n",
       "      <td>https:</td>\n",
       "      <td>0.028105</td>\n",
       "      <td>{}</td>\n",
       "    </tr>\n",
       "    <tr>\n",
       "      <th>99056</th>\n",
       "      <td>zzztube.com</td>\n",
       "      <td>https:</td>\n",
       "      <td>0.039315</td>\n",
       "      <td>{\"Analytics\":[{\"name\":\"Google Analytics\",\"cate...</td>\n",
       "    </tr>\n",
       "    <tr>\n",
       "      <th>99057</th>\n",
       "      <td>zzztube.tv</td>\n",
       "      <td>https:</td>\n",
       "      <td>0.063117</td>\n",
       "      <td>{\"Programming Language\":[{\"name\":\"PHP\",\"catego...</td>\n",
       "    </tr>\n",
       "    <tr>\n",
       "      <th>99058</th>\n",
       "      <td>zzzz.com</td>\n",
       "      <td>https:</td>\n",
       "      <td>0.219500</td>\n",
       "      <td>{\"Web Server\":[{\"name\":\"Nginx\",\"category\":22,\"...</td>\n",
       "    </tr>\n",
       "  </tbody>\n",
       "</table>\n",
       "<p>99059 rows × 4 columns</p>\n",
       "</div>"
      ],
      "text/plain": [
       "                             domain protocol   avg_fcp  \\\n",
       "0                  0.freebasics.com   https:  0.196400   \n",
       "1            0.torrentoyunindir.com   https:  0.012953   \n",
       "2      01.emailinboundprocessing.eu   https:  0.101151   \n",
       "3                        011810.com   https:  0.005777   \n",
       "4      018support.metro.tokyo.lg.jp   https:  0.045722   \n",
       "...                             ...      ...       ...   \n",
       "99054                    zzzcode.ai   https:  0.030939   \n",
       "99055                  zzzscore.com   https:  0.028105   \n",
       "99056                   zzztube.com   https:  0.039315   \n",
       "99057                    zzztube.tv   https:  0.063117   \n",
       "99058                      zzzz.com   https:  0.219500   \n",
       "\n",
       "                                            whatrunsData  \n",
       "0                                                     {}  \n",
       "1      {\"CMS\":[{\"name\":\"WordPress\",\"category\":1,\"icon...  \n",
       "2      {\"Javascript Frameworks\":[{\"name\":\"jQuery\",\"ca...  \n",
       "3      {\"Web Server\":[{\"name\":\"Nginx\",\"category\":22,\"...  \n",
       "4                                                     {}  \n",
       "...                                                  ...  \n",
       "99054  {\"Widgets\":[{\"name\":\"ShareThis\",\"category\":5,\"...  \n",
       "99055                                                 {}  \n",
       "99056  {\"Analytics\":[{\"name\":\"Google Analytics\",\"cate...  \n",
       "99057  {\"Programming Language\":[{\"name\":\"PHP\",\"catego...  \n",
       "99058  {\"Web Server\":[{\"name\":\"Nginx\",\"category\":22,\"...  \n",
       "\n",
       "[99059 rows x 4 columns]"
      ]
     },
     "execution_count": 23,
     "metadata": {},
     "output_type": "execute_result"
    }
   ],
   "source": [
    "primary_analysis_df"
   ]
  },
  {
   "cell_type": "markdown",
   "id": "48248b01",
   "metadata": {
    "papermill": {
     "duration": 0.020024,
     "end_time": "2024-05-08T04:13:31.366719",
     "exception": false,
     "start_time": "2024-05-08T04:13:31.346695",
     "status": "completed"
    },
    "tags": []
   },
   "source": [
    "Let's look at the internal structure of a WhatRuns JSON object:"
   ]
  },
  {
   "cell_type": "code",
   "execution_count": 24,
   "id": "f9897c4b",
   "metadata": {
    "execution": {
     "iopub.execute_input": "2024-05-08T04:13:31.409489Z",
     "iopub.status.busy": "2024-05-08T04:13:31.408627Z",
     "iopub.status.idle": "2024-05-08T04:13:31.438251Z",
     "shell.execute_reply": "2024-05-08T04:13:31.437146Z"
    },
    "papermill": {
     "duration": 0.053317,
     "end_time": "2024-05-08T04:13:31.440458",
     "exception": false,
     "start_time": "2024-05-08T04:13:31.387141",
     "status": "completed"
    },
    "tags": []
   },
   "outputs": [
    {
     "data": {
      "text/plain": [
       "{'Documentation': [{'name': 'Sphinx',\n",
       "   'category': 4,\n",
       "   'icon': 'Sphinx.png',\n",
       "   'index': '699',\n",
       "   'sourceUrl': 'https://pandas.pydata.org/pandas-docs/stable/user_guide/io.html',\n",
       "   'detectedTime': 1676902124518,\n",
       "   'latestDetectedTime': 1676902124518,\n",
       "   'website': 'https://www.whatruns.com/click/?target=sphinx.pocoo.org',\n",
       "   'siteListUrl': 'https://www.whatruns.com/technology/sphinx'}],\n",
       " 'Analytics': [{'name': 'Google Analytics',\n",
       "   'category': 10,\n",
       "   'icon': 'GA.png',\n",
       "   'index': '274',\n",
       "   'version': 'UA',\n",
       "   'sourceUrl': 'https://pandas.pydata.org/pandas-docs/stable/user_guide/io.html',\n",
       "   'detectedTime': 1676902124518,\n",
       "   'latestDetectedTime': 1676902124518,\n",
       "   'website': 'https://www.whatruns.com/click/?target=google.com%2Fanalytics',\n",
       "   'siteListUrl': 'https://www.whatruns.com/technology/google-analytics'}],\n",
       " 'Javascript Frameworks': [{'name': 'jQuery',\n",
       "   'category': 12,\n",
       "   'icon': 'jQuery.png',\n",
       "   'index': '894',\n",
       "   'version': '3.6.0',\n",
       "   'sourceUrl': 'https://pandas.pydata.org/pandas-docs/stable/user_guide/io.html',\n",
       "   'detectedTime': 1676902124518,\n",
       "   'latestDetectedTime': 1676902124518,\n",
       "   'website': 'https://www.whatruns.com/click/?target=jquery.com',\n",
       "   'siteListUrl': 'https://www.whatruns.com/technology/jquery'},\n",
       "  {'name': 'Underscore JS',\n",
       "   'category': 12,\n",
       "   'icon': 'Underscore.js.png',\n",
       "   'index': '964',\n",
       "   'sourceUrl': 'https://pandas.pydata.org/pandas-docs/stable/user_guide/io.html',\n",
       "   'detectedTime': 1676902124518,\n",
       "   'latestDetectedTime': 1676902124518,\n",
       "   'website': 'https://www.whatruns.com/click/?target=underscorejs.org',\n",
       "   'siteListUrl': 'https://www.whatruns.com/technology/underscore-js'}],\n",
       " 'Web Framework': [{'name': 'Bootstrap',\n",
       "   'category': 18,\n",
       "   'icon': 'Twitter Bootstrap.png',\n",
       "   'index': '759',\n",
       "   'sourceUrl': 'https://pandas.pydata.org/pandas-docs/stable/user_guide/io.html',\n",
       "   'detectedTime': 1676902124518,\n",
       "   'latestDetectedTime': 1676902124518,\n",
       "   'website': 'https://www.whatruns.com/click/?target=getbootstrap.com',\n",
       "   'siteListUrl': 'https://www.whatruns.com/technology/bootstrap'}],\n",
       " 'Miscellaneous': [{'name': 'Pygments',\n",
       "   'category': 19,\n",
       "   'icon': 'pygments.png',\n",
       "   'index': '591',\n",
       "   'sourceUrl': 'https://pandas.pydata.org/pandas-docs/stable/user_guide/io.html',\n",
       "   'detectedTime': 1676902124518,\n",
       "   'latestDetectedTime': 1676902124518,\n",
       "   'website': 'https://www.whatruns.com/click/?target=pygments.org',\n",
       "   'siteListUrl': 'https://www.whatruns.com/technology/pygments'}],\n",
       " 'Programming Language': [{'name': 'Python',\n",
       "   'category': 27,\n",
       "   'icon': 'Python.png',\n",
       "   'index': '593',\n",
       "   'sourceUrl': 'https://pandas.pydata.org/pandas-docs/stable/user_guide/io.html',\n",
       "   'detectedTime': 1676902124518,\n",
       "   'latestDetectedTime': 1676902124518,\n",
       "   'website': 'https://www.whatruns.com/click/?target=python.org',\n",
       "   'siteListUrl': 'https://www.whatruns.com/technology/python'}],\n",
       " 'CDN': [{'name': 'CloudFlare',\n",
       "   'category': 31,\n",
       "   'icon': 'Cloudflare.png',\n",
       "   'index': '136',\n",
       "   'sourceUrl': 'https://pandas.pydata.org/pandas-docs/stable/user_guide/io.html',\n",
       "   'detectedTime': 1676902124518,\n",
       "   'latestDetectedTime': 1676902124518,\n",
       "   'website': 'https://www.whatruns.com/click/?target=cloudflare.com',\n",
       "   'siteListUrl': 'https://www.whatruns.com/technology/cloudflare'},\n",
       "  {'name': 'jsDelivr',\n",
       "   'category': 31,\n",
       "   'icon': 'JsDelivr.png',\n",
       "   'index': '2389',\n",
       "   'sourceUrl': 'https://pandas.pydata.org/pandas-docs/stable/user_guide/io.html',\n",
       "   'detectedTime': 1676902124518,\n",
       "   'latestDetectedTime': 1676902124518,\n",
       "   'website': 'https://www.whatruns.com/click/?target=jsdelivr.com',\n",
       "   'siteListUrl': 'https://www.whatruns.com/technology/jsdelivr'}]}"
      ]
     },
     "execution_count": 24,
     "metadata": {},
     "output_type": "execute_result"
    }
   ],
   "source": [
    "json.loads(primary_analysis_df[\n",
    "    (primary_analysis_df[\"domain\"] == 'pandas.pydata.org') &\n",
    "    (primary_analysis_df[\"protocol\"] == 'https:')\n",
    "].iloc[0][\"whatrunsData\"])"
   ]
  },
  {
   "cell_type": "markdown",
   "id": "a31117d4",
   "metadata": {
    "papermill": {
     "duration": 0.020701,
     "end_time": "2024-05-08T04:13:31.482548",
     "exception": false,
     "start_time": "2024-05-08T04:13:31.461847",
     "status": "completed"
    },
    "tags": []
   },
   "source": [
    "We can see that the outer object is a dictionary, containing keys that refer to categories. For each of these keys, the values are dictionaries that refer to individual frameworks and metadata associated with them. This includes the name, links to more info about the framework, as well as an id uniquely identifying the framework."
   ]
  },
  {
   "cell_type": "markdown",
   "id": "a3801ffe",
   "metadata": {
    "papermill": {
     "duration": 0.020929,
     "end_time": "2024-05-08T04:13:31.524376",
     "exception": false,
     "start_time": "2024-05-08T04:13:31.503447",
     "status": "completed"
    },
    "tags": []
   },
   "source": [
    "First, we need to find a list of all categories containing web frameworks. In this script, to save RAM, we will be using the indexes of categories to represent the category in question, as opposed to the actual category name. We will maintain a mapping from names to indexes and from indexes to names."
   ]
  },
  {
   "cell_type": "code",
   "execution_count": 25,
   "id": "24aac656",
   "metadata": {
    "execution": {
     "iopub.execute_input": "2024-05-08T04:13:31.567965Z",
     "iopub.status.busy": "2024-05-08T04:13:31.567069Z",
     "iopub.status.idle": "2024-05-08T04:13:33.423693Z",
     "shell.execute_reply": "2024-05-08T04:13:33.422647Z"
    },
    "papermill": {
     "duration": 1.881987,
     "end_time": "2024-05-08T04:13:33.427016",
     "exception": false,
     "start_time": "2024-05-08T04:13:31.545029",
     "status": "completed"
    },
    "tags": []
   },
   "outputs": [
    {
     "data": {
      "application/vnd.jupyter.widget-view+json": {
       "model_id": "8abde4e233ed409fb3ceb69567e59f2e",
       "version_major": 2,
       "version_minor": 0
      },
      "text/plain": [
       "  0%|          | 0/99059 [00:00<?, ?it/s]"
      ]
     },
     "metadata": {},
     "output_type": "display_data"
    },
    {
     "data": {
      "application/vnd.jupyter.widget-view+json": {
       "model_id": "7259fc0e52a44932a73bc94c8ec56dd3",
       "version_major": 2,
       "version_minor": 0
      },
      "text/plain": [
       "  0%|          | 0/99059 [00:00<?, ?it/s]"
      ]
     },
     "metadata": {},
     "output_type": "display_data"
    },
    {
     "data": {
      "text/plain": [
       "['Advertising',\n",
       " 'Affiliate Marketing',\n",
       " 'Affiliate Networks',\n",
       " 'Analytics',\n",
       " 'Blogs',\n",
       " 'Build CI Systems',\n",
       " 'CDN',\n",
       " 'CMS',\n",
       " 'Cache',\n",
       " 'Captcha',\n",
       " 'Comments and Reviews',\n",
       " 'Communication',\n",
       " 'Database',\n",
       " 'Databases',\n",
       " 'Dev Tools',\n",
       " 'Document Management Systems',\n",
       " 'Documentation',\n",
       " 'Editors',\n",
       " 'Feed Readers',\n",
       " 'Finance and Accounting',\n",
       " 'Font Script',\n",
       " 'Gallery',\n",
       " 'Hosting Panel',\n",
       " 'Issue Tracker',\n",
       " 'Javascript Frameworks',\n",
       " 'Javascript Graphics',\n",
       " 'LMS',\n",
       " 'Landing Page Builders',\n",
       " 'Maps',\n",
       " 'Media Server',\n",
       " 'Message Board',\n",
       " 'Miscellaneous',\n",
       " 'Miscellaneous 1',\n",
       " 'Mobile Frameworks',\n",
       " 'Operating System',\n",
       " 'Payment Processors',\n",
       " 'Paywalls',\n",
       " 'Programming Language',\n",
       " 'Rich Text Editors',\n",
       " 'Sales and Marketing',\n",
       " 'Search Engine',\n",
       " 'Tag Managers',\n",
       " 'Video',\n",
       " 'Web Framework',\n",
       " 'Web Mail',\n",
       " 'Web Server',\n",
       " 'Web Server Extensions',\n",
       " 'Widgets',\n",
       " 'Wiki']"
      ]
     },
     "execution_count": 25,
     "metadata": {},
     "output_type": "execute_result"
    }
   ],
   "source": [
    "tqdm.pandas() # adds progress_apply to dataframes\n",
    "\n",
    "# note: we use json.loads multiple times in this analysis.\n",
    "# This is for good reason - python dictionaries are less memory-efficient than raw JSON data,\n",
    "# so we want to minimize the number of them created at any one time\n",
    "def getWhatRunsCategories(whatrunsObj):\n",
    "    return frozenset(json.loads(whatrunsObj).keys())\n",
    "whatrunsDataCategories = primary_analysis_df[\"whatrunsData\"].progress_apply(getWhatRunsCategories)\n",
    "allWhatrunsDataCategories = set()\n",
    "for whatrunsCategories in tqdm(whatrunsDataCategories):\n",
    "    allWhatrunsDataCategories.update(whatrunsCategories)\n",
    "allWhatrunsDataCategories = sorted(allWhatrunsDataCategories)\n",
    "allWhatrunsDataCategoriesReverse = {x:i for i,x in enumerate(allWhatrunsDataCategories)}\n",
    "del whatrunsDataCategories\n",
    "\n",
    "# the list of all categories\n",
    "allWhatrunsDataCategories"
   ]
  },
  {
   "cell_type": "markdown",
   "id": "9209ae30",
   "metadata": {
    "papermill": {
     "duration": 0.021167,
     "end_time": "2024-05-08T04:13:33.469417",
     "exception": false,
     "start_time": "2024-05-08T04:13:33.448250",
     "status": "completed"
    },
    "tags": []
   },
   "source": [
    "Next, let's get a full list of WhatRuns frameworks and determine which frameworks each site uses."
   ]
  },
  {
   "cell_type": "code",
   "execution_count": 26,
   "id": "c7013f92",
   "metadata": {
    "execution": {
     "iopub.execute_input": "2024-05-08T04:13:33.514821Z",
     "iopub.status.busy": "2024-05-08T04:13:33.514452Z",
     "iopub.status.idle": "2024-05-08T04:13:36.230376Z",
     "shell.execute_reply": "2024-05-08T04:13:36.229384Z"
    },
    "papermill": {
     "duration": 2.742746,
     "end_time": "2024-05-08T04:13:36.233284",
     "exception": false,
     "start_time": "2024-05-08T04:13:33.490538",
     "status": "completed"
    },
    "tags": []
   },
   "outputs": [
    {
     "data": {
      "application/vnd.jupyter.widget-view+json": {
       "model_id": "ebe97fbc7956454ea1e778c7004e17c5",
       "version_major": 2,
       "version_minor": 0
      },
      "text/plain": [
       "  0%|          | 0/99059 [00:00<?, ?it/s]"
      ]
     },
     "metadata": {},
     "output_type": "display_data"
    }
   ],
   "source": [
    "whatrunsFrameworkNamesFreq = dict()\n",
    "whatrunsFrameworkToCategoryId = dict()\n",
    "\n",
    "def getWhatRunsFrameworkNamesAndIndexes(whatrunsObj):\n",
    "    global whatrunsFrameworkNamesFreq\n",
    "    global whatrunsFrameworkToCategoryId\n",
    "    whatrunsObj = json.loads(whatrunsObj)\n",
    "    list_framework_names = []\n",
    "    for category_name in whatrunsObj:\n",
    "        for framework in whatrunsObj[category_name]:\n",
    "            framework_name = framework['name']\n",
    "            whatrunsFrameworkToCategoryId[framework_name] = allWhatrunsDataCategoriesReverse[category_name]\n",
    "            if framework_name in whatrunsFrameworkNamesFreq:\n",
    "                whatrunsFrameworkNamesFreq[framework_name] += 1\n",
    "            else:\n",
    "                whatrunsFrameworkNamesFreq[framework_name] = 1\n",
    "            list_framework_names.append(framework_name)\n",
    "    return frozenset(list_framework_names)\n",
    "\n",
    "whatrunsDataFrameworkNames = primary_analysis_df[\"whatrunsData\"].progress_apply(getWhatRunsFrameworkNamesAndIndexes)"
   ]
  },
  {
   "cell_type": "markdown",
   "id": "0c0e1908",
   "metadata": {
    "papermill": {
     "duration": 0.020762,
     "end_time": "2024-05-08T04:13:36.275988",
     "exception": false,
     "start_time": "2024-05-08T04:13:36.255226",
     "status": "completed"
    },
    "tags": []
   },
   "source": [
    "It turns out that there are 8,035 web frameworks that WhatRuns is capable of detecting present in the top million websites on the internet."
   ]
  },
  {
   "cell_type": "code",
   "execution_count": 27,
   "id": "76a57bc4",
   "metadata": {
    "execution": {
     "iopub.execute_input": "2024-05-08T04:13:36.320933Z",
     "iopub.status.busy": "2024-05-08T04:13:36.319728Z",
     "iopub.status.idle": "2024-05-08T04:13:36.326637Z",
     "shell.execute_reply": "2024-05-08T04:13:36.325731Z"
    },
    "papermill": {
     "duration": 0.031624,
     "end_time": "2024-05-08T04:13:36.328624",
     "exception": false,
     "start_time": "2024-05-08T04:13:36.297000",
     "status": "completed"
    },
    "tags": []
   },
   "outputs": [
    {
     "data": {
      "text/plain": [
       "8035"
      ]
     },
     "execution_count": 27,
     "metadata": {},
     "output_type": "execute_result"
    }
   ],
   "source": [
    "len(whatrunsFrameworkNamesFreq)"
   ]
  },
  {
   "cell_type": "markdown",
   "id": "f5181175",
   "metadata": {
    "papermill": {
     "duration": 0.020924,
     "end_time": "2024-05-08T04:13:36.370958",
     "exception": false,
     "start_time": "2024-05-08T04:13:36.350034",
     "status": "completed"
    },
    "tags": []
   },
   "source": [
    "This is too many (for our computer's RAM). Let's slim this list down to the top 250 frameworks:"
   ]
  },
  {
   "cell_type": "code",
   "execution_count": 28,
   "id": "c1771a62",
   "metadata": {
    "execution": {
     "iopub.execute_input": "2024-05-08T04:13:36.414987Z",
     "iopub.status.busy": "2024-05-08T04:13:36.414480Z",
     "iopub.status.idle": "2024-05-08T04:13:36.424074Z",
     "shell.execute_reply": "2024-05-08T04:13:36.422997Z"
    },
    "papermill": {
     "duration": 0.033831,
     "end_time": "2024-05-08T04:13:36.425997",
     "exception": false,
     "start_time": "2024-05-08T04:13:36.392166",
     "status": "completed"
    },
    "tags": []
   },
   "outputs": [],
   "source": [
    "whatrunsFrameworkNamesFreq = {k:v for k,v in sorted(whatrunsFrameworkNamesFreq.items(), key=lambda item:item[1], reverse=True)[:250]}"
   ]
  },
  {
   "cell_type": "markdown",
   "id": "4d92f6dc",
   "metadata": {
    "papermill": {
     "duration": 0.021038,
     "end_time": "2024-05-08T04:13:36.469796",
     "exception": false,
     "start_time": "2024-05-08T04:13:36.448758",
     "status": "completed"
    },
    "tags": []
   },
   "source": [
    "Here's an excerpt:"
   ]
  },
  {
   "cell_type": "code",
   "execution_count": 29,
   "id": "022080a9",
   "metadata": {
    "execution": {
     "iopub.execute_input": "2024-05-08T04:13:36.513915Z",
     "iopub.status.busy": "2024-05-08T04:13:36.513517Z",
     "iopub.status.idle": "2024-05-08T04:13:36.521314Z",
     "shell.execute_reply": "2024-05-08T04:13:36.520325Z"
    },
    "papermill": {
     "duration": 0.032424,
     "end_time": "2024-05-08T04:13:36.523248",
     "exception": false,
     "start_time": "2024-05-08T04:13:36.490824",
     "status": "completed"
    },
    "tags": []
   },
   "outputs": [
    {
     "data": {
      "text/plain": [
       "{'jQuery': 29536,\n",
       " 'Google Analytics': 19644,\n",
       " 'Google Tag Manager': 16788,\n",
       " 'Bootstrap': 12340,\n",
       " 'PHP': 12006,\n",
       " 'Nginx': 11277,\n",
       " 'Google Font API': 10923,\n",
       " 'CloudFlare': 10204,\n",
       " 'Apache': 7867,\n",
       " 'Facebook Pixel': 7849,\n",
       " 'Facebook': 7797,\n",
       " 'Font Awesome': 6748,\n",
       " 'Google AdSense': 6243,\n",
       " 'DoubleClick (DFP)': 5751,\n",
       " 'WordPress': 4732,\n",
       " 'Modernizr': 4345,\n",
       " 'jQuery UI': 4244,\n",
       " 'HTML5 Shiv': 4200,\n",
       " 'Google Ads': 4165,\n",
       " 'ASP.NET': 4010,\n",
       " 'CDN JS': 3666,\n",
       " 'embed JS': 3576,\n",
       " 'webpack': 3363,\n",
       " 'Windows Server': 3070,\n",
       " 'IIS': 3016,\n",
       " 'Respond JS': 2582,\n",
       " 'Moment JS': 2508,\n",
       " 'Twitter Ads': 2187,\n",
       " 'Twitter Emoji (Twemoji)': 2150,\n",
       " 'React': 2117,\n",
       " 'Twitter': 2103,\n",
       " 'Async': 2065,\n",
       " 'NewRelic': 1724,\n",
       " 'reCAPTCHA': 1677,\n",
       " 'Amazon Cloudfront': 1665,\n",
       " 'Yoast SEO': 1615,\n",
       " 'OWL Carousel': 1559,\n",
       " 'comScore': 1536,\n",
       " 'Ubuntu': 1455,\n",
       " 'Yandex.Metrika': 1422,\n",
       " 'Scorecardresearch': 1417,\n",
       " 'jsDelivr': 1365,\n",
       " 'RequireJS': 1350,\n",
       " 'Hotjar': 1306,\n",
       " 'Varnish': 1290,\n",
       " 'LazyLoad': 1245,\n",
       " 'Criteo': 1222,\n",
       " 'Google Plus': 1187,\n",
       " 'Onesignal': 1143,\n",
       " 'Java': 1108}"
      ]
     },
     "execution_count": 29,
     "metadata": {},
     "output_type": "execute_result"
    }
   ],
   "source": [
    "{k:v for k,v in list(whatrunsFrameworkNamesFreq.items())[:50]}"
   ]
  },
  {
   "cell_type": "markdown",
   "id": "6115c7c5",
   "metadata": {
    "papermill": {
     "duration": 0.021864,
     "end_time": "2024-05-08T04:13:36.566642",
     "exception": false,
     "start_time": "2024-05-08T04:13:36.544778",
     "status": "completed"
    },
    "tags": []
   },
   "source": [
    "Interestingly enough, the most popular framework on the web, according to this dataset, is jQuery."
   ]
  },
  {
   "cell_type": "markdown",
   "id": "0fe7b80b",
   "metadata": {
    "papermill": {
     "duration": 0.021612,
     "end_time": "2024-05-08T04:13:36.609704",
     "exception": false,
     "start_time": "2024-05-08T04:13:36.588092",
     "status": "completed"
    },
    "tags": []
   },
   "source": [
    "For each of these frameworks, let's create a new column in the dataset representing whether the framework is present."
   ]
  },
  {
   "cell_type": "code",
   "execution_count": 30,
   "id": "9f1b6f0a",
   "metadata": {
    "execution": {
     "iopub.execute_input": "2024-05-08T04:13:36.654019Z",
     "iopub.status.busy": "2024-05-08T04:13:36.653630Z",
     "iopub.status.idle": "2024-05-08T04:13:43.299516Z",
     "shell.execute_reply": "2024-05-08T04:13:43.298511Z"
    },
    "papermill": {
     "duration": 6.670751,
     "end_time": "2024-05-08T04:13:43.301778",
     "exception": false,
     "start_time": "2024-05-08T04:13:36.631027",
     "status": "completed"
    },
    "tags": []
   },
   "outputs": [
    {
     "data": {
      "application/vnd.jupyter.widget-view+json": {
       "model_id": "965952e288da4d628f6a18aabef004ab",
       "version_major": 2,
       "version_minor": 0
      },
      "text/plain": [
       "  0%|          | 0/250 [00:00<?, ?it/s]"
      ]
     },
     "metadata": {},
     "output_type": "display_data"
    }
   ],
   "source": [
    "new_cols = dict()\n",
    "for framework in tqdm(whatrunsFrameworkNamesFreq):\n",
    "    new_cols[f\"{framework}_present\"] = whatrunsDataFrameworkNames.apply(lambda s:(framework in s)).astype(\"bool\")"
   ]
  },
  {
   "cell_type": "markdown",
   "id": "def666b5",
   "metadata": {
    "papermill": {
     "duration": 0.021519,
     "end_time": "2024-05-08T04:13:43.345478",
     "exception": false,
     "start_time": "2024-05-08T04:13:43.323959",
     "status": "completed"
    },
    "tags": []
   },
   "source": [
    "We created the columns in a dictionary to reduce the fragmentation of the dataframe. We can now add all the columns back to the DataFrame at once:"
   ]
  },
  {
   "cell_type": "code",
   "execution_count": 31,
   "id": "00522de7",
   "metadata": {
    "execution": {
     "iopub.execute_input": "2024-05-08T04:13:43.390558Z",
     "iopub.status.busy": "2024-05-08T04:13:43.390176Z",
     "iopub.status.idle": "2024-05-08T04:13:43.426029Z",
     "shell.execute_reply": "2024-05-08T04:13:43.424993Z"
    },
    "papermill": {
     "duration": 0.061244,
     "end_time": "2024-05-08T04:13:43.428415",
     "exception": false,
     "start_time": "2024-05-08T04:13:43.367171",
     "status": "completed"
    },
    "tags": []
   },
   "outputs": [],
   "source": [
    "new_col_names = list(new_cols.keys())\n",
    "primary_analysis_df = pd.concat(\n",
    "    [\n",
    "        primary_analysis_df,\n",
    "        pd.DataFrame(\n",
    "            new_cols,\n",
    "            index=primary_analysis_df.index\n",
    "        )\n",
    "    ], axis=1\n",
    ")\n",
    "del new_cols"
   ]
  },
  {
   "cell_type": "markdown",
   "id": "b91ca1b0",
   "metadata": {
    "papermill": {
     "duration": 0.021551,
     "end_time": "2024-05-08T04:13:43.471712",
     "exception": false,
     "start_time": "2024-05-08T04:13:43.450161",
     "status": "completed"
    },
    "tags": []
   },
   "source": [
    "Out of the top 10 million websites on the internet, this is how many use jQuery:"
   ]
  },
  {
   "cell_type": "code",
   "execution_count": 32,
   "id": "7ab70a55",
   "metadata": {
    "execution": {
     "iopub.execute_input": "2024-05-08T04:13:43.517312Z",
     "iopub.status.busy": "2024-05-08T04:13:43.516284Z",
     "iopub.status.idle": "2024-05-08T04:13:43.523629Z",
     "shell.execute_reply": "2024-05-08T04:13:43.522664Z"
    },
    "papermill": {
     "duration": 0.032226,
     "end_time": "2024-05-08T04:13:43.525631",
     "exception": false,
     "start_time": "2024-05-08T04:13:43.493405",
     "status": "completed"
    },
    "tags": []
   },
   "outputs": [
    {
     "data": {
      "text/plain": [
       "29536"
      ]
     },
     "execution_count": 32,
     "metadata": {},
     "output_type": "execute_result"
    }
   ],
   "source": [
    "primary_analysis_df[\"jQuery_present\"].sum()"
   ]
  },
  {
   "cell_type": "markdown",
   "id": "aa47e7b6",
   "metadata": {
    "papermill": {
     "duration": 0.021987,
     "end_time": "2024-05-08T04:13:43.569532",
     "exception": false,
     "start_time": "2024-05-08T04:13:43.547545",
     "status": "completed"
    },
    "tags": []
   },
   "source": [
    "## 4.2: Model Training"
   ]
  },
  {
   "cell_type": "code",
   "execution_count": 33,
   "id": "e5531164",
   "metadata": {
    "execution": {
     "iopub.execute_input": "2024-05-08T04:13:43.614980Z",
     "iopub.status.busy": "2024-05-08T04:13:43.614574Z",
     "iopub.status.idle": "2024-05-08T04:15:13.645264Z",
     "shell.execute_reply": "2024-05-08T04:15:13.644074Z"
    },
    "papermill": {
     "duration": 90.056304,
     "end_time": "2024-05-08T04:15:13.647731",
     "exception": false,
     "start_time": "2024-05-08T04:13:43.591427",
     "status": "completed"
    },
    "tags": []
   },
   "outputs": [],
   "source": [
    "#Featuers\n",
    "X = primary_analysis_df[new_col_names]\n",
    "#target variable\n",
    "y = primary_analysis_df['avg_fcp']\n",
    "\n",
    "X_train, X_test, y_train, y_test = train_test_split(X, y, test_size = 0.2, random_state = 42)\n",
    "\n",
    "with parallel_backend(\"loky\", n_jobs=4):\n",
    "    regressor = RandomForestRegressor(n_estimators=100, random_state=42)\n",
    "    regressor.fit(X_train, y_train)\n",
    "    y_pred = regressor.predict(X_test)"
   ]
  },
  {
   "cell_type": "code",
   "execution_count": 34,
   "id": "d996d4c5",
   "metadata": {
    "execution": {
     "iopub.execute_input": "2024-05-08T04:15:13.693766Z",
     "iopub.status.busy": "2024-05-08T04:15:13.692846Z",
     "iopub.status.idle": "2024-05-08T04:15:13.699922Z",
     "shell.execute_reply": "2024-05-08T04:15:13.699158Z"
    },
    "papermill": {
     "duration": 0.031976,
     "end_time": "2024-05-08T04:15:13.701913",
     "exception": false,
     "start_time": "2024-05-08T04:15:13.669937",
     "status": "completed"
    },
    "tags": []
   },
   "outputs": [],
   "source": [
    "mse = mean_squared_error(y_test, y_pred)\n",
    "r2 = r2_score(y_test, y_pred)"
   ]
  },
  {
   "cell_type": "markdown",
   "id": "a84a7b60",
   "metadata": {
    "papermill": {
     "duration": 0.021166,
     "end_time": "2024-05-08T04:15:13.744734",
     "exception": false,
     "start_time": "2024-05-08T04:15:13.723568",
     "status": "completed"
    },
    "tags": []
   },
   "source": [
    "These are the resultant MSE and $r^2$ scores for our model:"
   ]
  },
  {
   "cell_type": "code",
   "execution_count": 35,
   "id": "26dacdae",
   "metadata": {
    "execution": {
     "iopub.execute_input": "2024-05-08T04:15:13.789865Z",
     "iopub.status.busy": "2024-05-08T04:15:13.789091Z",
     "iopub.status.idle": "2024-05-08T04:15:13.795420Z",
     "shell.execute_reply": "2024-05-08T04:15:13.794474Z"
    },
    "papermill": {
     "duration": 0.031044,
     "end_time": "2024-05-08T04:15:13.797522",
     "exception": false,
     "start_time": "2024-05-08T04:15:13.766478",
     "status": "completed"
    },
    "tags": []
   },
   "outputs": [
    {
     "data": {
      "text/plain": [
       "0.007117814688800489"
      ]
     },
     "execution_count": 35,
     "metadata": {},
     "output_type": "execute_result"
    }
   ],
   "source": [
    "mse"
   ]
  },
  {
   "cell_type": "code",
   "execution_count": 36,
   "id": "42c20252",
   "metadata": {
    "execution": {
     "iopub.execute_input": "2024-05-08T04:15:13.843025Z",
     "iopub.status.busy": "2024-05-08T04:15:13.842255Z",
     "iopub.status.idle": "2024-05-08T04:15:13.848202Z",
     "shell.execute_reply": "2024-05-08T04:15:13.847237Z"
    },
    "papermill": {
     "duration": 0.030888,
     "end_time": "2024-05-08T04:15:13.850213",
     "exception": false,
     "start_time": "2024-05-08T04:15:13.819325",
     "status": "completed"
    },
    "tags": []
   },
   "outputs": [
    {
     "data": {
      "text/plain": [
       "0.02281997905241029"
      ]
     },
     "execution_count": 36,
     "metadata": {},
     "output_type": "execute_result"
    }
   ],
   "source": [
    "r2"
   ]
  },
  {
   "cell_type": "markdown",
   "id": "8673f3a2",
   "metadata": {
    "papermill": {
     "duration": 0.021582,
     "end_time": "2024-05-08T04:15:13.893771",
     "exception": false,
     "start_time": "2024-05-08T04:15:13.872189",
     "status": "completed"
    },
    "tags": []
   },
   "source": [
    "As you can see, the correlation found by our model, if any, is quite weak."
   ]
  },
  {
   "cell_type": "markdown",
   "id": "4ede1661",
   "metadata": {
    "papermill": {
     "duration": 0.021589,
     "end_time": "2024-05-08T04:15:13.937316",
     "exception": false,
     "start_time": "2024-05-08T04:15:13.915727",
     "status": "completed"
    },
    "tags": []
   },
   "source": [
    "# __Part 5: Visualization__"
   ]
  },
  {
   "cell_type": "code",
   "execution_count": 37,
   "id": "14a4f0ca",
   "metadata": {
    "execution": {
     "iopub.execute_input": "2024-05-08T04:15:13.982271Z",
     "iopub.status.busy": "2024-05-08T04:15:13.981887Z",
     "iopub.status.idle": "2024-05-08T04:15:14.313868Z",
     "shell.execute_reply": "2024-05-08T04:15:14.312816Z"
    },
    "papermill": {
     "duration": 0.357279,
     "end_time": "2024-05-08T04:15:14.316352",
     "exception": false,
     "start_time": "2024-05-08T04:15:13.959073",
     "status": "completed"
    },
    "tags": []
   },
   "outputs": [
    {
     "data": {
      "image/png": "[encoded data removed]",
      "text/plain": [
       "<Figure size 640x480 with 1 Axes>"
      ]
     },
     "metadata": {},
     "output_type": "display_data"
    }
   ],
   "source": [
    "plt.scatter(y_test, y_pred, color = 'blue', alpha = 0.5)\n",
    "plt.title('Actual vs Predicted Preformance Speed')\n",
    "plt.xlabel('Actual Preformance Speed')\n",
    "plt.ylabel('Predicted Preformance Speed')\n",
    "plt.show()"
   ]
  },
  {
   "cell_type": "markdown",
   "id": "8c64c0c8",
   "metadata": {
    "papermill": {
     "duration": 0.023719,
     "end_time": "2024-05-08T04:15:14.364372",
     "exception": false,
     "start_time": "2024-05-08T04:15:14.340653",
     "status": "completed"
    },
    "tags": []
   },
   "source": [
    "# __Part 6: Insights and Conclusions__\n",
    "\n",
    "Overall, we were able to gather many different data points for a large set of websites on the internet and analyze some of their relationships. This includes the frameworks the website uses, the cloud platforms it is hosted on, and many different ways of measuring the performance of the website, including metrics such as first contentful paint, first input delay, and many others.\n",
    "\n",
    "We also explored certain features of this dataset, and gathered some interesting conclusions. This includes:\n",
    "- different websites are used across different device types, such as desktop, mobile, and tablet. Some websites are geared more towards some of these categories than others\n",
    "- websites have different levels of performance on different device types\n",
    "- all cloud platforms are either statistically significantly faster or slower than other options, but the difference is likely not large enough to matter.\n",
    "\n",
    "We were also ultimately able to train a large random forest classifier on our dataset, attempting to predict the First Contentful Paint (FCP) - based load time of a website based on the frameworks it uses. Unfortunately, we did not get a strong positive result, as our coefficient of determination $r^2$ was only 0.022. This could be because we only used the top 250 (out of over 8,000) web frameworks to train our web scraper, and many websites potentially don't use these frameworks. One likely potential reason is that, in addition to using web frameworks, a major driver of performance among websites is how efficiently the code is written, which isn't something we can measure with our analysis. If we ever gain access to a big enough machine, we may eventually try to see if using the entire set of frameworks as the training dataset for the Random Forest model provides a significant gain in its $r^2$ score.\n",
    "\n",
    "Overall, we certainly met our original goal of taking a \"census\" of the most popular websites avaliable on the internet. This was a great learning experience in terms of working with large datasets using different kinds of statistical tests. The expansive nature of the datset also made it super fun to investigate, as this dataset is a gold mine of potential insights into how the internet works and what makes websites performant and popular. These could ultimately be useful in informing future web developement or analytics projects by giving people a better understanding of what makes the web tick.\n",
    "\n",
    "Some challenges we encountered include running out of RAM to analyze our dataset with and implementing complex \"grouping\" operations using Pandas. In general, our issues were associated with dealing with the difficulties associated with a dataset containing over 20 million rows and 50 columns. We ultimately found dealing with these to be a valuable learning experience.\n",
    "\n",
    "Potential future directions for this project include:\n",
    "- getting access to a large enough machine to run this analysis for all 10,000,000 data points, and run the random forest analysis with all >8,000 frameworks\n",
    "- getting access to enough storage to gather all 50 million points represented in the CrUX dataset\n",
    "- comparing the list of domain names with filtering lists for spam, malware, adult content, etc., to see how common these websites are among the most popular websites of the internet (a preliminary analysis suggests they are, in fact, very common, but more research is necessary)\n",
    "- determining whether certain types of frameworks are more common among sites containing spam, malware, or adult content\n",
    "- using different data sources (such as device type, protocol, cloud provider, etc.) and different kinds of models to see if we can, in fact, key predict performance metrics of a website with a higher level of accuracy\n",
    "- gathering historical or future data and comparing it to current data to see how these metrics change over time.\n",
    "\n",
    "Acknowledgements\n",
    "- Dr. Fardina Alam, for supporting us through this course and especially with the help and advice associated with using a custom dataset."
   ]
  }
 ],
 "metadata": {
  "kaggle": {
   "accelerator": "none",
   "dataSources": [
    {
     "datasetId": 4961646,
     "sourceId": 8351026,
     "sourceType": "datasetVersion"
    },
    {
     "sourceId": 176298569,
     "sourceType": "kernelVersion"
    }
   ],
   "dockerImageVersionId": 30698,
   "isGpuEnabled": false,
   "isInternetEnabled": true,
   "language": "python",
   "sourceType": "notebook"
  },
  "kernelspec": {
   "display_name": "Python 3",
   "language": "python",
   "name": "python3"
  },
  "language_info": {
   "codemirror_mode": {
    "name": "ipython",
    "version": 3
   },
   "file_extension": ".py",
   "mimetype": "text/x-python",
   "name": "python",
   "nbconvert_exporter": "python",
   "pygments_lexer": "ipython3",
   "version": "3.10.13"
  },
  "papermill": {
   "default_parameters": {},
   "duration": 365.101105,
   "end_time": "2024-05-08T04:15:17.210691",
   "environment_variables": {},
   "exception": null,
   "input_path": "__notebook__.ipynb",
   "output_path": "__notebook__.ipynb",
   "parameters": {},
   "start_time": "2024-05-08T04:09:12.109586",
   "version": "2.5.0"
  },
  "widgets": {
   "application/vnd.jupyter.widget-state+json": {
    "state": {
     "053506e6a0844bd294625243b677834b": {
      "model_module": "@jupyter-widgets/controls",
      "model_module_version": "1.5.0",
      "model_name": "FloatProgressModel",
      "state": {
       "_dom_classes": [],
       "_model_module": "@jupyter-widgets/controls",
       "_model_module_version": "1.5.0",
       "_model_name": "FloatProgressModel",
       "_view_count": null,
       "_view_module": "@jupyter-widgets/controls",
       "_view_module_version": "1.5.0",
       "_view_name": "ProgressView",
       "bar_style": "success",
       "description": "",
       "description_tooltip": null,
       "layout": "IPY_MODEL_ffbd40847fd34421a918f64f341044ec",
       "max": 99059,
       "min": 0,
       "orientation": "horizontal",
       "style": "IPY_MODEL_b32cb2f74b104215abf53ff1250b8665",
       "value": 99059
      }
     },
     "0bcb60f3219542f6a1c5a60f890ab9d1": {
      "model_module": "@jupyter-widgets/controls",
      "model_module_version": "1.5.0",
      "model_name": "HTMLModel",
      "state": {
       "_dom_classes": [],
       "_model_module": "@jupyter-widgets/controls",
       "_model_module_version": "1.5.0",
       "_model_name": "HTMLModel",
       "_view_count": null,
       "_view_module": "@jupyter-widgets/controls",
       "_view_module_version": "1.5.0",
       "_view_name": "HTMLView",
       "description": "",
       "description_tooltip": null,
       "layout": "IPY_MODEL_ee18c0a3a1cf4487a8e00ccd89bee929",
       "placeholder": "​",
       "style": "IPY_MODEL_ccfb50614d6f4f14af9f328d3c9e225b",
       "value": "100%"
      }
     },
     "14d189568a51495397eef4f0d5762267": {
      "model_module": "@jupyter-widgets/controls",
      "model_module_version": "1.5.0",
      "model_name": "DescriptionStyleModel",
      "state": {
       "_model_module": "@jupyter-widgets/controls",
       "_model_module_version": "1.5.0",
       "_model_name": "DescriptionStyleModel",
       "_view_count": null,
       "_view_module": "@jupyter-widgets/base",
       "_view_module_version": "1.2.0",
       "_view_name": "StyleView",
       "description_width": ""
      }
     },
     "1e735d232a1d45deab0536d824643b07": {
      "model_module": "@jupyter-widgets/base",
      "model_module_version": "1.2.0",
      "model_name": "LayoutModel",
      "state": {
       "_model_module": "@jupyter-widgets/base",
       "_model_module_version": "1.2.0",
       "_model_name": "LayoutModel",
       "_view_count": null,
       "_view_module": "@jupyter-widgets/base",
       "_view_module_version": "1.2.0",
       "_view_name": "LayoutView",
       "align_content": null,
       "align_items": null,
       "align_self": null,
       "border": null,
       "bottom": null,
       "display": null,
       "flex": null,
       "flex_flow": null,
       "grid_area": null,
       "grid_auto_columns": null,
       "grid_auto_flow": null,
       "grid_auto_rows": null,
       "grid_column": null,
       "grid_gap": null,
       "grid_row": null,
       "grid_template_areas": null,
       "grid_template_columns": null,
       "grid_template_rows": null,
       "height": null,
       "justify_content": null,
       "justify_items": null,
       "left": null,
       "margin": null,
       "max_height": null,
       "max_width": null,
       "min_height": null,
       "min_width": null,
       "object_fit": null,
       "object_position": null,
       "order": null,
       "overflow": null,
       "overflow_x": null,
       "overflow_y": null,
       "padding": null,
       "right": null,
       "top": null,
       "visibility": null,
       "width": null
      }
     },
     "23fcbdaded4143feac0f28deb0412499": {
      "model_module": "@jupyter-widgets/base",
      "model_module_version": "1.2.0",
      "model_name": "LayoutModel",
      "state": {
       "_model_module": "@jupyter-widgets/base",
       "_model_module_version": "1.2.0",
       "_model_name": "LayoutModel",
       "_view_count": null,
       "_view_module": "@jupyter-widgets/base",
       "_view_module_version": "1.2.0",
       "_view_name": "LayoutView",
       "align_content": null,
       "align_items": null,
       "align_self": null,
       "border": null,
       "bottom": null,
       "display": null,
       "flex": null,
       "flex_flow": null,
       "grid_area": null,
       "grid_auto_columns": null,
       "grid_auto_flow": null,
       "grid_auto_rows": null,
       "grid_column": null,
       "grid_gap": null,
       "grid_row": null,
       "grid_template_areas": null,
       "grid_template_columns": null,
       "grid_template_rows": null,
       "height": null,
       "justify_content": null,
       "justify_items": null,
       "left": null,
       "margin": null,
       "max_height": null,
       "max_width": null,
       "min_height": null,
       "min_width": null,
       "object_fit": null,
       "object_position": null,
       "order": null,
       "overflow": null,
       "overflow_x": null,
       "overflow_y": null,
       "padding": null,
       "right": null,
       "top": null,
       "visibility": null,
       "width": null
      }
     },
     "2afe49ff1f2349d0a25bbbab52f964cc": {
      "model_module": "@jupyter-widgets/controls",
      "model_module_version": "1.5.0",
      "model_name": "DescriptionStyleModel",
      "state": {
       "_model_module": "@jupyter-widgets/controls",
       "_model_module_version": "1.5.0",
       "_model_name": "DescriptionStyleModel",
       "_view_count": null,
       "_view_module": "@jupyter-widgets/base",
       "_view_module_version": "1.2.0",
       "_view_name": "StyleView",
       "description_width": ""
      }
     },
     "2bfc3675113d457590b6378912d2dc34": {
      "model_module": "@jupyter-widgets/controls",
      "model_module_version": "1.5.0",
      "model_name": "HTMLModel",
      "state": {
       "_dom_classes": [],
       "_model_module": "@jupyter-widgets/controls",
       "_model_module_version": "1.5.0",
       "_model_name": "HTMLModel",
       "_view_count": null,
       "_view_module": "@jupyter-widgets/controls",
       "_view_module_version": "1.5.0",
       "_view_name": "HTMLView",
       "description": "",
       "description_tooltip": null,
       "layout": "IPY_MODEL_5b218e5a3ea24badbba5b605a220b390",
       "placeholder": "​",
       "style": "IPY_MODEL_2afe49ff1f2349d0a25bbbab52f964cc",
       "value": " 99059/99059 [00:02&lt;00:00, 51191.08it/s]"
      }
     },
     "2e88ee2d6928474db3db3f63e5da5b6e": {
      "model_module": "@jupyter-widgets/base",
      "model_module_version": "1.2.0",
      "model_name": "LayoutModel",
      "state": {
       "_model_module": "@jupyter-widgets/base",
       "_model_module_version": "1.2.0",
       "_model_name": "LayoutModel",
       "_view_count": null,
       "_view_module": "@jupyter-widgets/base",
       "_view_module_version": "1.2.0",
       "_view_name": "LayoutView",
       "align_content": null,
       "align_items": null,
       "align_self": null,
       "border": null,
       "bottom": null,
       "display": null,
       "flex": null,
       "flex_flow": null,
       "grid_area": null,
       "grid_auto_columns": null,
       "grid_auto_flow": null,
       "grid_auto_rows": null,
       "grid_column": null,
       "grid_gap": null,
       "grid_row": null,
       "grid_template_areas": null,
       "grid_template_columns": null,
       "grid_template_rows": null,
       "height": null,
       "justify_content": null,
       "justify_items": null,
       "left": null,
       "margin": null,
       "max_height": null,
       "max_width": null,
       "min_height": null,
       "min_width": null,
       "object_fit": null,
       "object_position": null,
       "order": null,
       "overflow": null,
       "overflow_x": null,
       "overflow_y": null,
       "padding": null,
       "right": null,
       "top": null,
       "visibility": null,
       "width": null
      }
     },
     "33458dff7b6f4a2a85e241ce43978f83": {
      "model_module": "@jupyter-widgets/controls",
      "model_module_version": "1.5.0",
      "model_name": "DescriptionStyleModel",
      "state": {
       "_model_module": "@jupyter-widgets/controls",
       "_model_module_version": "1.5.0",
       "_model_name": "DescriptionStyleModel",
       "_view_count": null,
       "_view_module": "@jupyter-widgets/base",
       "_view_module_version": "1.2.0",
       "_view_name": "StyleView",
       "description_width": ""
      }
     },
     "38db051f11df473197791cb173fb6fe4": {
      "model_module": "@jupyter-widgets/base",
      "model_module_version": "1.2.0",
      "model_name": "LayoutModel",
      "state": {
       "_model_module": "@jupyter-widgets/base",
       "_model_module_version": "1.2.0",
       "_model_name": "LayoutModel",
       "_view_count": null,
       "_view_module": "@jupyter-widgets/base",
       "_view_module_version": "1.2.0",
       "_view_name": "LayoutView",
       "align_content": null,
       "align_items": null,
       "align_self": null,
       "border": null,
       "bottom": null,
       "display": null,
       "flex": null,
       "flex_flow": null,
       "grid_area": null,
       "grid_auto_columns": null,
       "grid_auto_flow": null,
       "grid_auto_rows": null,
       "grid_column": null,
       "grid_gap": null,
       "grid_row": null,
       "grid_template_areas": null,
       "grid_template_columns": null,
       "grid_template_rows": null,
       "height": null,
       "justify_content": null,
       "justify_items": null,
       "left": null,
       "margin": null,
       "max_height": null,
       "max_width": null,
       "min_height": null,
       "min_width": null,
       "object_fit": null,
       "object_position": null,
       "order": null,
       "overflow": null,
       "overflow_x": null,
       "overflow_y": null,
       "padding": null,
       "right": null,
       "top": null,
       "visibility": null,
       "width": null
      }
     },
     "397a30a8980049f98b6865fe245adeb1": {
      "model_module": "@jupyter-widgets/controls",
      "model_module_version": "1.5.0",
      "model_name": "HTMLModel",
      "state": {
       "_dom_classes": [],
       "_model_module": "@jupyter-widgets/controls",
       "_model_module_version": "1.5.0",
       "_model_name": "HTMLModel",
       "_view_count": null,
       "_view_module": "@jupyter-widgets/controls",
       "_view_module_version": "1.5.0",
       "_view_name": "HTMLView",
       "description": "",
       "description_tooltip": null,
       "layout": "IPY_MODEL_84a6267771284b43a8143ba8c3824b39",
       "placeholder": "​",
       "style": "IPY_MODEL_4b71a71f15e843ceae9776758e211e09",
       "value": " 99059/99059 [00:00&lt;00:00, 1134432.30it/s]"
      }
     },
     "419b2c850a724f31879092fa173d2f87": {
      "model_module": "@jupyter-widgets/controls",
      "model_module_version": "1.5.0",
      "model_name": "DescriptionStyleModel",
      "state": {
       "_model_module": "@jupyter-widgets/controls",
       "_model_module_version": "1.5.0",
       "_model_name": "DescriptionStyleModel",
       "_view_count": null,
       "_view_module": "@jupyter-widgets/base",
       "_view_module_version": "1.2.0",
       "_view_name": "StyleView",
       "description_width": ""
      }
     },
     "43541ee749a4406cb588dbda25a3eb74": {
      "model_module": "@jupyter-widgets/controls",
      "model_module_version": "1.5.0",
      "model_name": "ProgressStyleModel",
      "state": {
       "_model_module": "@jupyter-widgets/controls",
       "_model_module_version": "1.5.0",
       "_model_name": "ProgressStyleModel",
       "_view_count": null,
       "_view_module": "@jupyter-widgets/base",
       "_view_module_version": "1.2.0",
       "_view_name": "StyleView",
       "bar_color": null,
       "description_width": ""
      }
     },
     "43a9dd9ad9b144dcb427977182a49d90": {
      "model_module": "@jupyter-widgets/base",
      "model_module_version": "1.2.0",
      "model_name": "LayoutModel",
      "state": {
       "_model_module": "@jupyter-widgets/base",
       "_model_module_version": "1.2.0",
       "_model_name": "LayoutModel",
       "_view_count": null,
       "_view_module": "@jupyter-widgets/base",
       "_view_module_version": "1.2.0",
       "_view_name": "LayoutView",
       "align_content": null,
       "align_items": null,
       "align_self": null,
       "border": null,
       "bottom": null,
       "display": null,
       "flex": null,
       "flex_flow": null,
       "grid_area": null,
       "grid_auto_columns": null,
       "grid_auto_flow": null,
       "grid_auto_rows": null,
       "grid_column": null,
       "grid_gap": null,
       "grid_row": null,
       "grid_template_areas": null,
       "grid_template_columns": null,
       "grid_template_rows": null,
       "height": null,
       "justify_content": null,
       "justify_items": null,
       "left": null,
       "margin": null,
       "max_height": null,
       "max_width": null,
       "min_height": null,
       "min_width": null,
       "object_fit": null,
       "object_position": null,
       "order": null,
       "overflow": null,
       "overflow_x": null,
       "overflow_y": null,
       "padding": null,
       "right": null,
       "top": null,
       "visibility": null,
       "width": null
      }
     },
     "4a1455ffdf3a44458c035571553b0e18": {
      "model_module": "@jupyter-widgets/base",
      "model_module_version": "1.2.0",
      "model_name": "LayoutModel",
      "state": {
       "_model_module": "@jupyter-widgets/base",
       "_model_module_version": "1.2.0",
       "_model_name": "LayoutModel",
       "_view_count": null,
       "_view_module": "@jupyter-widgets/base",
       "_view_module_version": "1.2.0",
       "_view_name": "LayoutView",
       "align_content": null,
       "align_items": null,
       "align_self": null,
       "border": null,
       "bottom": null,
       "display": null,
       "flex": null,
       "flex_flow": null,
       "grid_area": null,
       "grid_auto_columns": null,
       "grid_auto_flow": null,
       "grid_auto_rows": null,
       "grid_column": null,
       "grid_gap": null,
       "grid_row": null,
       "grid_template_areas": null,
       "grid_template_columns": null,
       "grid_template_rows": null,
       "height": null,
       "justify_content": null,
       "justify_items": null,
       "left": null,
       "margin": null,
       "max_height": null,
       "max_width": null,
       "min_height": null,
       "min_width": null,
       "object_fit": null,
       "object_position": null,
       "order": null,
       "overflow": null,
       "overflow_x": null,
       "overflow_y": null,
       "padding": null,
       "right": null,
       "top": null,
       "visibility": null,
       "width": null
      }
     },
     "4b71a71f15e843ceae9776758e211e09": {
      "model_module": "@jupyter-widgets/controls",
      "model_module_version": "1.5.0",
      "model_name": "DescriptionStyleModel",
      "state": {
       "_model_module": "@jupyter-widgets/controls",
       "_model_module_version": "1.5.0",
       "_model_name": "DescriptionStyleModel",
       "_view_count": null,
       "_view_module": "@jupyter-widgets/base",
       "_view_module_version": "1.2.0",
       "_view_name": "StyleView",
       "description_width": ""
      }
     },
     "4f3f7a9364ff4155983d8e4631004e0d": {
      "model_module": "@jupyter-widgets/controls",
      "model_module_version": "1.5.0",
      "model_name": "DescriptionStyleModel",
      "state": {
       "_model_module": "@jupyter-widgets/controls",
       "_model_module_version": "1.5.0",
       "_model_name": "DescriptionStyleModel",
       "_view_count": null,
       "_view_module": "@jupyter-widgets/base",
       "_view_module_version": "1.2.0",
       "_view_name": "StyleView",
       "description_width": ""
      }
     },
     "54c206a92fe5421f90dd68b40a26f9e6": {
      "model_module": "@jupyter-widgets/base",
      "model_module_version": "1.2.0",
      "model_name": "LayoutModel",
      "state": {
       "_model_module": "@jupyter-widgets/base",
       "_model_module_version": "1.2.0",
       "_model_name": "LayoutModel",
       "_view_count": null,
       "_view_module": "@jupyter-widgets/base",
       "_view_module_version": "1.2.0",
       "_view_name": "LayoutView",
       "align_content": null,
       "align_items": null,
       "align_self": null,
       "border": null,
       "bottom": null,
       "display": null,
       "flex": null,
       "flex_flow": null,
       "grid_area": null,
       "grid_auto_columns": null,
       "grid_auto_flow": null,
       "grid_auto_rows": null,
       "grid_column": null,
       "grid_gap": null,
       "grid_row": null,
       "grid_template_areas": null,
       "grid_template_columns": null,
       "grid_template_rows": null,
       "height": null,
       "justify_content": null,
       "justify_items": null,
       "left": null,
       "margin": null,
       "max_height": null,
       "max_width": null,
       "min_height": null,
       "min_width": null,
       "object_fit": null,
       "object_position": null,
       "order": null,
       "overflow": null,
       "overflow_x": null,
       "overflow_y": null,
       "padding": null,
       "right": null,
       "top": null,
       "visibility": null,
       "width": null
      }
     },
     "54d425d1ba7b4446aa1897f0d772fc6b": {
      "model_module": "@jupyter-widgets/base",
      "model_module_version": "1.2.0",
      "model_name": "LayoutModel",
      "state": {
       "_model_module": "@jupyter-widgets/base",
       "_model_module_version": "1.2.0",
       "_model_name": "LayoutModel",
       "_view_count": null,
       "_view_module": "@jupyter-widgets/base",
       "_view_module_version": "1.2.0",
       "_view_name": "LayoutView",
       "align_content": null,
       "align_items": null,
       "align_self": null,
       "border": null,
       "bottom": null,
       "display": null,
       "flex": null,
       "flex_flow": null,
       "grid_area": null,
       "grid_auto_columns": null,
       "grid_auto_flow": null,
       "grid_auto_rows": null,
       "grid_column": null,
       "grid_gap": null,
       "grid_row": null,
       "grid_template_areas": null,
       "grid_template_columns": null,
       "grid_template_rows": null,
       "height": null,
       "justify_content": null,
       "justify_items": null,
       "left": null,
       "margin": null,
       "max_height": null,
       "max_width": null,
       "min_height": null,
       "min_width": null,
       "object_fit": null,
       "object_position": null,
       "order": null,
       "overflow": null,
       "overflow_x": null,
       "overflow_y": null,
       "padding": null,
       "right": null,
       "top": null,
       "visibility": null,
       "width": null
      }
     },
     "5b218e5a3ea24badbba5b605a220b390": {
      "model_module": "@jupyter-widgets/base",
      "model_module_version": "1.2.0",
      "model_name": "LayoutModel",
      "state": {
       "_model_module": "@jupyter-widgets/base",
       "_model_module_version": "1.2.0",
       "_model_name": "LayoutModel",
       "_view_count": null,
       "_view_module": "@jupyter-widgets/base",
       "_view_module_version": "1.2.0",
       "_view_name": "LayoutView",
       "align_content": null,
       "align_items": null,
       "align_self": null,
       "border": null,
       "bottom": null,
       "display": null,
       "flex": null,
       "flex_flow": null,
       "grid_area": null,
       "grid_auto_columns": null,
       "grid_auto_flow": null,
       "grid_auto_rows": null,
       "grid_column": null,
       "grid_gap": null,
       "grid_row": null,
       "grid_template_areas": null,
       "grid_template_columns": null,
       "grid_template_rows": null,
       "height": null,
       "justify_content": null,
       "justify_items": null,
       "left": null,
       "margin": null,
       "max_height": null,
       "max_width": null,
       "min_height": null,
       "min_width": null,
       "object_fit": null,
       "object_position": null,
       "order": null,
       "overflow": null,
       "overflow_x": null,
       "overflow_y": null,
       "padding": null,
       "right": null,
       "top": null,
       "visibility": null,
       "width": null
      }
     },
     "5d5f297f4e8c4bc0ac7c2e645a0949dd": {
      "model_module": "@jupyter-widgets/base",
      "model_module_version": "1.2.0",
      "model_name": "LayoutModel",
      "state": {
       "_model_module": "@jupyter-widgets/base",
       "_model_module_version": "1.2.0",
       "_model_name": "LayoutModel",
       "_view_count": null,
       "_view_module": "@jupyter-widgets/base",
       "_view_module_version": "1.2.0",
       "_view_name": "LayoutView",
       "align_content": null,
       "align_items": null,
       "align_self": null,
       "border": null,
       "bottom": null,
       "display": null,
       "flex": null,
       "flex_flow": null,
       "grid_area": null,
       "grid_auto_columns": null,
       "grid_auto_flow": null,
       "grid_auto_rows": null,
       "grid_column": null,
       "grid_gap": null,
       "grid_row": null,
       "grid_template_areas": null,
       "grid_template_columns": null,
       "grid_template_rows": null,
       "height": null,
       "justify_content": null,
       "justify_items": null,
       "left": null,
       "margin": null,
       "max_height": null,
       "max_width": null,
       "min_height": null,
       "min_width": null,
       "object_fit": null,
       "object_position": null,
       "order": null,
       "overflow": null,
       "overflow_x": null,
       "overflow_y": null,
       "padding": null,
       "right": null,
       "top": null,
       "visibility": null,
       "width": null
      }
     },
     "63683e51c1dd4e6eb0ce1f8481c6fe55": {
      "model_module": "@jupyter-widgets/controls",
      "model_module_version": "1.5.0",
      "model_name": "HTMLModel",
      "state": {
       "_dom_classes": [],
       "_model_module": "@jupyter-widgets/controls",
       "_model_module_version": "1.5.0",
       "_model_name": "HTMLModel",
       "_view_count": null,
       "_view_module": "@jupyter-widgets/controls",
       "_view_module_version": "1.5.0",
       "_view_name": "HTMLView",
       "description": "",
       "description_tooltip": null,
       "layout": "IPY_MODEL_38db051f11df473197791cb173fb6fe4",
       "placeholder": "​",
       "style": "IPY_MODEL_76607ad20e9c43fcb447e4cc820501e3",
       "value": "100%"
      }
     },
     "64bb708e5bcb4e3e90d0fa74d7c7a3e0": {
      "model_module": "@jupyter-widgets/base",
      "model_module_version": "1.2.0",
      "model_name": "LayoutModel",
      "state": {
       "_model_module": "@jupyter-widgets/base",
       "_model_module_version": "1.2.0",
       "_model_name": "LayoutModel",
       "_view_count": null,
       "_view_module": "@jupyter-widgets/base",
       "_view_module_version": "1.2.0",
       "_view_name": "LayoutView",
       "align_content": null,
       "align_items": null,
       "align_self": null,
       "border": null,
       "bottom": null,
       "display": null,
       "flex": null,
       "flex_flow": null,
       "grid_area": null,
       "grid_auto_columns": null,
       "grid_auto_flow": null,
       "grid_auto_rows": null,
       "grid_column": null,
       "grid_gap": null,
       "grid_row": null,
       "grid_template_areas": null,
       "grid_template_columns": null,
       "grid_template_rows": null,
       "height": null,
       "justify_content": null,
       "justify_items": null,
       "left": null,
       "margin": null,
       "max_height": null,
       "max_width": null,
       "min_height": null,
       "min_width": null,
       "object_fit": null,
       "object_position": null,
       "order": null,
       "overflow": null,
       "overflow_x": null,
       "overflow_y": null,
       "padding": null,
       "right": null,
       "top": null,
       "visibility": null,
       "width": null
      }
     },
     "6ab032ece63745d486fcd0fd0c30a388": {
      "model_module": "@jupyter-widgets/controls",
      "model_module_version": "1.5.0",
      "model_name": "HTMLModel",
      "state": {
       "_dom_classes": [],
       "_model_module": "@jupyter-widgets/controls",
       "_model_module_version": "1.5.0",
       "_model_name": "HTMLModel",
       "_view_count": null,
       "_view_module": "@jupyter-widgets/controls",
       "_view_module_version": "1.5.0",
       "_view_name": "HTMLView",
       "description": "",
       "description_tooltip": null,
       "layout": "IPY_MODEL_23fcbdaded4143feac0f28deb0412499",
       "placeholder": "​",
       "style": "IPY_MODEL_14d189568a51495397eef4f0d5762267",
       "value": " 99059/99059 [00:01&lt;00:00, 113087.25it/s]"
      }
     },
     "6b288c64b4c3429992108c5801547aec": {
      "model_module": "@jupyter-widgets/controls",
      "model_module_version": "1.5.0",
      "model_name": "ProgressStyleModel",
      "state": {
       "_model_module": "@jupyter-widgets/controls",
       "_model_module_version": "1.5.0",
       "_model_name": "ProgressStyleModel",
       "_view_count": null,
       "_view_module": "@jupyter-widgets/base",
       "_view_module_version": "1.2.0",
       "_view_name": "StyleView",
       "bar_color": null,
       "description_width": ""
      }
     },
     "6ea4cdce4cdf4319b6b4849ec2342b0b": {
      "model_module": "@jupyter-widgets/controls",
      "model_module_version": "1.5.0",
      "model_name": "ProgressStyleModel",
      "state": {
       "_model_module": "@jupyter-widgets/controls",
       "_model_module_version": "1.5.0",
       "_model_name": "ProgressStyleModel",
       "_view_count": null,
       "_view_module": "@jupyter-widgets/base",
       "_view_module_version": "1.2.0",
       "_view_name": "StyleView",
       "bar_color": null,
       "description_width": ""
      }
     },
     "6fb69529823647e8aa9cafd75a1a4f3b": {
      "model_module": "@jupyter-widgets/controls",
      "model_module_version": "1.5.0",
      "model_name": "HTMLModel",
      "state": {
       "_dom_classes": [],
       "_model_module": "@jupyter-widgets/controls",
       "_model_module_version": "1.5.0",
       "_model_name": "HTMLModel",
       "_view_count": null,
       "_view_module": "@jupyter-widgets/controls",
       "_view_module_version": "1.5.0",
       "_view_name": "HTMLView",
       "description": "",
       "description_tooltip": null,
       "layout": "IPY_MODEL_2e88ee2d6928474db3db3f63e5da5b6e",
       "placeholder": "​",
       "style": "IPY_MODEL_c76bf4aab1b7412c9a4f88e58ead22e7",
       "value": "100%"
      }
     },
     "7259fc0e52a44932a73bc94c8ec56dd3": {
      "model_module": "@jupyter-widgets/controls",
      "model_module_version": "1.5.0",
      "model_name": "HBoxModel",
      "state": {
       "_dom_classes": [],
       "_model_module": "@jupyter-widgets/controls",
       "_model_module_version": "1.5.0",
       "_model_name": "HBoxModel",
       "_view_count": null,
       "_view_module": "@jupyter-widgets/controls",
       "_view_module_version": "1.5.0",
       "_view_name": "HBoxView",
       "box_style": "",
       "children": [
        "IPY_MODEL_99a4187bba074f6cad47eec3e7f3caf9",
        "IPY_MODEL_9c2ebd17cda64d86889b9bdefd0ac2c0",
        "IPY_MODEL_397a30a8980049f98b6865fe245adeb1"
       ],
       "layout": "IPY_MODEL_78a78e1d55054ec4bf81f538b4ef0caa"
      }
     },
     "76607ad20e9c43fcb447e4cc820501e3": {
      "model_module": "@jupyter-widgets/controls",
      "model_module_version": "1.5.0",
      "model_name": "DescriptionStyleModel",
      "state": {
       "_model_module": "@jupyter-widgets/controls",
       "_model_module_version": "1.5.0",
       "_model_name": "DescriptionStyleModel",
       "_view_count": null,
       "_view_module": "@jupyter-widgets/base",
       "_view_module_version": "1.2.0",
       "_view_name": "StyleView",
       "description_width": ""
      }
     },
     "78a78e1d55054ec4bf81f538b4ef0caa": {
      "model_module": "@jupyter-widgets/base",
      "model_module_version": "1.2.0",
      "model_name": "LayoutModel",
      "state": {
       "_model_module": "@jupyter-widgets/base",
       "_model_module_version": "1.2.0",
       "_model_name": "LayoutModel",
       "_view_count": null,
       "_view_module": "@jupyter-widgets/base",
       "_view_module_version": "1.2.0",
       "_view_name": "LayoutView",
       "align_content": null,
       "align_items": null,
       "align_self": null,
       "border": null,
       "bottom": null,
       "display": null,
       "flex": null,
       "flex_flow": null,
       "grid_area": null,
       "grid_auto_columns": null,
       "grid_auto_flow": null,
       "grid_auto_rows": null,
       "grid_column": null,
       "grid_gap": null,
       "grid_row": null,
       "grid_template_areas": null,
       "grid_template_columns": null,
       "grid_template_rows": null,
       "height": null,
       "justify_content": null,
       "justify_items": null,
       "left": null,
       "margin": null,
       "max_height": null,
       "max_width": null,
       "min_height": null,
       "min_width": null,
       "object_fit": null,
       "object_position": null,
       "order": null,
       "overflow": null,
       "overflow_x": null,
       "overflow_y": null,
       "padding": null,
       "right": null,
       "top": null,
       "visibility": null,
       "width": null
      }
     },
     "78e75d9081524af4889d60d0c21b549b": {
      "model_module": "@jupyter-widgets/controls",
      "model_module_version": "1.5.0",
      "model_name": "HBoxModel",
      "state": {
       "_dom_classes": [],
       "_model_module": "@jupyter-widgets/controls",
       "_model_module_version": "1.5.0",
       "_model_name": "HBoxModel",
       "_view_count": null,
       "_view_module": "@jupyter-widgets/controls",
       "_view_module_version": "1.5.0",
       "_view_name": "HBoxView",
       "box_style": "",
       "children": [
        "IPY_MODEL_8780f6113b594d3dbbcd91d3f26bb3a4",
        "IPY_MODEL_c217c5efb3544d01ad91823030e0e34d",
        "IPY_MODEL_d278b05a110449029008c976a921516e"
       ],
       "layout": "IPY_MODEL_d4d5020be35749df9f4a6ccfefe42301"
      }
     },
     "7954b06467cd4e9aa131f69b9e080269": {
      "model_module": "@jupyter-widgets/base",
      "model_module_version": "1.2.0",
      "model_name": "LayoutModel",
      "state": {
       "_model_module": "@jupyter-widgets/base",
       "_model_module_version": "1.2.0",
       "_model_name": "LayoutModel",
       "_view_count": null,
       "_view_module": "@jupyter-widgets/base",
       "_view_module_version": "1.2.0",
       "_view_name": "LayoutView",
       "align_content": null,
       "align_items": null,
       "align_self": null,
       "border": null,
       "bottom": null,
       "display": null,
       "flex": null,
       "flex_flow": null,
       "grid_area": null,
       "grid_auto_columns": null,
       "grid_auto_flow": null,
       "grid_auto_rows": null,
       "grid_column": null,
       "grid_gap": null,
       "grid_row": null,
       "grid_template_areas": null,
       "grid_template_columns": null,
       "grid_template_rows": null,
       "height": null,
       "justify_content": null,
       "justify_items": null,
       "left": null,
       "margin": null,
       "max_height": null,
       "max_width": null,
       "min_height": null,
       "min_width": null,
       "object_fit": null,
       "object_position": null,
       "order": null,
       "overflow": null,
       "overflow_x": null,
       "overflow_y": null,
       "padding": null,
       "right": null,
       "top": null,
       "visibility": null,
       "width": null
      }
     },
     "7f4d5ecaade64606a2c70c1f8ce22671": {
      "model_module": "@jupyter-widgets/controls",
      "model_module_version": "1.5.0",
      "model_name": "HTMLModel",
      "state": {
       "_dom_classes": [],
       "_model_module": "@jupyter-widgets/controls",
       "_model_module_version": "1.5.0",
       "_model_name": "HTMLModel",
       "_view_count": null,
       "_view_module": "@jupyter-widgets/controls",
       "_view_module_version": "1.5.0",
       "_view_name": "HTMLView",
       "description": "",
       "description_tooltip": null,
       "layout": "IPY_MODEL_64bb708e5bcb4e3e90d0fa74d7c7a3e0",
       "placeholder": "​",
       "style": "IPY_MODEL_4f3f7a9364ff4155983d8e4631004e0d",
       "value": "100%"
      }
     },
     "84a6267771284b43a8143ba8c3824b39": {
      "model_module": "@jupyter-widgets/base",
      "model_module_version": "1.2.0",
      "model_name": "LayoutModel",
      "state": {
       "_model_module": "@jupyter-widgets/base",
       "_model_module_version": "1.2.0",
       "_model_name": "LayoutModel",
       "_view_count": null,
       "_view_module": "@jupyter-widgets/base",
       "_view_module_version": "1.2.0",
       "_view_name": "LayoutView",
       "align_content": null,
       "align_items": null,
       "align_self": null,
       "border": null,
       "bottom": null,
       "display": null,
       "flex": null,
       "flex_flow": null,
       "grid_area": null,
       "grid_auto_columns": null,
       "grid_auto_flow": null,
       "grid_auto_rows": null,
       "grid_column": null,
       "grid_gap": null,
       "grid_row": null,
       "grid_template_areas": null,
       "grid_template_columns": null,
       "grid_template_rows": null,
       "height": null,
       "justify_content": null,
       "justify_items": null,
       "left": null,
       "margin": null,
       "max_height": null,
       "max_width": null,
       "min_height": null,
       "min_width": null,
       "object_fit": null,
       "object_position": null,
       "order": null,
       "overflow": null,
       "overflow_x": null,
       "overflow_y": null,
       "padding": null,
       "right": null,
       "top": null,
       "visibility": null,
       "width": null
      }
     },
     "8780f6113b594d3dbbcd91d3f26bb3a4": {
      "model_module": "@jupyter-widgets/controls",
      "model_module_version": "1.5.0",
      "model_name": "HTMLModel",
      "state": {
       "_dom_classes": [],
       "_model_module": "@jupyter-widgets/controls",
       "_model_module_version": "1.5.0",
       "_model_name": "HTMLModel",
       "_view_count": null,
       "_view_module": "@jupyter-widgets/controls",
       "_view_module_version": "1.5.0",
       "_view_name": "HTMLView",
       "description": "",
       "description_tooltip": null,
       "layout": "IPY_MODEL_c8fba9ded31c47e984763dbf026484e4",
       "placeholder": "​",
       "style": "IPY_MODEL_fe229b1508ce457c9ac5a6421a51d23f",
       "value": "100%"
      }
     },
     "8abde4e233ed409fb3ceb69567e59f2e": {
      "model_module": "@jupyter-widgets/controls",
      "model_module_version": "1.5.0",
      "model_name": "HBoxModel",
      "state": {
       "_dom_classes": [],
       "_model_module": "@jupyter-widgets/controls",
       "_model_module_version": "1.5.0",
       "_model_name": "HBoxModel",
       "_view_count": null,
       "_view_module": "@jupyter-widgets/controls",
       "_view_module_version": "1.5.0",
       "_view_name": "HBoxView",
       "box_style": "",
       "children": [
        "IPY_MODEL_63683e51c1dd4e6eb0ce1f8481c6fe55",
        "IPY_MODEL_053506e6a0844bd294625243b677834b",
        "IPY_MODEL_6ab032ece63745d486fcd0fd0c30a388"
       ],
       "layout": "IPY_MODEL_4a1455ffdf3a44458c035571553b0e18"
      }
     },
     "8cc409384bd4485e8b6f59e1cfc7be88": {
      "model_module": "@jupyter-widgets/controls",
      "model_module_version": "1.5.0",
      "model_name": "FloatProgressModel",
      "state": {
       "_dom_classes": [],
       "_model_module": "@jupyter-widgets/controls",
       "_model_module_version": "1.5.0",
       "_model_name": "FloatProgressModel",
       "_view_count": null,
       "_view_module": "@jupyter-widgets/controls",
       "_view_module_version": "1.5.0",
       "_view_name": "ProgressView",
       "bar_style": "success",
       "description": "",
       "description_tooltip": null,
       "layout": "IPY_MODEL_5d5f297f4e8c4bc0ac7c2e645a0949dd",
       "max": 250,
       "min": 0,
       "orientation": "horizontal",
       "style": "IPY_MODEL_90001106e20341d190e7416d4dd30fbc",
       "value": 250
      }
     },
     "90001106e20341d190e7416d4dd30fbc": {
      "model_module": "@jupyter-widgets/controls",
      "model_module_version": "1.5.0",
      "model_name": "ProgressStyleModel",
      "state": {
       "_model_module": "@jupyter-widgets/controls",
       "_model_module_version": "1.5.0",
       "_model_name": "ProgressStyleModel",
       "_view_count": null,
       "_view_module": "@jupyter-widgets/base",
       "_view_module_version": "1.2.0",
       "_view_name": "StyleView",
       "bar_color": null,
       "description_width": ""
      }
     },
     "94076818f059424aa869591380c9180f": {
      "model_module": "@jupyter-widgets/base",
      "model_module_version": "1.2.0",
      "model_name": "LayoutModel",
      "state": {
       "_model_module": "@jupyter-widgets/base",
       "_model_module_version": "1.2.0",
       "_model_name": "LayoutModel",
       "_view_count": null,
       "_view_module": "@jupyter-widgets/base",
       "_view_module_version": "1.2.0",
       "_view_name": "LayoutView",
       "align_content": null,
       "align_items": null,
       "align_self": null,
       "border": null,
       "bottom": null,
       "display": null,
       "flex": null,
       "flex_flow": null,
       "grid_area": null,
       "grid_auto_columns": null,
       "grid_auto_flow": null,
       "grid_auto_rows": null,
       "grid_column": null,
       "grid_gap": null,
       "grid_row": null,
       "grid_template_areas": null,
       "grid_template_columns": null,
       "grid_template_rows": null,
       "height": null,
       "justify_content": null,
       "justify_items": null,
       "left": null,
       "margin": null,
       "max_height": null,
       "max_width": null,
       "min_height": null,
       "min_width": null,
       "object_fit": null,
       "object_position": null,
       "order": null,
       "overflow": null,
       "overflow_x": null,
       "overflow_y": null,
       "padding": null,
       "right": null,
       "top": null,
       "visibility": null,
       "width": null
      }
     },
     "965952e288da4d628f6a18aabef004ab": {
      "model_module": "@jupyter-widgets/controls",
      "model_module_version": "1.5.0",
      "model_name": "HBoxModel",
      "state": {
       "_dom_classes": [],
       "_model_module": "@jupyter-widgets/controls",
       "_model_module_version": "1.5.0",
       "_model_name": "HBoxModel",
       "_view_count": null,
       "_view_module": "@jupyter-widgets/controls",
       "_view_module_version": "1.5.0",
       "_view_name": "HBoxView",
       "box_style": "",
       "children": [
        "IPY_MODEL_0bcb60f3219542f6a1c5a60f890ab9d1",
        "IPY_MODEL_8cc409384bd4485e8b6f59e1cfc7be88",
        "IPY_MODEL_bb232acfaed3484d8576972cb5aa2fa2"
       ],
       "layout": "IPY_MODEL_43a9dd9ad9b144dcb427977182a49d90"
      }
     },
     "9974feb9329a414c989e5dd57a28d12c": {
      "model_module": "@jupyter-widgets/controls",
      "model_module_version": "1.5.0",
      "model_name": "DescriptionStyleModel",
      "state": {
       "_model_module": "@jupyter-widgets/controls",
       "_model_module_version": "1.5.0",
       "_model_name": "DescriptionStyleModel",
       "_view_count": null,
       "_view_module": "@jupyter-widgets/base",
       "_view_module_version": "1.2.0",
       "_view_name": "StyleView",
       "description_width": ""
      }
     },
     "99a4187bba074f6cad47eec3e7f3caf9": {
      "model_module": "@jupyter-widgets/controls",
      "model_module_version": "1.5.0",
      "model_name": "HTMLModel",
      "state": {
       "_dom_classes": [],
       "_model_module": "@jupyter-widgets/controls",
       "_model_module_version": "1.5.0",
       "_model_name": "HTMLModel",
       "_view_count": null,
       "_view_module": "@jupyter-widgets/controls",
       "_view_module_version": "1.5.0",
       "_view_name": "HTMLView",
       "description": "",
       "description_tooltip": null,
       "layout": "IPY_MODEL_1e735d232a1d45deab0536d824643b07",
       "placeholder": "​",
       "style": "IPY_MODEL_419b2c850a724f31879092fa173d2f87",
       "value": "100%"
      }
     },
     "9c2ebd17cda64d86889b9bdefd0ac2c0": {
      "model_module": "@jupyter-widgets/controls",
      "model_module_version": "1.5.0",
      "model_name": "FloatProgressModel",
      "state": {
       "_dom_classes": [],
       "_model_module": "@jupyter-widgets/controls",
       "_model_module_version": "1.5.0",
       "_model_name": "FloatProgressModel",
       "_view_count": null,
       "_view_module": "@jupyter-widgets/controls",
       "_view_module_version": "1.5.0",
       "_view_name": "ProgressView",
       "bar_style": "success",
       "description": "",
       "description_tooltip": null,
       "layout": "IPY_MODEL_a69e158c21ca4693a04e2384cc9c1c74",
       "max": 99059,
       "min": 0,
       "orientation": "horizontal",
       "style": "IPY_MODEL_6ea4cdce4cdf4319b6b4849ec2342b0b",
       "value": 99059
      }
     },
     "9c48fc751c4342d68a4667eb6440a716": {
      "model_module": "@jupyter-widgets/base",
      "model_module_version": "1.2.0",
      "model_name": "LayoutModel",
      "state": {
       "_model_module": "@jupyter-widgets/base",
       "_model_module_version": "1.2.0",
       "_model_name": "LayoutModel",
       "_view_count": null,
       "_view_module": "@jupyter-widgets/base",
       "_view_module_version": "1.2.0",
       "_view_name": "LayoutView",
       "align_content": null,
       "align_items": null,
       "align_self": null,
       "border": null,
       "bottom": null,
       "display": null,
       "flex": null,
       "flex_flow": null,
       "grid_area": null,
       "grid_auto_columns": null,
       "grid_auto_flow": null,
       "grid_auto_rows": null,
       "grid_column": null,
       "grid_gap": null,
       "grid_row": null,
       "grid_template_areas": null,
       "grid_template_columns": null,
       "grid_template_rows": null,
       "height": null,
       "justify_content": null,
       "justify_items": null,
       "left": null,
       "margin": null,
       "max_height": null,
       "max_width": null,
       "min_height": null,
       "min_width": null,
       "object_fit": null,
       "object_position": null,
       "order": null,
       "overflow": null,
       "overflow_x": null,
       "overflow_y": null,
       "padding": null,
       "right": null,
       "top": null,
       "visibility": null,
       "width": null
      }
     },
     "9cf7549d6ed24ec2a52153ff5dd91647": {
      "model_module": "@jupyter-widgets/base",
      "model_module_version": "1.2.0",
      "model_name": "LayoutModel",
      "state": {
       "_model_module": "@jupyter-widgets/base",
       "_model_module_version": "1.2.0",
       "_model_name": "LayoutModel",
       "_view_count": null,
       "_view_module": "@jupyter-widgets/base",
       "_view_module_version": "1.2.0",
       "_view_name": "LayoutView",
       "align_content": null,
       "align_items": null,
       "align_self": null,
       "border": null,
       "bottom": null,
       "display": null,
       "flex": null,
       "flex_flow": null,
       "grid_area": null,
       "grid_auto_columns": null,
       "grid_auto_flow": null,
       "grid_auto_rows": null,
       "grid_column": null,
       "grid_gap": null,
       "grid_row": null,
       "grid_template_areas": null,
       "grid_template_columns": null,
       "grid_template_rows": null,
       "height": null,
       "justify_content": null,
       "justify_items": null,
       "left": null,
       "margin": null,
       "max_height": null,
       "max_width": null,
       "min_height": null,
       "min_width": null,
       "object_fit": null,
       "object_position": null,
       "order": null,
       "overflow": null,
       "overflow_x": null,
       "overflow_y": null,
       "padding": null,
       "right": null,
       "top": null,
       "visibility": null,
       "width": null
      }
     },
     "a69e158c21ca4693a04e2384cc9c1c74": {
      "model_module": "@jupyter-widgets/base",
      "model_module_version": "1.2.0",
      "model_name": "LayoutModel",
      "state": {
       "_model_module": "@jupyter-widgets/base",
       "_model_module_version": "1.2.0",
       "_model_name": "LayoutModel",
       "_view_count": null,
       "_view_module": "@jupyter-widgets/base",
       "_view_module_version": "1.2.0",
       "_view_name": "LayoutView",
       "align_content": null,
       "align_items": null,
       "align_self": null,
       "border": null,
       "bottom": null,
       "display": null,
       "flex": null,
       "flex_flow": null,
       "grid_area": null,
       "grid_auto_columns": null,
       "grid_auto_flow": null,
       "grid_auto_rows": null,
       "grid_column": null,
       "grid_gap": null,
       "grid_row": null,
       "grid_template_areas": null,
       "grid_template_columns": null,
       "grid_template_rows": null,
       "height": null,
       "justify_content": null,
       "justify_items": null,
       "left": null,
       "margin": null,
       "max_height": null,
       "max_width": null,
       "min_height": null,
       "min_width": null,
       "object_fit": null,
       "object_position": null,
       "order": null,
       "overflow": null,
       "overflow_x": null,
       "overflow_y": null,
       "padding": null,
       "right": null,
       "top": null,
       "visibility": null,
       "width": null
      }
     },
     "a790c10a03e24aa0b49d6c0bad75fd80": {
      "model_module": "@jupyter-widgets/controls",
      "model_module_version": "1.5.0",
      "model_name": "ProgressStyleModel",
      "state": {
       "_model_module": "@jupyter-widgets/controls",
       "_model_module_version": "1.5.0",
       "_model_name": "ProgressStyleModel",
       "_view_count": null,
       "_view_module": "@jupyter-widgets/base",
       "_view_module_version": "1.2.0",
       "_view_name": "StyleView",
       "bar_color": null,
       "description_width": ""
      }
     },
     "b28746edbedb4889af390f45af3bc112": {
      "model_module": "@jupyter-widgets/controls",
      "model_module_version": "1.5.0",
      "model_name": "HBoxModel",
      "state": {
       "_dom_classes": [],
       "_model_module": "@jupyter-widgets/controls",
       "_model_module_version": "1.5.0",
       "_model_name": "HBoxModel",
       "_view_count": null,
       "_view_module": "@jupyter-widgets/controls",
       "_view_module_version": "1.5.0",
       "_view_name": "HBoxView",
       "box_style": "",
       "children": [
        "IPY_MODEL_7f4d5ecaade64606a2c70c1f8ce22671",
        "IPY_MODEL_f7ded6a93867439b80c86e8cd85e1d82",
        "IPY_MODEL_e4941e257d7e49d9819481d58b968c5b"
       ],
       "layout": "IPY_MODEL_54d425d1ba7b4446aa1897f0d772fc6b"
      }
     },
     "b32cb2f74b104215abf53ff1250b8665": {
      "model_module": "@jupyter-widgets/controls",
      "model_module_version": "1.5.0",
      "model_name": "ProgressStyleModel",
      "state": {
       "_model_module": "@jupyter-widgets/controls",
       "_model_module_version": "1.5.0",
       "_model_name": "ProgressStyleModel",
       "_view_count": null,
       "_view_module": "@jupyter-widgets/base",
       "_view_module_version": "1.2.0",
       "_view_name": "StyleView",
       "bar_color": null,
       "description_width": ""
      }
     },
     "bb232acfaed3484d8576972cb5aa2fa2": {
      "model_module": "@jupyter-widgets/controls",
      "model_module_version": "1.5.0",
      "model_name": "HTMLModel",
      "state": {
       "_dom_classes": [],
       "_model_module": "@jupyter-widgets/controls",
       "_model_module_version": "1.5.0",
       "_model_name": "HTMLModel",
       "_view_count": null,
       "_view_module": "@jupyter-widgets/controls",
       "_view_module_version": "1.5.0",
       "_view_name": "HTMLView",
       "description": "",
       "description_tooltip": null,
       "layout": "IPY_MODEL_9cf7549d6ed24ec2a52153ff5dd91647",
       "placeholder": "​",
       "style": "IPY_MODEL_9974feb9329a414c989e5dd57a28d12c",
       "value": " 250/250 [00:06&lt;00:00, 38.09it/s]"
      }
     },
     "c217c5efb3544d01ad91823030e0e34d": {
      "model_module": "@jupyter-widgets/controls",
      "model_module_version": "1.5.0",
      "model_name": "FloatProgressModel",
      "state": {
       "_dom_classes": [],
       "_model_module": "@jupyter-widgets/controls",
       "_model_module_version": "1.5.0",
       "_model_name": "FloatProgressModel",
       "_view_count": null,
       "_view_module": "@jupyter-widgets/controls",
       "_view_module_version": "1.5.0",
       "_view_name": "ProgressView",
       "bar_style": "success",
       "description": "",
       "description_tooltip": null,
       "layout": "IPY_MODEL_7954b06467cd4e9aa131f69b9e080269",
       "max": 5,
       "min": 0,
       "orientation": "horizontal",
       "style": "IPY_MODEL_6b288c64b4c3429992108c5801547aec",
       "value": 5
      }
     },
     "c76bf4aab1b7412c9a4f88e58ead22e7": {
      "model_module": "@jupyter-widgets/controls",
      "model_module_version": "1.5.0",
      "model_name": "DescriptionStyleModel",
      "state": {
       "_model_module": "@jupyter-widgets/controls",
       "_model_module_version": "1.5.0",
       "_model_name": "DescriptionStyleModel",
       "_view_count": null,
       "_view_module": "@jupyter-widgets/base",
       "_view_module_version": "1.2.0",
       "_view_name": "StyleView",
       "description_width": ""
      }
     },
     "c8fba9ded31c47e984763dbf026484e4": {
      "model_module": "@jupyter-widgets/base",
      "model_module_version": "1.2.0",
      "model_name": "LayoutModel",
      "state": {
       "_model_module": "@jupyter-widgets/base",
       "_model_module_version": "1.2.0",
       "_model_name": "LayoutModel",
       "_view_count": null,
       "_view_module": "@jupyter-widgets/base",
       "_view_module_version": "1.2.0",
       "_view_name": "LayoutView",
       "align_content": null,
       "align_items": null,
       "align_self": null,
       "border": null,
       "bottom": null,
       "display": null,
       "flex": null,
       "flex_flow": null,
       "grid_area": null,
       "grid_auto_columns": null,
       "grid_auto_flow": null,
       "grid_auto_rows": null,
       "grid_column": null,
       "grid_gap": null,
       "grid_row": null,
       "grid_template_areas": null,
       "grid_template_columns": null,
       "grid_template_rows": null,
       "height": null,
       "justify_content": null,
       "justify_items": null,
       "left": null,
       "margin": null,
       "max_height": null,
       "max_width": null,
       "min_height": null,
       "min_width": null,
       "object_fit": null,
       "object_position": null,
       "order": null,
       "overflow": null,
       "overflow_x": null,
       "overflow_y": null,
       "padding": null,
       "right": null,
       "top": null,
       "visibility": null,
       "width": null
      }
     },
     "cb2ae33ef0484353b2a8c69643633210": {
      "model_module": "@jupyter-widgets/controls",
      "model_module_version": "1.5.0",
      "model_name": "DescriptionStyleModel",
      "state": {
       "_model_module": "@jupyter-widgets/controls",
       "_model_module_version": "1.5.0",
       "_model_name": "DescriptionStyleModel",
       "_view_count": null,
       "_view_module": "@jupyter-widgets/base",
       "_view_module_version": "1.2.0",
       "_view_name": "StyleView",
       "description_width": ""
      }
     },
     "ccfb50614d6f4f14af9f328d3c9e225b": {
      "model_module": "@jupyter-widgets/controls",
      "model_module_version": "1.5.0",
      "model_name": "DescriptionStyleModel",
      "state": {
       "_model_module": "@jupyter-widgets/controls",
       "_model_module_version": "1.5.0",
       "_model_name": "DescriptionStyleModel",
       "_view_count": null,
       "_view_module": "@jupyter-widgets/base",
       "_view_module_version": "1.2.0",
       "_view_name": "StyleView",
       "description_width": ""
      }
     },
     "d278b05a110449029008c976a921516e": {
      "model_module": "@jupyter-widgets/controls",
      "model_module_version": "1.5.0",
      "model_name": "HTMLModel",
      "state": {
       "_dom_classes": [],
       "_model_module": "@jupyter-widgets/controls",
       "_model_module_version": "1.5.0",
       "_model_name": "HTMLModel",
       "_view_count": null,
       "_view_module": "@jupyter-widgets/controls",
       "_view_module_version": "1.5.0",
       "_view_name": "HTMLView",
       "description": "",
       "description_tooltip": null,
       "layout": "IPY_MODEL_94076818f059424aa869591380c9180f",
       "placeholder": "​",
       "style": "IPY_MODEL_33458dff7b6f4a2a85e241ce43978f83",
       "value": " 5/5 [00:08&lt;00:00,  1.80s/it]"
      }
     },
     "d4d5020be35749df9f4a6ccfefe42301": {
      "model_module": "@jupyter-widgets/base",
      "model_module_version": "1.2.0",
      "model_name": "LayoutModel",
      "state": {
       "_model_module": "@jupyter-widgets/base",
       "_model_module_version": "1.2.0",
       "_model_name": "LayoutModel",
       "_view_count": null,
       "_view_module": "@jupyter-widgets/base",
       "_view_module_version": "1.2.0",
       "_view_name": "LayoutView",
       "align_content": null,
       "align_items": null,
       "align_self": null,
       "border": null,
       "bottom": null,
       "display": null,
       "flex": null,
       "flex_flow": null,
       "grid_area": null,
       "grid_auto_columns": null,
       "grid_auto_flow": null,
       "grid_auto_rows": null,
       "grid_column": null,
       "grid_gap": null,
       "grid_row": null,
       "grid_template_areas": null,
       "grid_template_columns": null,
       "grid_template_rows": null,
       "height": null,
       "justify_content": null,
       "justify_items": null,
       "left": null,
       "margin": null,
       "max_height": null,
       "max_width": null,
       "min_height": null,
       "min_width": null,
       "object_fit": null,
       "object_position": null,
       "order": null,
       "overflow": null,
       "overflow_x": null,
       "overflow_y": null,
       "padding": null,
       "right": null,
       "top": null,
       "visibility": null,
       "width": null
      }
     },
     "d87978f9555945d4b39c3c11606796be": {
      "model_module": "@jupyter-widgets/base",
      "model_module_version": "1.2.0",
      "model_name": "LayoutModel",
      "state": {
       "_model_module": "@jupyter-widgets/base",
       "_model_module_version": "1.2.0",
       "_model_name": "LayoutModel",
       "_view_count": null,
       "_view_module": "@jupyter-widgets/base",
       "_view_module_version": "1.2.0",
       "_view_name": "LayoutView",
       "align_content": null,
       "align_items": null,
       "align_self": null,
       "border": null,
       "bottom": null,
       "display": null,
       "flex": null,
       "flex_flow": null,
       "grid_area": null,
       "grid_auto_columns": null,
       "grid_auto_flow": null,
       "grid_auto_rows": null,
       "grid_column": null,
       "grid_gap": null,
       "grid_row": null,
       "grid_template_areas": null,
       "grid_template_columns": null,
       "grid_template_rows": null,
       "height": null,
       "justify_content": null,
       "justify_items": null,
       "left": null,
       "margin": null,
       "max_height": null,
       "max_width": null,
       "min_height": null,
       "min_width": null,
       "object_fit": null,
       "object_position": null,
       "order": null,
       "overflow": null,
       "overflow_x": null,
       "overflow_y": null,
       "padding": null,
       "right": null,
       "top": null,
       "visibility": null,
       "width": null
      }
     },
     "e4941e257d7e49d9819481d58b968c5b": {
      "model_module": "@jupyter-widgets/controls",
      "model_module_version": "1.5.0",
      "model_name": "HTMLModel",
      "state": {
       "_dom_classes": [],
       "_model_module": "@jupyter-widgets/controls",
       "_model_module_version": "1.5.0",
       "_model_name": "HTMLModel",
       "_view_count": null,
       "_view_module": "@jupyter-widgets/controls",
       "_view_module_version": "1.5.0",
       "_view_name": "HTMLView",
       "description": "",
       "description_tooltip": null,
       "layout": "IPY_MODEL_54c206a92fe5421f90dd68b40a26f9e6",
       "placeholder": "​",
       "style": "IPY_MODEL_cb2ae33ef0484353b2a8c69643633210",
       "value": " 65236/65236 [00:38&lt;00:00, 1713.36it/s]"
      }
     },
     "e5dd163382f648f2803963f042e8309a": {
      "model_module": "@jupyter-widgets/controls",
      "model_module_version": "1.5.0",
      "model_name": "FloatProgressModel",
      "state": {
       "_dom_classes": [],
       "_model_module": "@jupyter-widgets/controls",
       "_model_module_version": "1.5.0",
       "_model_name": "FloatProgressModel",
       "_view_count": null,
       "_view_module": "@jupyter-widgets/controls",
       "_view_module_version": "1.5.0",
       "_view_name": "ProgressView",
       "bar_style": "success",
       "description": "",
       "description_tooltip": null,
       "layout": "IPY_MODEL_f5457830ea5e4eecba0117e43714c3de",
       "max": 99059,
       "min": 0,
       "orientation": "horizontal",
       "style": "IPY_MODEL_a790c10a03e24aa0b49d6c0bad75fd80",
       "value": 99059
      }
     },
     "ebe97fbc7956454ea1e778c7004e17c5": {
      "model_module": "@jupyter-widgets/controls",
      "model_module_version": "1.5.0",
      "model_name": "HBoxModel",
      "state": {
       "_dom_classes": [],
       "_model_module": "@jupyter-widgets/controls",
       "_model_module_version": "1.5.0",
       "_model_name": "HBoxModel",
       "_view_count": null,
       "_view_module": "@jupyter-widgets/controls",
       "_view_module_version": "1.5.0",
       "_view_name": "HBoxView",
       "box_style": "",
       "children": [
        "IPY_MODEL_6fb69529823647e8aa9cafd75a1a4f3b",
        "IPY_MODEL_e5dd163382f648f2803963f042e8309a",
        "IPY_MODEL_2bfc3675113d457590b6378912d2dc34"
       ],
       "layout": "IPY_MODEL_9c48fc751c4342d68a4667eb6440a716"
      }
     },
     "ee18c0a3a1cf4487a8e00ccd89bee929": {
      "model_module": "@jupyter-widgets/base",
      "model_module_version": "1.2.0",
      "model_name": "LayoutModel",
      "state": {
       "_model_module": "@jupyter-widgets/base",
       "_model_module_version": "1.2.0",
       "_model_name": "LayoutModel",
       "_view_count": null,
       "_view_module": "@jupyter-widgets/base",
       "_view_module_version": "1.2.0",
       "_view_name": "LayoutView",
       "align_content": null,
       "align_items": null,
       "align_self": null,
       "border": null,
       "bottom": null,
       "display": null,
       "flex": null,
       "flex_flow": null,
       "grid_area": null,
       "grid_auto_columns": null,
       "grid_auto_flow": null,
       "grid_auto_rows": null,
       "grid_column": null,
       "grid_gap": null,
       "grid_row": null,
       "grid_template_areas": null,
       "grid_template_columns": null,
       "grid_template_rows": null,
       "height": null,
       "justify_content": null,
       "justify_items": null,
       "left": null,
       "margin": null,
       "max_height": null,
       "max_width": null,
       "min_height": null,
       "min_width": null,
       "object_fit": null,
       "object_position": null,
       "order": null,
       "overflow": null,
       "overflow_x": null,
       "overflow_y": null,
       "padding": null,
       "right": null,
       "top": null,
       "visibility": null,
       "width": null
      }
     },
     "f5457830ea5e4eecba0117e43714c3de": {
      "model_module": "@jupyter-widgets/base",
      "model_module_version": "1.2.0",
      "model_name": "LayoutModel",
      "state": {
       "_model_module": "@jupyter-widgets/base",
       "_model_module_version": "1.2.0",
       "_model_name": "LayoutModel",
       "_view_count": null,
       "_view_module": "@jupyter-widgets/base",
       "_view_module_version": "1.2.0",
       "_view_name": "LayoutView",
       "align_content": null,
       "align_items": null,
       "align_self": null,
       "border": null,
       "bottom": null,
       "display": null,
       "flex": null,
       "flex_flow": null,
       "grid_area": null,
       "grid_auto_columns": null,
       "grid_auto_flow": null,
       "grid_auto_rows": null,
       "grid_column": null,
       "grid_gap": null,
       "grid_row": null,
       "grid_template_areas": null,
       "grid_template_columns": null,
       "grid_template_rows": null,
       "height": null,
       "justify_content": null,
       "justify_items": null,
       "left": null,
       "margin": null,
       "max_height": null,
       "max_width": null,
       "min_height": null,
       "min_width": null,
       "object_fit": null,
       "object_position": null,
       "order": null,
       "overflow": null,
       "overflow_x": null,
       "overflow_y": null,
       "padding": null,
       "right": null,
       "top": null,
       "visibility": null,
       "width": null
      }
     },
     "f7ded6a93867439b80c86e8cd85e1d82": {
      "model_module": "@jupyter-widgets/controls",
      "model_module_version": "1.5.0",
      "model_name": "FloatProgressModel",
      "state": {
       "_dom_classes": [],
       "_model_module": "@jupyter-widgets/controls",
       "_model_module_version": "1.5.0",
       "_model_name": "FloatProgressModel",
       "_view_count": null,
       "_view_module": "@jupyter-widgets/controls",
       "_view_module_version": "1.5.0",
       "_view_name": "ProgressView",
       "bar_style": "success",
       "description": "",
       "description_tooltip": null,
       "layout": "IPY_MODEL_d87978f9555945d4b39c3c11606796be",
       "max": 65236,
       "min": 0,
       "orientation": "horizontal",
       "style": "IPY_MODEL_43541ee749a4406cb588dbda25a3eb74",
       "value": 65236
      }
     },
     "fe229b1508ce457c9ac5a6421a51d23f": {
      "model_module": "@jupyter-widgets/controls",
      "model_module_version": "1.5.0",
      "model_name": "DescriptionStyleModel",
      "state": {
       "_model_module": "@jupyter-widgets/controls",
       "_model_module_version": "1.5.0",
       "_model_name": "DescriptionStyleModel",
       "_view_count": null,
       "_view_module": "@jupyter-widgets/base",
       "_view_module_version": "1.2.0",
       "_view_name": "StyleView",
       "description_width": ""
      }
     },
     "ffbd40847fd34421a918f64f341044ec": {
      "model_module": "@jupyter-widgets/base",
      "model_module_version": "1.2.0",
      "model_name": "LayoutModel",
      "state": {
       "_model_module": "@jupyter-widgets/base",
       "_model_module_version": "1.2.0",
       "_model_name": "LayoutModel",
       "_view_count": null,
       "_view_module": "@jupyter-widgets/base",
       "_view_module_version": "1.2.0",
       "_view_name": "LayoutView",
       "align_content": null,
       "align_items": null,
       "align_self": null,
       "border": null,
       "bottom": null,
       "display": null,
       "flex": null,
       "flex_flow": null,
       "grid_area": null,
       "grid_auto_columns": null,
       "grid_auto_flow": null,
       "grid_auto_rows": null,
       "grid_column": null,
       "grid_gap": null,
       "grid_row": null,
       "grid_template_areas": null,
       "grid_template_columns": null,
       "grid_template_rows": null,
       "height": null,
       "justify_content": null,
       "justify_items": null,
       "left": null,
       "margin": null,
       "max_height": null,
       "max_width": null,
       "min_height": null,
       "min_width": null,
       "object_fit": null,
       "object_position": null,
       "order": null,
       "overflow": null,
       "overflow_x": null,
       "overflow_y": null,
       "padding": null,
       "right": null,
       "top": null,
       "visibility": null,
       "width": null
      }
     }
    },
    "version_major": 2,
    "version_minor": 0
   }
  }
 },
 "nbformat": 4,
 "nbformat_minor": 5
}
